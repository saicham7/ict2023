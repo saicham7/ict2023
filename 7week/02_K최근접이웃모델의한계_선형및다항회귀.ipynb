{
 "cells": [
  {
   "cell_type": "code",
   "execution_count": 1,
   "id": "973bd6cd",
   "metadata": {},
   "outputs": [],
   "source": [
    "import pandas as pd\n",
    "import numpy as np\n",
    "import matplotlib.pyplot as plt"
   ]
  },
  {
   "cell_type": "code",
   "execution_count": 2,
   "id": "07b8b01f",
   "metadata": {},
   "outputs": [],
   "source": [
    "# 농어 길이(독립변수 input_data)와 무게(종속변수 target_data)\n",
    "perch_length= np.array(\n",
    "    [8.4, 13.7, 15.0, 16.2, 17.4, 18.0, 18.7, 19.0, 19.6, 20.0, \n",
    "     21.0, 21.0, 21.0, 21.3, 22.0, 22.0, 22.0, 22.0, 22.0, 22.5, \n",
    "     22.5, 22.7, 23.0, 23.5, 24.0, 24.0, 24.6, 25.0, 25.6, 26.5, \n",
    "     27.3, 27.5, 27.5, 27.5, 28.0, 28.7, 30.0, 32.8, 34.5, 35.0, \n",
    "     36.5, 36.0, 37.0, 37.0, 39.0, 39.0, 39.0, 40.0, 40.0, 40.0, \n",
    "     40.0, 42.0, 43.0, 43.0, 43.5, 44.0]\n",
    "     )\n",
    "perch_weight = np.array(\n",
    "    [5.9, 32.0, 40.0, 51.5, 70.0, 100.0, 78.0, 80.0, 85.0, 85.0, \n",
    "     110.0, 115.0, 125.0, 130.0, 120.0, 120.0, 130.0, 135.0, 110.0, \n",
    "     130.0, 150.0, 145.0, 150.0, 170.0, 225.0, 145.0, 188.0, 180.0, \n",
    "     197.0, 218.0, 300.0, 260.0, 265.0, 250.0, 250.0, 300.0, 320.0, \n",
    "     514.0, 556.0, 840.0, 685.0, 700.0, 700.0, 690.0, 900.0, 650.0, \n",
    "     820.0, 850.0, 900.0, 1015.0, 820.0, 1100.0, 1000.0, 1100.0, \n",
    "     1000.0, 1000.0]\n",
    "     )"
   ]
  },
  {
   "cell_type": "code",
   "execution_count": 3,
   "id": "51a36813",
   "metadata": {},
   "outputs": [
    {
     "data": {
      "text/plain": [
       "((56,), (56,))"
      ]
     },
     "execution_count": 3,
     "metadata": {},
     "output_type": "execute_result"
    }
   ],
   "source": [
    "perch_length.shape, perch_weight.shape"
   ]
  },
  {
   "cell_type": "code",
   "execution_count": 4,
   "id": "689a5938",
   "metadata": {},
   "outputs": [
    {
     "data": {
      "text/plain": [
       "(56, 1)"
      ]
     },
     "execution_count": 4,
     "metadata": {},
     "output_type": "execute_result"
    }
   ],
   "source": [
    "# 독립변수 이차원으로 변환\n",
    "perch_length = perch_length.reshape(-1,1)\n",
    "perch_length.shape"
   ]
  },
  {
   "cell_type": "code",
   "execution_count": 17,
   "id": "5f2b1e90",
   "metadata": {},
   "outputs": [
    {
     "data": {
      "text/plain": [
       "((42, 1), (14, 1), (42,), (14,))"
      ]
     },
     "execution_count": 17,
     "metadata": {},
     "output_type": "execute_result"
    }
   ],
   "source": [
    "# 훈련/테스트 데이터 분리\n",
    "from sklearn.model_selection import train_test_split\n",
    "train_input, test_input, train_target, test_target = train_test_split(perch_length, perch_weight, random_state=42, test_size=0.25)\n",
    "train_input.shape, test_input.shape, train_target.shape, test_target.shape"
   ]
  },
  {
   "cell_type": "markdown",
   "id": "069a731f",
   "metadata": {},
   "source": [
    "### 모델 훈련하기/평가하기"
   ]
  },
  {
   "cell_type": "code",
   "execution_count": 18,
   "id": "8130b803",
   "metadata": {},
   "outputs": [],
   "source": [
    "from sklearn.neighbors import KNeighborsRegressor as knn\n",
    "knr = knn(n_neighbors=3)"
   ]
  },
  {
   "cell_type": "code",
   "execution_count": 78,
   "id": "c8a8be7f",
   "metadata": {},
   "outputs": [],
   "source": [
    "model = knr.fit(train_input, train_target)"
   ]
  },
  {
   "cell_type": "code",
   "execution_count": 79,
   "id": "147c0fb9",
   "metadata": {},
   "outputs": [
    {
     "name": "stdout",
     "output_type": "stream",
     "text": [
      "0.9804899950518966\n",
      "\n",
      "0.9746459963987609\n"
     ]
    }
   ],
   "source": [
    "train_score = knr.score(train_input,train_target)\n",
    "test_score = knr.score(test_input,test_target)\n",
    "print(train_score)\n",
    "print()\n",
    "print(test_score)"
   ]
  },
  {
   "cell_type": "markdown",
   "id": "165020dc",
   "metadata": {},
   "source": [
    "### 임의의 값 예측하기"
   ]
  },
  {
   "cell_type": "code",
   "execution_count": 80,
   "id": "dff05798",
   "metadata": {},
   "outputs": [
    {
     "data": {
      "text/plain": [
       "array([1033.33333333])"
      ]
     },
     "execution_count": 80,
     "metadata": {},
     "output_type": "execute_result"
    }
   ],
   "source": [
    "## 임의 데이터(길이)로 무게 예측(predict())\n",
    "# - 임의 데이터 : 50\n",
    "\n",
    "temp_pred = model.predict([[50]])\n",
    "temp_pred"
   ]
  },
  {
   "cell_type": "code",
   "execution_count": 81,
   "id": "9594f5b2",
   "metadata": {},
   "outputs": [
    {
     "data": {
      "text/plain": [
       "array([1033.33333333])"
      ]
     },
     "execution_count": 81,
     "metadata": {},
     "output_type": "execute_result"
    }
   ],
   "source": [
    "sample = np.array([50])\n",
    "sample = sample.reshape(-1,1)\n",
    "temp_pred = model.predict(sample)\n",
    "temp_pred"
   ]
  },
  {
   "cell_type": "code",
   "execution_count": 82,
   "id": "297e3e5d",
   "metadata": {},
   "outputs": [],
   "source": [
    "import matplotlib.pyplot as plt"
   ]
  },
  {
   "cell_type": "code",
   "execution_count": 86,
   "id": "74b2512d",
   "metadata": {},
   "outputs": [
    {
     "name": "stdout",
     "output_type": "stream",
     "text": [
      "[[6. 7. 7.]]\n",
      "[[34  8 14]]\n"
     ]
    }
   ],
   "source": [
    "# 임의 데이터(50cm)m와 이웃하는 3개 데이터 : model.kneighbors([[50]])\n",
    "## dist : 이웃의 거리\n",
    "## idx : 이웃의 인덱스\n",
    "# 임의의 데이터와 이웃하는 3개 데이터의 평균값은 약 1033\n",
    "dist, idx = model.kneighbors([[50]])\n",
    "print(dist)\n",
    "print(idx)"
   ]
  },
  {
   "cell_type": "code",
   "execution_count": 87,
   "id": "fed8f90f",
   "metadata": {},
   "outputs": [
    {
     "data": {
      "text/plain": [
       "array([[1000., 1000., 1100.]])"
      ]
     },
     "execution_count": 87,
     "metadata": {},
     "output_type": "execute_result"
    }
   ],
   "source": [
    "# 이웃하는 종속변수 값\n",
    "train_target[idx]"
   ]
  },
  {
   "cell_type": "code",
   "execution_count": 88,
   "id": "3f4b05f9",
   "metadata": {},
   "outputs": [
    {
     "data": {
      "image/png": "[encoded data removed]",
      "text/plain": [
       "<Figure size 700x300 with 1 Axes>"
      ]
     },
     "metadata": {},
     "output_type": "display_data"
    }
   ],
   "source": [
    "plt.figure(figsize=(7,3))\n",
    "plt.scatter(train_input, train_target, color = 'blue', label = 'train')\n",
    "plt.scatter(50,1033, color='green', label='sample')\n",
    "plt.scatter(train_input[idx],train_target[idx], color='red', label ='neighbors')\n",
    "# plt.scatter(train_input[idx,0], train_input[idx,1], color = 'red')\n",
    "plt.legend()\n",
    "plt.show()"
   ]
  },
  {
   "cell_type": "markdown",
   "id": "c2d2d222",
   "metadata": {},
   "source": [
    "### KNN의 회귀모델 예측은 이웃하는 갯수가 가지고 있는 종속변수 값을\n",
    "### 평균한 값이 예측값으로 사용됨"
   ]
  },
  {
   "cell_type": "code",
   "execution_count": 89,
   "id": "01075540",
   "metadata": {},
   "outputs": [
    {
     "name": "stderr",
     "output_type": "stream",
     "text": [
      "C:\\Users\\세종tp\\AppData\\Local\\Temp\\ipykernel_3164\\247572177.py:3: FutureWarning: Using a non-tuple sequence for multidimensional indexing is deprecated; use `arr[tuple(seq)]` instead of `arr[seq]`. In the future this will be interpreted as an array index, `arr[np.array(seq)]`, which will result either in an error or a different result.\n",
      "  np.mean(train_target[[idx]])\n"
     ]
    },
    {
     "data": {
      "text/plain": [
       "1033.3333333333333"
      ]
     },
     "execution_count": 89,
     "metadata": {},
     "output_type": "execute_result"
    }
   ],
   "source": [
    "# KNN의 회귀모델 예측은 이웃하는 갯수가 가지고 있는 종속변수 값을\n",
    "# - 평균한 값이 예측값으로 사용됨\n",
    "np.mean(train_target[[idx]])"
   ]
  },
  {
   "cell_type": "markdown",
   "id": "9f98f78f",
   "metadata": {},
   "source": [
    "#### 임의의 값과 이웃하는 데이터와의  <span style=\"color:red\">거리에 상관없이</span> 추출하기 때문에 예측값이 잘 못 나올수 있음 - <span style=\"color:red\"> 분포범위 내 예측은 가능하나 범위밖 예측은 오류가 발생함</span>\n",
    "### <span style='color:red'>훈련데이터 범위밖의 학습데이터가 들어오면 예측오류 발생</span>"
   ]
  },
  {
   "cell_type": "code",
   "execution_count": 90,
   "id": "de82eac0",
   "metadata": {},
   "outputs": [
    {
     "data": {
      "text/plain": [
       "array([1033.33333333])"
      ]
     },
     "execution_count": 90,
     "metadata": {},
     "output_type": "execute_result"
    }
   ],
   "source": [
    "# 농어의 길이가 100일때 무게는\n",
    "model.predict([[100]])"
   ]
  },
  {
   "cell_type": "code",
   "execution_count": 91,
   "id": "637e184d",
   "metadata": {},
   "outputs": [
    {
     "name": "stdout",
     "output_type": "stream",
     "text": [
      "[[56. 57. 57.]]\n",
      "[[34  8 14]]\n"
     ]
    }
   ],
   "source": [
    "dist, idx = model.kneighbors([[100]])\n",
    "print(dist)\n",
    "print(idx)"
   ]
  },
  {
   "cell_type": "code",
   "execution_count": 92,
   "id": "b7f92f7d",
   "metadata": {},
   "outputs": [
    {
     "data": {
      "image/png": "[encoded data removed]",
      "text/plain": [
       "<Figure size 700x300 with 1 Axes>"
      ]
     },
     "metadata": {},
     "output_type": "display_data"
    }
   ],
   "source": [
    "plt.figure(figsize=(7,3))\n",
    "plt.scatter(train_input, train_target, color = 'blue', label = 'train')\n",
    "plt.scatter(100,1033, color='green', label='sample')\n",
    "plt.scatter(train_input[idx],train_target[idx], color='red', label ='neighbors')\n",
    "# plt.scatter(train_input[idx,0], train_input[idx,1], color = 'red')\n",
    "plt.legend()\n",
    "plt.show()"
   ]
  },
  {
   "cell_type": "markdown",
   "id": "f538c6f6",
   "metadata": {},
   "source": [
    "### KNN의 한계\n",
    "#### - x축(길이)의 크기가 커지더라도 이웃은 가까운것만 체크되기에\n",
    "#### - target값의 범위를 벗어나는 경우 모델로서 사용이 어려워짐\n",
    "#### - 다른 모델을 사용해야함"
   ]
  },
  {
   "cell_type": "markdown",
   "id": "9c4c6d26",
   "metadata": {},
   "source": [
    "# ---"
   ]
  },
  {
   "cell_type": "markdown",
   "id": "3c854c4f",
   "metadata": {},
   "source": [
    "### 선형회귀(linear regression)모델\n",
    "#### 선형회귀모델 : 선형회귀(직선), 다항회귀(곡선), 다중회귀 3가지 모델이 있음\n",
    "#### 다중회귀모델 중 : 특수한 모델로 릿지, 라쏘 모델이 사용됨\n",
    "\n",
    "### 선형회귀모델\n",
    "#### - 훈련과정은 항상 동일 : 데이터분류 > 모델생성 > 훈련 > 평가 > 예측\n",
    "#### - 선형회귀는 비교적 간단하며 성능은 뛰어남\n",
    "#### - 회귀모델 수행 시 초반에 사용됨(모델 비교를 위해서 사용됨)\n",
    "\n",
    "### 선형회귀모델의 역할\n",
    "#### - 하나의 특성을 가장 잘 나타내는 직선을 찾아내는 것"
   ]
  },
  {
   "cell_type": "code",
   "execution_count": 56,
   "id": "9757e311",
   "metadata": {},
   "outputs": [],
   "source": [
    "from sklearn.linear_model import LinearRegression"
   ]
  },
  {
   "cell_type": "code",
   "execution_count": 57,
   "id": "b67e32b0",
   "metadata": {},
   "outputs": [
    {
     "name": "stdout",
     "output_type": "stream",
     "text": [
      "(42, 1)\n",
      "(42,)\n"
     ]
    }
   ],
   "source": [
    "print(train_input.shape)\n",
    "print(train_target.shape)"
   ]
  },
  {
   "cell_type": "code",
   "execution_count": 58,
   "id": "2e2ff3d7",
   "metadata": {},
   "outputs": [],
   "source": [
    "# 모델생성\n",
    "lr = LinearRegression()"
   ]
  },
  {
   "cell_type": "code",
   "execution_count": 93,
   "id": "1a3d291a",
   "metadata": {},
   "outputs": [],
   "source": [
    "# 훈련하기\n",
    "lmodel = lr.fit(train_input, train_target)"
   ]
  },
  {
   "cell_type": "code",
   "execution_count": 94,
   "id": "3277a63d",
   "metadata": {},
   "outputs": [
    {
     "name": "stdout",
     "output_type": "stream",
     "text": [
      "train score : 0.9398463339976041\n",
      "test score : 0.824750312331356\n"
     ]
    }
   ],
   "source": [
    "# 평가하기\n",
    "print('train score :', lmodel.score(train_input, train_target))\n",
    "print('test score :', lmodel.score(test_input, test_target))"
   ]
  },
  {
   "cell_type": "code",
   "execution_count": 95,
   "id": "fd2deee8",
   "metadata": {},
   "outputs": [
    {
     "name": "stdout",
     "output_type": "stream",
     "text": [
      "50cm :  [1241.83860323]\n",
      "100cm :  [3192.69585141]\n"
     ]
    }
   ],
   "source": [
    "# 예측하기\n",
    "print('50cm : ', lmodel.predict([[50]]))\n",
    "print('100cm : ', lmodel.predict([[100]]))"
   ]
  },
  {
   "cell_type": "code",
   "execution_count": 96,
   "id": "bd4b2bda",
   "metadata": {},
   "outputs": [
    {
     "name": "stdout",
     "output_type": "stream",
     "text": [
      "coef : [39.01714496]\n",
      "intercept :  -709.0186449535474\n"
     ]
    }
   ],
   "source": [
    "# 모델 알고리즘 확인하기\n",
    "# 하나의 직선을 그리기 위한 1차 방정식\n",
    "# - 훈련모델의 수행목적은 기울기와 절편을 스스로 알아내는 것임\n",
    "# - 스스로 알라낸 기울기와 절편을 이용해서 학습을 수행\n",
    "\n",
    "# y = a * x + b\n",
    "# y : 종속변수\n",
    "# a : 기울기(coef)\n",
    "# b : 절편 (intercept)\n",
    "# x : 독립변수(임의 값)\n",
    "print('coef :', lmodel.coef_)\n",
    "print('intercept : ', lmodel.intercept_)\n"
   ]
  },
  {
   "cell_type": "markdown",
   "id": "2ca9266e",
   "metadata": {},
   "source": [
    "### 추세선 그리기(모델의 절편과 기울기을 이용)\n",
    "### x값이 0일때 y값(무게)이 마이너스(-)가 나오므로 모델 성능에 문제가 있음"
   ]
  },
  {
   "cell_type": "code",
   "execution_count": 97,
   "id": "28fddecb",
   "metadata": {},
   "outputs": [
    {
     "data": {
      "image/png": "[encoded data removed]",
      "text/plain": [
       "<Figure size 640x480 with 1 Axes>"
      ]
     },
     "metadata": {},
     "output_type": "display_data"
    }
   ],
   "source": [
    "# 절편과 기울기를 그래프로 그리기\n",
    "plt.scatter(train_input, train_target, color='blue', label ='train')\n",
    "plt.scatter(50, 1241.83860323, color='red', label ='sample1')\n",
    "plt.scatter(100, 3192.69585141, color='green', label ='sample2')\n",
    "\n",
    "# 추세선 그리기(절편과 기울기을 이용)\n",
    "# - x축의 길이범위를 15~100으로 그리기\n",
    "# - y축의 길이범위를 15~50으로 그리기\n",
    "\n",
    "plt.plot([0,100], [lr.coef_ * 0 + lr.intercept_, lr.coef_ * 100 + lr.intercept_])\n",
    "plt.legend()\n",
    "plt.show()"
   ]
  },
  {
   "cell_type": "markdown",
   "id": "30e4a19e",
   "metadata": {},
   "source": [
    "### <span style = 'color:red'>다항 회귀모델(곡선)</span>\n",
    "#### <span style = 'color:red'>(용도) 단일선형회귀(컬럼이 하나)에서 추세가 곡선인 경우 복잡도를 높여 성능을 높이고자 하는 경우</span>\n",
    "#### y절편의 값이 음수(-)값을 나타내기에 작은 x값을 이용해서 예측할 경우 \n",
    "#### 음수(-)값을 가지는 무게가 예측될 수 있음\n",
    "#### 무게는 음수가 나올수 없기에\n",
    "#### 선형회귀(직선)모델 보다는 다르 모델을 이용해서 훈련할 필요성이 있음\n",
    "#### 산점도의 분로 중 좌하향에서 중간까지의 분포가 곡선을 나타내기에\n",
    "#### 곡선을 나타내느 다항회귀모델을 사용을 고려해 볼만함\n"
   ]
  },
  {
   "cell_type": "markdown",
   "id": "fb2e4442",
   "metadata": {},
   "source": [
    "---\n",
    "### 2차 방정식 : ax^2 + bx +c\n",
    "### a와 b : 계수\n",
    "### c : y절편"
   ]
  },
  {
   "cell_type": "code",
   "execution_count": null,
   "id": "72496fa4",
   "metadata": {},
   "outputs": [],
   "source": [
    "# 다항 회귀\n",
    "# x값이 2개 이상이 필요\n",
    "# - 종속변수는 그래도 사용됨"
   ]
  },
  {
   "cell_type": "code",
   "execution_count": 98,
   "id": "160e5214",
   "metadata": {},
   "outputs": [
    {
     "data": {
      "text/plain": [
       "9"
      ]
     },
     "execution_count": 98,
     "metadata": {},
     "output_type": "execute_result"
    }
   ],
   "source": [
    "3 **2"
   ]
  },
  {
   "cell_type": "code",
   "execution_count": 101,
   "id": "371cf418",
   "metadata": {},
   "outputs": [
    {
     "data": {
      "text/plain": [
       "array([[9, 3]])"
      ]
     },
     "execution_count": 101,
     "metadata": {},
     "output_type": "execute_result"
    }
   ],
   "source": [
    "# numpy.column_stack : 2차원의 데이터형태를 유지하면서 컬럼을 추가할 때 사용하는 함수\n",
    "np.column_stack((3 ** 2, 3))"
   ]
  },
  {
   "cell_type": "code",
   "execution_count": 103,
   "id": "db298a2a",
   "metadata": {},
   "outputs": [],
   "source": [
    "train_poly = np.column_stack((train_input ** 2, train_input ))\n",
    "test_poly = np.column_stack((test_input ** 2, test_input ))"
   ]
  },
  {
   "cell_type": "code",
   "execution_count": 105,
   "id": "4e73d8f7",
   "metadata": {},
   "outputs": [
    {
     "data": {
      "text/plain": [
       "array([[  70.56,    8.4 ],\n",
       "       [ 324.  ,   18.  ],\n",
       "       [ 756.25,   27.5 ],\n",
       "       [ 453.69,   21.3 ],\n",
       "       [ 506.25,   22.5 ],\n",
       "       [1600.  ,   40.  ],\n",
       "       [ 900.  ,   30.  ],\n",
       "       [ 605.16,   24.6 ],\n",
       "       [1521.  ,   39.  ],\n",
       "       [ 441.  ,   21.  ],\n",
       "       [1892.25,   43.5 ],\n",
       "       [ 262.44,   16.2 ],\n",
       "       [ 784.  ,   28.  ],\n",
       "       [ 745.29,   27.3 ]])"
      ]
     },
     "execution_count": 105,
     "metadata": {},
     "output_type": "execute_result"
    }
   ],
   "source": [
    "test_poly"
   ]
  },
  {
   "cell_type": "code",
   "execution_count": 108,
   "id": "fd1938b9",
   "metadata": {},
   "outputs": [
    {
     "name": "stdout",
     "output_type": "stream",
     "text": [
      "(42, 2)\n",
      "(14, 2)\n"
     ]
    }
   ],
   "source": [
    "print(train_poly.shape)\n",
    "print(test_poly.shape)"
   ]
  },
  {
   "cell_type": "code",
   "execution_count": 109,
   "id": "717730d3",
   "metadata": {},
   "outputs": [
    {
     "data": {
      "text/html": [
       "<style>#sk-container-id-4 {color: black;background-color: white;}#sk-container-id-4 pre{padding: 0;}#sk-container-id-4 div.sk-toggleable {background-color: white;}#sk-container-id-4 label.sk-toggleable__label {cursor: pointer;display: block;width: 100%;margin-bottom: 0;padding: 0.3em;box-sizing: border-box;text-align: center;}#sk-container-id-4 label.sk-toggleable__label-arrow:before {content: \"▸\";float: left;margin-right: 0.25em;color: #696969;}#sk-container-id-4 label.sk-toggleable__label-arrow:hover:before {color: black;}#sk-container-id-4 div.sk-estimator:hover label.sk-toggleable__label-arrow:before {color: black;}#sk-container-id-4 div.sk-toggleable__content {max-height: 0;max-width: 0;overflow: hidden;text-align: left;background-color: #f0f8ff;}#sk-container-id-4 div.sk-toggleable__content pre {margin: 0.2em;color: black;border-radius: 0.25em;background-color: #f0f8ff;}#sk-container-id-4 input.sk-toggleable__control:checked~div.sk-toggleable__content {max-height: 200px;max-width: 100%;overflow: auto;}#sk-container-id-4 input.sk-toggleable__control:checked~label.sk-toggleable__label-arrow:before {content: \"▾\";}#sk-container-id-4 div.sk-estimator input.sk-toggleable__control:checked~label.sk-toggleable__label {background-color: #d4ebff;}#sk-container-id-4 div.sk-label input.sk-toggleable__control:checked~label.sk-toggleable__label {background-color: #d4ebff;}#sk-container-id-4 input.sk-hidden--visually {border: 0;clip: rect(1px 1px 1px 1px);clip: rect(1px, 1px, 1px, 1px);height: 1px;margin: -1px;overflow: hidden;padding: 0;position: absolute;width: 1px;}#sk-container-id-4 div.sk-estimator {font-family: monospace;background-color: #f0f8ff;border: 1px dotted black;border-radius: 0.25em;box-sizing: border-box;margin-bottom: 0.5em;}#sk-container-id-4 div.sk-estimator:hover {background-color: #d4ebff;}#sk-container-id-4 div.sk-parallel-item::after {content: \"\";width: 100%;border-bottom: 1px solid gray;flex-grow: 1;}#sk-container-id-4 div.sk-label:hover label.sk-toggleable__label {background-color: #d4ebff;}#sk-container-id-4 div.sk-serial::before {content: \"\";position: absolute;border-left: 1px solid gray;box-sizing: border-box;top: 0;bottom: 0;left: 50%;z-index: 0;}#sk-container-id-4 div.sk-serial {display: flex;flex-direction: column;align-items: center;background-color: white;padding-right: 0.2em;padding-left: 0.2em;position: relative;}#sk-container-id-4 div.sk-item {position: relative;z-index: 1;}#sk-container-id-4 div.sk-parallel {display: flex;align-items: stretch;justify-content: center;background-color: white;position: relative;}#sk-container-id-4 div.sk-item::before, #sk-container-id-4 div.sk-parallel-item::before {content: \"\";position: absolute;border-left: 1px solid gray;box-sizing: border-box;top: 0;bottom: 0;left: 50%;z-index: -1;}#sk-container-id-4 div.sk-parallel-item {display: flex;flex-direction: column;z-index: 1;position: relative;background-color: white;}#sk-container-id-4 div.sk-parallel-item:first-child::after {align-self: flex-end;width: 50%;}#sk-container-id-4 div.sk-parallel-item:last-child::after {align-self: flex-start;width: 50%;}#sk-container-id-4 div.sk-parallel-item:only-child::after {width: 0;}#sk-container-id-4 div.sk-dashed-wrapped {border: 1px dashed gray;margin: 0 0.4em 0.5em 0.4em;box-sizing: border-box;padding-bottom: 0.4em;background-color: white;}#sk-container-id-4 div.sk-label label {font-family: monospace;font-weight: bold;display: inline-block;line-height: 1.2em;}#sk-container-id-4 div.sk-label-container {text-align: center;}#sk-container-id-4 div.sk-container {/* jupyter's `normalize.less` sets `[hidden] { display: none; }` but bootstrap.min.css set `[hidden] { display: none !important; }` so we also need the `!important` here to be able to override the default hidden behavior on the sphinx rendered scikit-learn.org. See: https://github.com/scikit-learn/scikit-learn/issues/21755 */display: inline-block !important;position: relative;}#sk-container-id-4 div.sk-text-repr-fallback {display: none;}</style><div id=\"sk-container-id-4\" class=\"sk-top-container\"><div class=\"sk-text-repr-fallback\"><pre>LinearRegression()</pre><b>In a Jupyter environment, please rerun this cell to show the HTML representation or trust the notebook. <br />On GitHub, the HTML representation is unable to render, please try loading this page with nbviewer.org.</b></div><div class=\"sk-container\" hidden><div class=\"sk-item\"><div class=\"sk-estimator sk-toggleable\"><input class=\"sk-toggleable__control sk-hidden--visually\" id=\"sk-estimator-id-4\" type=\"checkbox\" checked><label for=\"sk-estimator-id-4\" class=\"sk-toggleable__label sk-toggleable__label-arrow\">LinearRegression</label><div class=\"sk-toggleable__content\"><pre>LinearRegression()</pre></div></div></div></div></div>"
      ],
      "text/plain": [
       "LinearRegression()"
      ]
     },
     "execution_count": 109,
     "metadata": {},
     "output_type": "execute_result"
    }
   ],
   "source": [
    "# 모델생성\n",
    "# - 선형회귀, 다항회귀, 다중회귀의 모델은 하나의 모델(클래스)를 사용\n",
    "# - 사용되는 데이터의 형태에 따라서 선형, 다ㅏ항, 다중회귀로 분류됨\n",
    "# - 모델(클래스)가 데이터의 형태에 따라서 알아서 훈련시킴\n",
    "mmodel = LinearRegression()\n",
    "mmodel"
   ]
  },
  {
   "cell_type": "code",
   "execution_count": 110,
   "id": "db11aebc",
   "metadata": {},
   "outputs": [
    {
     "data": {
      "text/html": [
       "<style>#sk-container-id-5 {color: black;background-color: white;}#sk-container-id-5 pre{padding: 0;}#sk-container-id-5 div.sk-toggleable {background-color: white;}#sk-container-id-5 label.sk-toggleable__label {cursor: pointer;display: block;width: 100%;margin-bottom: 0;padding: 0.3em;box-sizing: border-box;text-align: center;}#sk-container-id-5 label.sk-toggleable__label-arrow:before {content: \"▸\";float: left;margin-right: 0.25em;color: #696969;}#sk-container-id-5 label.sk-toggleable__label-arrow:hover:before {color: black;}#sk-container-id-5 div.sk-estimator:hover label.sk-toggleable__label-arrow:before {color: black;}#sk-container-id-5 div.sk-toggleable__content {max-height: 0;max-width: 0;overflow: hidden;text-align: left;background-color: #f0f8ff;}#sk-container-id-5 div.sk-toggleable__content pre {margin: 0.2em;color: black;border-radius: 0.25em;background-color: #f0f8ff;}#sk-container-id-5 input.sk-toggleable__control:checked~div.sk-toggleable__content {max-height: 200px;max-width: 100%;overflow: auto;}#sk-container-id-5 input.sk-toggleable__control:checked~label.sk-toggleable__label-arrow:before {content: \"▾\";}#sk-container-id-5 div.sk-estimator input.sk-toggleable__control:checked~label.sk-toggleable__label {background-color: #d4ebff;}#sk-container-id-5 div.sk-label input.sk-toggleable__control:checked~label.sk-toggleable__label {background-color: #d4ebff;}#sk-container-id-5 input.sk-hidden--visually {border: 0;clip: rect(1px 1px 1px 1px);clip: rect(1px, 1px, 1px, 1px);height: 1px;margin: -1px;overflow: hidden;padding: 0;position: absolute;width: 1px;}#sk-container-id-5 div.sk-estimator {font-family: monospace;background-color: #f0f8ff;border: 1px dotted black;border-radius: 0.25em;box-sizing: border-box;margin-bottom: 0.5em;}#sk-container-id-5 div.sk-estimator:hover {background-color: #d4ebff;}#sk-container-id-5 div.sk-parallel-item::after {content: \"\";width: 100%;border-bottom: 1px solid gray;flex-grow: 1;}#sk-container-id-5 div.sk-label:hover label.sk-toggleable__label {background-color: #d4ebff;}#sk-container-id-5 div.sk-serial::before {content: \"\";position: absolute;border-left: 1px solid gray;box-sizing: border-box;top: 0;bottom: 0;left: 50%;z-index: 0;}#sk-container-id-5 div.sk-serial {display: flex;flex-direction: column;align-items: center;background-color: white;padding-right: 0.2em;padding-left: 0.2em;position: relative;}#sk-container-id-5 div.sk-item {position: relative;z-index: 1;}#sk-container-id-5 div.sk-parallel {display: flex;align-items: stretch;justify-content: center;background-color: white;position: relative;}#sk-container-id-5 div.sk-item::before, #sk-container-id-5 div.sk-parallel-item::before {content: \"\";position: absolute;border-left: 1px solid gray;box-sizing: border-box;top: 0;bottom: 0;left: 50%;z-index: -1;}#sk-container-id-5 div.sk-parallel-item {display: flex;flex-direction: column;z-index: 1;position: relative;background-color: white;}#sk-container-id-5 div.sk-parallel-item:first-child::after {align-self: flex-end;width: 50%;}#sk-container-id-5 div.sk-parallel-item:last-child::after {align-self: flex-start;width: 50%;}#sk-container-id-5 div.sk-parallel-item:only-child::after {width: 0;}#sk-container-id-5 div.sk-dashed-wrapped {border: 1px dashed gray;margin: 0 0.4em 0.5em 0.4em;box-sizing: border-box;padding-bottom: 0.4em;background-color: white;}#sk-container-id-5 div.sk-label label {font-family: monospace;font-weight: bold;display: inline-block;line-height: 1.2em;}#sk-container-id-5 div.sk-label-container {text-align: center;}#sk-container-id-5 div.sk-container {/* jupyter's `normalize.less` sets `[hidden] { display: none; }` but bootstrap.min.css set `[hidden] { display: none !important; }` so we also need the `!important` here to be able to override the default hidden behavior on the sphinx rendered scikit-learn.org. See: https://github.com/scikit-learn/scikit-learn/issues/21755 */display: inline-block !important;position: relative;}#sk-container-id-5 div.sk-text-repr-fallback {display: none;}</style><div id=\"sk-container-id-5\" class=\"sk-top-container\"><div class=\"sk-text-repr-fallback\"><pre>LinearRegression()</pre><b>In a Jupyter environment, please rerun this cell to show the HTML representation or trust the notebook. <br />On GitHub, the HTML representation is unable to render, please try loading this page with nbviewer.org.</b></div><div class=\"sk-container\" hidden><div class=\"sk-item\"><div class=\"sk-estimator sk-toggleable\"><input class=\"sk-toggleable__control sk-hidden--visually\" id=\"sk-estimator-id-5\" type=\"checkbox\" checked><label for=\"sk-estimator-id-5\" class=\"sk-toggleable__label sk-toggleable__label-arrow\">LinearRegression</label><div class=\"sk-toggleable__content\"><pre>LinearRegression()</pre></div></div></div></div></div>"
      ],
      "text/plain": [
       "LinearRegression()"
      ]
     },
     "execution_count": 110,
     "metadata": {},
     "output_type": "execute_result"
    }
   ],
   "source": [
    "# 훈련하기(다항데이터로 훈련)\n",
    "mmodel.fit(train_poly, train_target)"
   ]
  },
  {
   "cell_type": "code",
   "execution_count": 112,
   "id": "efcc3649",
   "metadata": {},
   "outputs": [
    {
     "name": "stdout",
     "output_type": "stream",
     "text": [
      "train_score :  0.9706807451768623\n",
      "test_score :  0.9775935108325122\n"
     ]
    }
   ],
   "source": [
    "# 평가하기\n",
    "train_score = mmodel.score(train_poly, train_target)\n",
    "test_score = mmodel.score(test_poly, test_target)\n",
    "print('train_score : ', train_score)\n",
    "print('test_score : ', test_score)"
   ]
  },
  {
   "cell_type": "markdown",
   "id": "794247e7",
   "metadata": {},
   "source": [
    "### 다항회귀모델 테스트평가결과훈련평가결과보다 높게 나타남\n",
    "#### - 미미한 과소적합을 나타내고 있음\n"
   ]
  },
  {
   "cell_type": "code",
   "execution_count": 115,
   "id": "c1fca9d9",
   "metadata": {},
   "outputs": [
    {
     "data": {
      "text/plain": [
       "array([1573.98423528])"
      ]
     },
     "execution_count": 115,
     "metadata": {},
     "output_type": "execute_result"
    }
   ],
   "source": [
    "# 예측하기(50cm길이)\n",
    "mmodel.predict([[50 ** 2, 50]])"
   ]
  },
  {
   "cell_type": "code",
   "execution_count": 116,
   "id": "0942e92a",
   "metadata": {},
   "outputs": [
    {
     "name": "stdout",
     "output_type": "stream",
     "text": [
      "coef :  [  1.01433211 -21.55792498]\n",
      "intercept :  116.0502107827827\n"
     ]
    }
   ],
   "source": [
    "# 모델 방정식 추출하기\n",
    "print('coef : ', mmodel.coef_)\n",
    "print('intercept : ', mmodel.intercept_)"
   ]
  },
  {
   "cell_type": "code",
   "execution_count": 119,
   "id": "812d603c",
   "metadata": {},
   "outputs": [
    {
     "data": {
      "text/plain": [
       "(1.0143321093767301, -21.557924978837352)"
      ]
     },
     "execution_count": 119,
     "metadata": {},
     "output_type": "execute_result"
    }
   ],
   "source": [
    "### 2차 방정식 : ax^2 + bx +c\n",
    "mmodel.coef_[0], mmodel.coef_[1]"
   ]
  },
  {
   "cell_type": "code",
   "execution_count": 120,
   "id": "4a2d5ace",
   "metadata": {},
   "outputs": [
    {
     "name": "stdout",
     "output_type": "stream",
     "text": [
      "2500\n",
      "50\n"
     ]
    }
   ],
   "source": [
    "print(50 ** 2)\n",
    "print(50)"
   ]
  },
  {
   "cell_type": "code",
   "execution_count": 130,
   "id": "cac883b9",
   "metadata": {},
   "outputs": [
    {
     "name": "stdout",
     "output_type": "stream",
     "text": [
      "1573.9842352827402\n"
     ]
    }
   ],
   "source": [
    "# 모델의 계수와 절편을 이용해 임의값(50cm)의 예측값 확인\n",
    "print((2500 * 1.0143321093767301) + ( 50 *  -21.557924978837352) + 116.0502107827827)"
   ]
  },
  {
   "cell_type": "code",
   "execution_count": 137,
   "id": "1c6a36e2",
   "metadata": {},
   "outputs": [
    {
     "data": {
      "text/plain": [
       "-911.1294326902487"
      ]
     },
     "execution_count": 137,
     "metadata": {},
     "output_type": "execute_result"
    }
   ],
   "source": [
    "# y 계산값 만들기\n",
    "ylist = []\n",
    "for i in range(15,51,1):\n",
    "    ss = (mmodel.coef_[0] * i) + (mmodel.coef_[1] * i) + mmodel.intercept_\n",
    "    ylist.append(ss)\n",
    "\n",
    "ss"
   ]
  },
  {
   "cell_type": "code",
   "execution_count": 136,
   "id": "4c63623e",
   "metadata": {},
   "outputs": [
    {
     "data": {
      "text/plain": [
       "array([15, 16, 17, 18, 19, 20, 21, 22, 23, 24, 25, 26, 27, 28, 29, 30, 31,\n",
       "       32, 33, 34, 35, 36, 37, 38, 39, 40, 41, 42, 43, 44, 45, 46, 47, 48,\n",
       "       49, 50])"
      ]
     },
     "execution_count": 136,
     "metadata": {},
     "output_type": "execute_result"
    }
   ],
   "source": [
    "point = np.arange(15,51)\n",
    "point"
   ]
  },
  {
   "cell_type": "code",
   "execution_count": null,
   "id": "b2b0b3bd",
   "metadata": {},
   "outputs": [],
   "source": []
  },
  {
   "cell_type": "code",
   "execution_count": 138,
   "id": "cff4f5d5",
   "metadata": {},
   "outputs": [
    {
     "data": {
      "image/png": "[encoded data removed]",
      "text/plain": [
       "<Figure size 640x480 with 1 Axes>"
      ]
     },
     "metadata": {},
     "output_type": "display_data"
    }
   ],
   "source": [
    "# 예측이 적절한지 시각화\n",
    "# 훈련데이터 그리기\n",
    "plt.scatter(train_input, train_target, color='blue', label =' train')\n",
    "\n",
    "# 50cm 농어 데이터 \n",
    "plt.scatter(50, 1573.9842352827402, color='red', label =' sample')\n",
    "\n",
    "# 추세선 그리기\n",
    "# plt.plot([0,100], [lr.coef_ * 0 + lr.intercept_, lr.coef_ * 100 + lr.intercept_])\n",
    "point = np.arange(15,51)\n",
    "a = mmodel.coef_[0]\n",
    "b = mmodel.coef_[1]\n",
    "c = mmodel.intercept_\n",
    "plt.plot(point, (a*point**2)+(b*point)+c)\n",
    "plt.show()"
   ]
  },
  {
   "cell_type": "markdown",
   "id": "e0c959ff",
   "metadata": {},
   "source": [
    "### 해석\n",
    "#### - 전체적으로 선형회귀모델보다는 다항외귀모델의 평각결과가 높게 나옴\n",
    "#### - 그러나 훈련에 대한 평가결과가 테스트 결과보다 낮게 나옴(과소적합 발생)\n",
    "#### - 큰 차이를 보이지 않는 경우에는 분석가에 따라 그대로 사용하는 경우도 있음\n",
    "#### - 과소적합을 해소하기 위해서는 데이터를 늘리거나 복잡도를 높이는 방법을 사용"
   ]
  },
  {
   "cell_type": "markdown",
   "id": "359deaa1",
   "metadata": {},
   "source": [
    "---\n",
    "### 데이터를 늘리기\n",
    "#### 데이터가 많고 적음의 의미\n",
    "#### - 데이터는 행으로 많은경우 많은 데이터라고 알고 있음\n",
    "#### - 그러나, 컬럼이 많은 경우에도 데이터가 많다고 표현함\n",
    "#### - 행의 데이터는 한계가 있음\n",
    "#### - 데이터의 양을 늘려서 복잡도를 높이는 방법중에 특성(칼럼)을 늘리는 경우도 사요됨(이때 사용되는 방법 : 특성공학의 개념이 사용됨)\n",
    "#### - 독립변수의 갯수(특성의 갯수)를 늘려서 복잡도를 높이는 방법 사용\n",
    "\n",
    "### 다중회귀모델 : 특성이 많은 경우 사용되는 모델"
   ]
  },
  {
   "cell_type": "code",
   "execution_count": null,
   "id": "4c14750c",
   "metadata": {},
   "outputs": [],
   "source": []
  },
  {
   "cell_type": "code",
   "execution_count": null,
   "id": "128cd18a",
   "metadata": {},
   "outputs": [],
   "source": []
  },
  {
   "cell_type": "code",
   "execution_count": null,
   "id": "fc2daa16",
   "metadata": {},
   "outputs": [],
   "source": []
  },
  {
   "cell_type": "code",
   "execution_count": null,
   "id": "ae038ae2",
   "metadata": {},
   "outputs": [],
   "source": []
  },
  {
   "cell_type": "code",
   "execution_count": null,
   "id": "87764ecb",
   "metadata": {},
   "outputs": [],
   "source": []
  }
 ],
 "metadata": {
  "kernelspec": {
   "display_name": "sj_prj",
   "language": "python",
   "name": "sj_prj"
  },
  "language_info": {
   "codemirror_mode": {
    "name": "ipython",
    "version": 3
   },
   "file_extension": ".py",
   "mimetype": "text/x-python",
   "name": "python",
   "nbconvert_exporter": "python",
   "pygments_lexer": "ipython3",
   "version": "3.9.16"
  }
 },
 "nbformat": 4,
 "nbformat_minor": 5
}
