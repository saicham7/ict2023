{
 "cells": [
  {
   "cell_type": "markdown",
   "id": "3484c256",
   "metadata": {},
   "source": [
    "### 다중회귀모델(Multiple Regression)\n",
    "\n",
    "#### 다중회귀모델\n",
    "#### <span style = 'color:red'>(용도) 기존 컬럼의 특성을 파악하고 신규 컬럼을 생성하여 복잡도를 높여 성능을 높이고자 함</span>\n",
    "#### - 여러개의 특성(컬럼)을 사용한 선형회귀모델을 의미함\n",
    "#### - 특성이 많을수록 복잡도를 높일수 있음\n",
    "\n",
    "#### 다중회귀모델의 공식\n",
    "####  y = ax1 + bx2 + cx3 .....n + 절편"
   ]
  },
  {
   "cell_type": "markdown",
   "id": "d0a52d15",
   "metadata": {},
   "source": [
    "### 데이터 가져오기\n"
   ]
  },
  {
   "cell_type": "code",
   "execution_count": 1,
   "id": "13aca408",
   "metadata": {},
   "outputs": [],
   "source": [
    "import pandas as pd\n",
    "import numpy as np\n",
    "import matplotlib.pyplot as plt"
   ]
  },
  {
   "cell_type": "code",
   "execution_count": 5,
   "id": "41b62cb0",
   "metadata": {},
   "outputs": [
    {
     "name": "stdout",
     "output_type": "stream",
     "text": [
      "<class 'pandas.core.frame.DataFrame'>\n",
      "RangeIndex: 56 entries, 0 to 55\n",
      "Data columns (total 3 columns):\n",
      " #   Column   Non-Null Count  Dtype  \n",
      "---  ------   --------------  -----  \n",
      " 0   length   56 non-null     float64\n",
      " 1    height  56 non-null     float64\n",
      " 2    width   56 non-null     float64\n",
      "dtypes: float64(3)\n",
      "memory usage: 1.4 KB\n"
     ]
    },
    {
     "data": {
      "text/html": [
       "<div>\n",
       "<style scoped>\n",
       "    .dataframe tbody tr th:only-of-type {\n",
       "        vertical-align: middle;\n",
       "    }\n",
       "\n",
       "    .dataframe tbody tr th {\n",
       "        vertical-align: top;\n",
       "    }\n",
       "\n",
       "    .dataframe thead th {\n",
       "        text-align: right;\n",
       "    }\n",
       "</style>\n",
       "<table border=\"1\" class=\"dataframe\">\n",
       "  <thead>\n",
       "    <tr style=\"text-align: right;\">\n",
       "      <th></th>\n",
       "      <th>length</th>\n",
       "      <th>height</th>\n",
       "      <th>width</th>\n",
       "    </tr>\n",
       "  </thead>\n",
       "  <tbody>\n",
       "    <tr>\n",
       "      <th>0</th>\n",
       "      <td>8.4</td>\n",
       "      <td>2.11</td>\n",
       "      <td>1.41</td>\n",
       "    </tr>\n",
       "    <tr>\n",
       "      <th>1</th>\n",
       "      <td>13.7</td>\n",
       "      <td>3.53</td>\n",
       "      <td>2.00</td>\n",
       "    </tr>\n",
       "    <tr>\n",
       "      <th>2</th>\n",
       "      <td>15.0</td>\n",
       "      <td>3.82</td>\n",
       "      <td>2.43</td>\n",
       "    </tr>\n",
       "  </tbody>\n",
       "</table>\n",
       "</div>"
      ],
      "text/plain": [
       "   length   height   width\n",
       "0     8.4     2.11    1.41\n",
       "1    13.7     3.53    2.00\n",
       "2    15.0     3.82    2.43"
      ]
     },
     "execution_count": 5,
     "metadata": {},
     "output_type": "execute_result"
    }
   ],
   "source": [
    "df = pd.read_csv('./data/03_농어의_길이_높이_두께_데이터.csv')\n",
    "df.info()\n",
    "df.head(3)"
   ]
  },
  {
   "cell_type": "code",
   "execution_count": 6,
   "id": "b344f241",
   "metadata": {},
   "outputs": [],
   "source": [
    "perch_weight = np.array(\n",
    "    [5.9, 32.0, 40.0, 51.5, 70.0, 100.0, 78.0, 80.0, 85.0, 85.0, \n",
    "     110.0, 115.0, 125.0, 130.0, 120.0, 120.0, 130.0, 135.0, 110.0, \n",
    "     130.0, 150.0, 145.0, 150.0, 170.0, 225.0, 145.0, 188.0, 180.0, \n",
    "     197.0, 218.0, 300.0, 260.0, 265.0, 250.0, 250.0, 300.0, 320.0, \n",
    "     514.0, 556.0, 840.0, 685.0, 700.0, 700.0, 690.0, 900.0, 650.0, \n",
    "     820.0, 850.0, 900.0, 1015.0, 820.0, 1100.0, 1000.0, 1100.0, \n",
    "     1000.0, 1000.0]\n",
    "     )"
   ]
  },
  {
   "cell_type": "markdown",
   "id": "500e5fd4",
   "metadata": {},
   "source": [
    "#### 독립변수(df) : 농어의 길이, 높이, 두께\n",
    "#### 종속변수(perch_weight) : 농어의 무게"
   ]
  },
  {
   "cell_type": "code",
   "execution_count": 7,
   "id": "0d0134d1",
   "metadata": {},
   "outputs": [],
   "source": [
    "# 데이터프레임을 2차원 배열로 변환\n",
    "perch_full = np.array(df)"
   ]
  },
  {
   "cell_type": "code",
   "execution_count": 12,
   "id": "21983234",
   "metadata": {},
   "outputs": [],
   "source": [
    "# 데이터프레임을 2차원 배열로 변환\n",
    "perch_full2 = df.to_numpy()"
   ]
  },
  {
   "cell_type": "markdown",
   "id": "0001144d",
   "metadata": {},
   "source": [
    "### 데이터 분할"
   ]
  },
  {
   "cell_type": "code",
   "execution_count": 13,
   "id": "a3cc5901",
   "metadata": {},
   "outputs": [],
   "source": [
    "from sklearn.model_selection import train_test_split\n",
    "train_input, test_input, train_target, test_target = train_test_split(perch_full, perch_weight, test_size=0.3, random_state=42)"
   ]
  },
  {
   "cell_type": "code",
   "execution_count": 14,
   "id": "8abd3311",
   "metadata": {},
   "outputs": [
    {
     "data": {
      "text/plain": [
       "((39, 3), (17, 3), (39,), (17,))"
      ]
     },
     "execution_count": 14,
     "metadata": {},
     "output_type": "execute_result"
    }
   ],
   "source": [
    "train_input.shape, test_input.shape, train_target.shape, test_target.shape"
   ]
  },
  {
   "cell_type": "markdown",
   "id": "c5f4fe72",
   "metadata": {},
   "source": [
    "### 특성(컬럼)의 개수를 라이브러리가 제공하는 패턴으로 늘리기\n",
    "#### - 기존의 특성을 사용해서 -> 새로운 특성(컬럼)을 만들어내는 작업을 \"특성공학\"이라 함\n",
    "#### - (이유) 모델 정확도를 높이기 위함\n",
    "\n",
    "### 특성을 만드는 방법 : 사이킷런의 변환기 사용\n",
    "#### - 사이킷런은 특성을 만들거나 전처리하기 위한 다양한 클래스 또는 함수가 제공됨\n",
    "#### - 이중 특성을 만들어내는 클래스들이 있으며, 이를 \"변환기\"라고 함\n",
    "\n",
    "###  [ 특성 생성 라이브러리]\n",
    "#### - 사용되는 라이브러리 : sklearn.preprocessing\n",
    "#### - 변환기 클래스 : PolynomialFeatures\n",
    "#### - 자동변환함수 : fit(), transform(), fit_tranform()\n",
    "#### - fit() : 특성을 분석\n",
    "#### - transform(), fit_tranform() : 분석한 결과를 이용해 특성데이터 생성\n",
    "\n",
    "### 특성 생성시 사용되는 데이터\n",
    "#### - 훈련 및 테스트의 독립변수(train_input, test_input)\n",
    "#### - target 데이터는 그대로 유지"
   ]
  },
  {
   "cell_type": "code",
   "execution_count": 15,
   "id": "fc679284",
   "metadata": {},
   "outputs": [],
   "source": [
    "from sklearn.preprocessing import PolynomialFeatures"
   ]
  },
  {
   "cell_type": "code",
   "execution_count": 16,
   "id": "26cba8a1",
   "metadata": {},
   "outputs": [],
   "source": [
    "# 변환기 생성\n",
    "poly = PolynomialFeatures()"
   ]
  },
  {
   "cell_type": "code",
   "execution_count": 17,
   "id": "3e4aeb47",
   "metadata": {},
   "outputs": [],
   "source": [
    "# 임의 데이터로 변환테스트\n",
    "temp_data = [[2,3]]"
   ]
  },
  {
   "cell_type": "code",
   "execution_count": 21,
   "id": "9c0253fa",
   "metadata": {},
   "outputs": [
    {
     "data": {
      "text/html": [
       "<style>#sk-container-id-2 {color: black;background-color: white;}#sk-container-id-2 pre{padding: 0;}#sk-container-id-2 div.sk-toggleable {background-color: white;}#sk-container-id-2 label.sk-toggleable__label {cursor: pointer;display: block;width: 100%;margin-bottom: 0;padding: 0.3em;box-sizing: border-box;text-align: center;}#sk-container-id-2 label.sk-toggleable__label-arrow:before {content: \"▸\";float: left;margin-right: 0.25em;color: #696969;}#sk-container-id-2 label.sk-toggleable__label-arrow:hover:before {color: black;}#sk-container-id-2 div.sk-estimator:hover label.sk-toggleable__label-arrow:before {color: black;}#sk-container-id-2 div.sk-toggleable__content {max-height: 0;max-width: 0;overflow: hidden;text-align: left;background-color: #f0f8ff;}#sk-container-id-2 div.sk-toggleable__content pre {margin: 0.2em;color: black;border-radius: 0.25em;background-color: #f0f8ff;}#sk-container-id-2 input.sk-toggleable__control:checked~div.sk-toggleable__content {max-height: 200px;max-width: 100%;overflow: auto;}#sk-container-id-2 input.sk-toggleable__control:checked~label.sk-toggleable__label-arrow:before {content: \"▾\";}#sk-container-id-2 div.sk-estimator input.sk-toggleable__control:checked~label.sk-toggleable__label {background-color: #d4ebff;}#sk-container-id-2 div.sk-label input.sk-toggleable__control:checked~label.sk-toggleable__label {background-color: #d4ebff;}#sk-container-id-2 input.sk-hidden--visually {border: 0;clip: rect(1px 1px 1px 1px);clip: rect(1px, 1px, 1px, 1px);height: 1px;margin: -1px;overflow: hidden;padding: 0;position: absolute;width: 1px;}#sk-container-id-2 div.sk-estimator {font-family: monospace;background-color: #f0f8ff;border: 1px dotted black;border-radius: 0.25em;box-sizing: border-box;margin-bottom: 0.5em;}#sk-container-id-2 div.sk-estimator:hover {background-color: #d4ebff;}#sk-container-id-2 div.sk-parallel-item::after {content: \"\";width: 100%;border-bottom: 1px solid gray;flex-grow: 1;}#sk-container-id-2 div.sk-label:hover label.sk-toggleable__label {background-color: #d4ebff;}#sk-container-id-2 div.sk-serial::before {content: \"\";position: absolute;border-left: 1px solid gray;box-sizing: border-box;top: 0;bottom: 0;left: 50%;z-index: 0;}#sk-container-id-2 div.sk-serial {display: flex;flex-direction: column;align-items: center;background-color: white;padding-right: 0.2em;padding-left: 0.2em;position: relative;}#sk-container-id-2 div.sk-item {position: relative;z-index: 1;}#sk-container-id-2 div.sk-parallel {display: flex;align-items: stretch;justify-content: center;background-color: white;position: relative;}#sk-container-id-2 div.sk-item::before, #sk-container-id-2 div.sk-parallel-item::before {content: \"\";position: absolute;border-left: 1px solid gray;box-sizing: border-box;top: 0;bottom: 0;left: 50%;z-index: -1;}#sk-container-id-2 div.sk-parallel-item {display: flex;flex-direction: column;z-index: 1;position: relative;background-color: white;}#sk-container-id-2 div.sk-parallel-item:first-child::after {align-self: flex-end;width: 50%;}#sk-container-id-2 div.sk-parallel-item:last-child::after {align-self: flex-start;width: 50%;}#sk-container-id-2 div.sk-parallel-item:only-child::after {width: 0;}#sk-container-id-2 div.sk-dashed-wrapped {border: 1px dashed gray;margin: 0 0.4em 0.5em 0.4em;box-sizing: border-box;padding-bottom: 0.4em;background-color: white;}#sk-container-id-2 div.sk-label label {font-family: monospace;font-weight: bold;display: inline-block;line-height: 1.2em;}#sk-container-id-2 div.sk-label-container {text-align: center;}#sk-container-id-2 div.sk-container {/* jupyter's `normalize.less` sets `[hidden] { display: none; }` but bootstrap.min.css set `[hidden] { display: none !important; }` so we also need the `!important` here to be able to override the default hidden behavior on the sphinx rendered scikit-learn.org. See: https://github.com/scikit-learn/scikit-learn/issues/21755 */display: inline-block !important;position: relative;}#sk-container-id-2 div.sk-text-repr-fallback {display: none;}</style><div id=\"sk-container-id-2\" class=\"sk-top-container\"><div class=\"sk-text-repr-fallback\"><pre>PolynomialFeatures()</pre><b>In a Jupyter environment, please rerun this cell to show the HTML representation or trust the notebook. <br />On GitHub, the HTML representation is unable to render, please try loading this page with nbviewer.org.</b></div><div class=\"sk-container\" hidden><div class=\"sk-item\"><div class=\"sk-estimator sk-toggleable\"><input class=\"sk-toggleable__control sk-hidden--visually\" id=\"sk-estimator-id-2\" type=\"checkbox\" checked><label for=\"sk-estimator-id-2\" class=\"sk-toggleable__label sk-toggleable__label-arrow\">PolynomialFeatures</label><div class=\"sk-toggleable__content\"><pre>PolynomialFeatures()</pre></div></div></div></div></div>"
      ],
      "text/plain": [
       "PolynomialFeatures()"
      ]
     },
     "execution_count": 21,
     "metadata": {},
     "output_type": "execute_result"
    }
   ],
   "source": [
    "# fit()함수를 이용해 특성 파악하여 패턴찾기\n",
    "# - 별도의 garget 데이터는 필요하지 않음\n",
    "poly.fit(temp_data)"
   ]
  },
  {
   "cell_type": "markdown",
   "id": "fd587c9c",
   "metadata": {},
   "source": [
    "### [특성 변환 생성값의 규칙]\n",
    "#### - 첫번째 값 : 1\n",
    "#### - 선형방정식의 y절편값으로 기본값 1이 항상 추가됨\n",
    "#### - 사용하지 않아도 되는 값임\n",
    "------\n",
    "#### - 두번째, 세번째 값 : 2, 3\n",
    "#### - 원래값이 순서대로 들어감\n",
    "-----\n",
    "#### - 네번째 값 : 4\n",
    "#### - 두번째 원래값의 제곱승 : 2 ^ 2\n",
    "-----\n",
    "#### - 다섯번째 값 : 6\n",
    "#### - 원래값 끼리 곱한 값 : 2 *3\n",
    "-----\n",
    "#### - 여섯번째 값 : 9\n",
    "#### - 세번째 원래값의 제곱승 : 3^2"
   ]
  },
  {
   "cell_type": "code",
   "execution_count": 23,
   "id": "c6c87340",
   "metadata": {},
   "outputs": [
    {
     "data": {
      "text/plain": [
       "array([[ 1.,  2.,  3.,  4.,  4.,  6.,  8.,  9., 12., 16.]])"
      ]
     },
     "execution_count": 23,
     "metadata": {},
     "output_type": "execute_result"
    }
   ],
   "source": [
    "# 스스로 찾은 패턴으로 값 변환\n",
    "temp_data = [[2, 3, 4]]\n",
    "poly.fit(temp_data)\n",
    "temp_data_poly = poly.transform(temp_data)\n",
    "temp_data_poly"
   ]
  },
  {
   "cell_type": "markdown",
   "id": "516bf372",
   "metadata": {},
   "source": [
    "### y절편값을 없애고 특성 생성하기\n"
   ]
  },
  {
   "cell_type": "code",
   "execution_count": 25,
   "id": "d4dbd96e",
   "metadata": {},
   "outputs": [
    {
     "data": {
      "text/plain": [
       "array([[  55.    ,   12.49  ,    7.6   , 3025.    ,  686.95  ,  418.    ,\n",
       "         156.0001,   94.924 ,   57.76  ]])"
      ]
     },
     "execution_count": 25,
     "metadata": {},
     "output_type": "execute_result"
    }
   ],
   "source": [
    "temp_data = [[55, 12.49, 7.6]]\n",
    "# 절편 없애기 : include_bias = False\n",
    "poly = PolynomialFeatures(include_bias = False)\n",
    "poly.fit(temp_data)\n",
    "temp_data_poly = poly.transform(temp_data)\n",
    "temp_data_poly"
   ]
  },
  {
   "cell_type": "code",
   "execution_count": 27,
   "id": "9f75d97c",
   "metadata": {},
   "outputs": [
    {
     "data": {
      "text/plain": [
       "(1, 9)"
      ]
     },
     "execution_count": 27,
     "metadata": {},
     "output_type": "execute_result"
    }
   ],
   "source": [
    "temp_data_poly.shape"
   ]
  },
  {
   "cell_type": "code",
   "execution_count": null,
   "id": "c6f7d61d",
   "metadata": {},
   "outputs": [],
   "source": []
  }
 ],
 "metadata": {
  "kernelspec": {
   "display_name": "sj_prj",
   "language": "python",
   "name": "sj_prj"
  },
  "language_info": {
   "codemirror_mode": {
    "name": "ipython",
    "version": 3
   },
   "file_extension": ".py",
   "mimetype": "text/x-python",
   "name": "python",
   "nbconvert_exporter": "python",
   "pygments_lexer": "ipython3",
   "version": "3.9.16"
  }
 },
 "nbformat": 4,
 "nbformat_minor": 5
}
