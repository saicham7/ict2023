{
 "cells": [
  {
   "cell_type": "code",
   "execution_count": 3,
   "id": "aa74803d",
   "metadata": {},
   "outputs": [],
   "source": [
    "import pandas as pd\n",
    "import numpy as np\n",
    "import matplotlib.pyplot as plt"
   ]
  },
  {
   "cell_type": "markdown",
   "id": "fbd72393",
   "metadata": {},
   "source": [
    "### 1.데이터 가져오기"
   ]
  },
  {
   "cell_type": "code",
   "execution_count": 5,
   "id": "0373d478",
   "metadata": {},
   "outputs": [
    {
     "data": {
      "text/html": [
       "<div>\n",
       "<style scoped>\n",
       "    .dataframe tbody tr th:only-of-type {\n",
       "        vertical-align: middle;\n",
       "    }\n",
       "\n",
       "    .dataframe tbody tr th {\n",
       "        vertical-align: top;\n",
       "    }\n",
       "\n",
       "    .dataframe thead th {\n",
       "        text-align: right;\n",
       "    }\n",
       "</style>\n",
       "<table border=\"1\" class=\"dataframe\">\n",
       "  <thead>\n",
       "    <tr style=\"text-align: right;\">\n",
       "      <th></th>\n",
       "      <th>친밀도</th>\n",
       "      <th>적절성</th>\n",
       "      <th>만족도</th>\n",
       "    </tr>\n",
       "  </thead>\n",
       "  <tbody>\n",
       "    <tr>\n",
       "      <th>0</th>\n",
       "      <td>3</td>\n",
       "      <td>4</td>\n",
       "      <td>3</td>\n",
       "    </tr>\n",
       "    <tr>\n",
       "      <th>1</th>\n",
       "      <td>3</td>\n",
       "      <td>3</td>\n",
       "      <td>2</td>\n",
       "    </tr>\n",
       "    <tr>\n",
       "      <th>2</th>\n",
       "      <td>4</td>\n",
       "      <td>4</td>\n",
       "      <td>4</td>\n",
       "    </tr>\n",
       "    <tr>\n",
       "      <th>3</th>\n",
       "      <td>2</td>\n",
       "      <td>2</td>\n",
       "      <td>2</td>\n",
       "    </tr>\n",
       "    <tr>\n",
       "      <th>4</th>\n",
       "      <td>2</td>\n",
       "      <td>2</td>\n",
       "      <td>2</td>\n",
       "    </tr>\n",
       "    <tr>\n",
       "      <th>...</th>\n",
       "      <td>...</td>\n",
       "      <td>...</td>\n",
       "      <td>...</td>\n",
       "    </tr>\n",
       "    <tr>\n",
       "      <th>259</th>\n",
       "      <td>3</td>\n",
       "      <td>4</td>\n",
       "      <td>4</td>\n",
       "    </tr>\n",
       "    <tr>\n",
       "      <th>260</th>\n",
       "      <td>3</td>\n",
       "      <td>4</td>\n",
       "      <td>3</td>\n",
       "    </tr>\n",
       "    <tr>\n",
       "      <th>261</th>\n",
       "      <td>4</td>\n",
       "      <td>4</td>\n",
       "      <td>4</td>\n",
       "    </tr>\n",
       "    <tr>\n",
       "      <th>262</th>\n",
       "      <td>4</td>\n",
       "      <td>4</td>\n",
       "      <td>4</td>\n",
       "    </tr>\n",
       "    <tr>\n",
       "      <th>263</th>\n",
       "      <td>2</td>\n",
       "      <td>3</td>\n",
       "      <td>3</td>\n",
       "    </tr>\n",
       "  </tbody>\n",
       "</table>\n",
       "<p>264 rows × 3 columns</p>\n",
       "</div>"
      ],
      "text/plain": [
       "     친밀도  적절성  만족도\n",
       "0      3    4    3\n",
       "1      3    3    2\n",
       "2      4    4    4\n",
       "3      2    2    2\n",
       "4      2    2    2\n",
       "..   ...  ...  ...\n",
       "259    3    4    4\n",
       "260    3    4    3\n",
       "261    4    4    4\n",
       "262    4    4    4\n",
       "263    2    3    3\n",
       "\n",
       "[264 rows x 3 columns]"
      ]
     },
     "execution_count": 5,
     "metadata": {},
     "output_type": "execute_result"
    }
   ],
   "source": [
    "df = pd.read_csv('./data/04_(문제)_회귀모델_drinking_water.csv')\n",
    "df"
   ]
  },
  {
   "cell_type": "markdown",
   "id": "202a7dc0",
   "metadata": {},
   "source": [
    "### 2. 데이터 전처리"
   ]
  },
  {
   "cell_type": "code",
   "execution_count": 8,
   "id": "2ff4abae",
   "metadata": {},
   "outputs": [
    {
     "name": "stdout",
     "output_type": "stream",
     "text": [
      "<class 'pandas.core.frame.DataFrame'>\n",
      "RangeIndex: 264 entries, 0 to 263\n",
      "Data columns (total 3 columns):\n",
      " #   Column  Non-Null Count  Dtype\n",
      "---  ------  --------------  -----\n",
      " 0   x1      264 non-null    int64\n",
      " 1   x2      264 non-null    int64\n",
      " 2   y       264 non-null    int64\n",
      "dtypes: int64(3)\n",
      "memory usage: 6.3 KB\n"
     ]
    }
   ],
   "source": [
    "col = ['x1', 'x2', 'y']\n",
    "df.columns = col\n",
    "df.info()"
   ]
  },
  {
   "cell_type": "code",
   "execution_count": 11,
   "id": "7ed7aeac",
   "metadata": {},
   "outputs": [
    {
     "data": {
      "text/plain": [
       "array([3, 2, 4, 2, 2, 3, 4, 2, 3, 3, 5, 5, 1, 2, 2, 2, 3, 3, 3, 4, 3, 4,\n",
       "       3, 4, 3, 3, 3, 3, 2, 3, 2, 3, 4, 2, 4, 1, 3, 3, 4, 3, 3, 3, 3, 1,\n",
       "       2, 3, 4, 3, 2, 2, 2, 4, 3, 3, 1, 3, 3, 3, 5, 3, 3, 4, 3, 3, 3, 3,\n",
       "       3, 3, 4, 3, 3, 3, 3, 3, 3, 3, 2, 1, 4, 3, 4, 4, 2, 3, 4, 4, 4, 3,\n",
       "       2, 4, 3, 4, 4, 3, 4, 2, 3, 4, 4, 4, 4, 3, 4, 3, 2, 4, 3, 2, 3, 4,\n",
       "       3, 2, 4, 4, 3, 2, 2, 3, 3, 5, 2, 3, 2, 1, 3, 2, 4, 4, 4, 4, 3, 3,\n",
       "       5, 3, 3, 4, 3, 4, 3, 3, 3, 4, 3, 3, 4, 3, 3, 4, 3, 2, 1, 3, 3, 3,\n",
       "       4, 3, 3, 4, 4, 4, 3, 3, 3, 3, 3, 3, 2, 2, 3, 2, 3, 3, 3, 3, 3, 3,\n",
       "       3, 2, 4, 4, 2, 2, 3, 3, 3, 3, 3, 2, 4, 3, 3, 3, 3, 3, 2, 3, 3, 3,\n",
       "       3, 4, 4, 3, 4, 4, 2, 2, 2, 4, 2, 5, 1, 3, 3, 4, 4, 3, 4, 4, 4, 3,\n",
       "       2, 4, 3, 1, 4, 3, 3, 4, 3, 3, 4, 4, 3, 4, 3, 2, 4, 3, 4, 3, 2, 3,\n",
       "       3, 4, 4, 2, 5, 3, 4, 3, 3, 4, 4, 2, 4, 3, 3, 3, 2, 4, 3, 4, 4, 3],\n",
       "      dtype=int64)"
      ]
     },
     "execution_count": 11,
     "metadata": {},
     "output_type": "execute_result"
    }
   ],
   "source": [
    "x = np.array(df[['x1','x2']])\n",
    "y = np.array(df['y'])\n",
    "y"
   ]
  },
  {
   "cell_type": "markdown",
   "id": "cca48051",
   "metadata": {},
   "source": [
    "#### 2.1. 데이터 분리"
   ]
  },
  {
   "cell_type": "code",
   "execution_count": 14,
   "id": "9a929fe4",
   "metadata": {},
   "outputs": [
    {
     "data": {
      "text/plain": [
       "((184, 2), (80, 2), (184,), (80,))"
      ]
     },
     "execution_count": 14,
     "metadata": {},
     "output_type": "execute_result"
    }
   ],
   "source": [
    "from sklearn.model_selection import train_test_split as ts\n",
    "train_input, test_input, train_target, test_target = ts(x, y, test_size=0.3, random_state=42)\n",
    "train_input.shape, test_input.shape, train_target.shape, test_target.shape"
   ]
  },
  {
   "cell_type": "markdown",
   "id": "9b4ec201",
   "metadata": {},
   "source": [
    "#### 2.2. 특성공학 항목 생성"
   ]
  },
  {
   "cell_type": "code",
   "execution_count": 30,
   "id": "cda722ee",
   "metadata": {},
   "outputs": [
    {
     "data": {
      "text/html": [
       "<style>#sk-container-id-3 {color: black;background-color: white;}#sk-container-id-3 pre{padding: 0;}#sk-container-id-3 div.sk-toggleable {background-color: white;}#sk-container-id-3 label.sk-toggleable__label {cursor: pointer;display: block;width: 100%;margin-bottom: 0;padding: 0.3em;box-sizing: border-box;text-align: center;}#sk-container-id-3 label.sk-toggleable__label-arrow:before {content: \"▸\";float: left;margin-right: 0.25em;color: #696969;}#sk-container-id-3 label.sk-toggleable__label-arrow:hover:before {color: black;}#sk-container-id-3 div.sk-estimator:hover label.sk-toggleable__label-arrow:before {color: black;}#sk-container-id-3 div.sk-toggleable__content {max-height: 0;max-width: 0;overflow: hidden;text-align: left;background-color: #f0f8ff;}#sk-container-id-3 div.sk-toggleable__content pre {margin: 0.2em;color: black;border-radius: 0.25em;background-color: #f0f8ff;}#sk-container-id-3 input.sk-toggleable__control:checked~div.sk-toggleable__content {max-height: 200px;max-width: 100%;overflow: auto;}#sk-container-id-3 input.sk-toggleable__control:checked~label.sk-toggleable__label-arrow:before {content: \"▾\";}#sk-container-id-3 div.sk-estimator input.sk-toggleable__control:checked~label.sk-toggleable__label {background-color: #d4ebff;}#sk-container-id-3 div.sk-label input.sk-toggleable__control:checked~label.sk-toggleable__label {background-color: #d4ebff;}#sk-container-id-3 input.sk-hidden--visually {border: 0;clip: rect(1px 1px 1px 1px);clip: rect(1px, 1px, 1px, 1px);height: 1px;margin: -1px;overflow: hidden;padding: 0;position: absolute;width: 1px;}#sk-container-id-3 div.sk-estimator {font-family: monospace;background-color: #f0f8ff;border: 1px dotted black;border-radius: 0.25em;box-sizing: border-box;margin-bottom: 0.5em;}#sk-container-id-3 div.sk-estimator:hover {background-color: #d4ebff;}#sk-container-id-3 div.sk-parallel-item::after {content: \"\";width: 100%;border-bottom: 1px solid gray;flex-grow: 1;}#sk-container-id-3 div.sk-label:hover label.sk-toggleable__label {background-color: #d4ebff;}#sk-container-id-3 div.sk-serial::before {content: \"\";position: absolute;border-left: 1px solid gray;box-sizing: border-box;top: 0;bottom: 0;left: 50%;z-index: 0;}#sk-container-id-3 div.sk-serial {display: flex;flex-direction: column;align-items: center;background-color: white;padding-right: 0.2em;padding-left: 0.2em;position: relative;}#sk-container-id-3 div.sk-item {position: relative;z-index: 1;}#sk-container-id-3 div.sk-parallel {display: flex;align-items: stretch;justify-content: center;background-color: white;position: relative;}#sk-container-id-3 div.sk-item::before, #sk-container-id-3 div.sk-parallel-item::before {content: \"\";position: absolute;border-left: 1px solid gray;box-sizing: border-box;top: 0;bottom: 0;left: 50%;z-index: -1;}#sk-container-id-3 div.sk-parallel-item {display: flex;flex-direction: column;z-index: 1;position: relative;background-color: white;}#sk-container-id-3 div.sk-parallel-item:first-child::after {align-self: flex-end;width: 50%;}#sk-container-id-3 div.sk-parallel-item:last-child::after {align-self: flex-start;width: 50%;}#sk-container-id-3 div.sk-parallel-item:only-child::after {width: 0;}#sk-container-id-3 div.sk-dashed-wrapped {border: 1px dashed gray;margin: 0 0.4em 0.5em 0.4em;box-sizing: border-box;padding-bottom: 0.4em;background-color: white;}#sk-container-id-3 div.sk-label label {font-family: monospace;font-weight: bold;display: inline-block;line-height: 1.2em;}#sk-container-id-3 div.sk-label-container {text-align: center;}#sk-container-id-3 div.sk-container {/* jupyter's `normalize.less` sets `[hidden] { display: none; }` but bootstrap.min.css set `[hidden] { display: none !important; }` so we also need the `!important` here to be able to override the default hidden behavior on the sphinx rendered scikit-learn.org. See: https://github.com/scikit-learn/scikit-learn/issues/21755 */display: inline-block !important;position: relative;}#sk-container-id-3 div.sk-text-repr-fallback {display: none;}</style><div id=\"sk-container-id-3\" class=\"sk-top-container\"><div class=\"sk-text-repr-fallback\"><pre>PolynomialFeatures(include_bias=False)</pre><b>In a Jupyter environment, please rerun this cell to show the HTML representation or trust the notebook. <br />On GitHub, the HTML representation is unable to render, please try loading this page with nbviewer.org.</b></div><div class=\"sk-container\" hidden><div class=\"sk-item\"><div class=\"sk-estimator sk-toggleable\"><input class=\"sk-toggleable__control sk-hidden--visually\" id=\"sk-estimator-id-3\" type=\"checkbox\" checked><label for=\"sk-estimator-id-3\" class=\"sk-toggleable__label sk-toggleable__label-arrow\">PolynomialFeatures</label><div class=\"sk-toggleable__content\"><pre>PolynomialFeatures(include_bias=False)</pre></div></div></div></div></div>"
      ],
      "text/plain": [
       "PolynomialFeatures(include_bias=False)"
      ]
     },
     "execution_count": 30,
     "metadata": {},
     "output_type": "execute_result"
    }
   ],
   "source": [
    "from sklearn.preprocessing import PolynomialFeatures\n",
    "poly = PolynomialFeatures(include_bias=False)\n",
    "poly.fit(train_input)\n"
   ]
  },
  {
   "cell_type": "code",
   "execution_count": 31,
   "id": "aed73442",
   "metadata": {},
   "outputs": [
    {
     "data": {
      "text/plain": [
       "((184, 5), (80, 5))"
      ]
     },
     "execution_count": 31,
     "metadata": {},
     "output_type": "execute_result"
    }
   ],
   "source": [
    "train_poly = poly.transform(train_input)\n",
    "test_poly = poly.transform(test_input)\n",
    "train_poly.shape, test_poly.shape"
   ]
  },
  {
   "cell_type": "markdown",
   "id": "ddea9491",
   "metadata": {},
   "source": [
    "#### 2.3 항목 정규화"
   ]
  },
  {
   "cell_type": "code",
   "execution_count": 32,
   "id": "9eb46208",
   "metadata": {},
   "outputs": [],
   "source": [
    "from sklearn.preprocessing import StandardScaler\n",
    "std = StandardScaler()\n",
    "std.fit(train_poly)\n",
    "train_scaled = std.transform(train_poly)\n",
    "test_scaled = std.transform(test_poly)"
   ]
  },
  {
   "cell_type": "code",
   "execution_count": 33,
   "id": "0f437eb9",
   "metadata": {},
   "outputs": [
    {
     "data": {
      "text/plain": [
       "((184, 5), (80, 5))"
      ]
     },
     "execution_count": 33,
     "metadata": {},
     "output_type": "execute_result"
    }
   ],
   "source": [
    "train_scaled.shape, test_scaled.shape"
   ]
  },
  {
   "cell_type": "code",
   "execution_count": 34,
   "id": "814f9ba5",
   "metadata": {},
   "outputs": [
    {
     "data": {
      "text/plain": [
       "array([[ 1.14919757, -0.16880606,  1.25202936,  0.48836654, -0.30537538],\n",
       "       [ 0.09193581,  0.98157597, -0.07195571,  0.48836654,  0.98420985],\n",
       "       [ 0.09193581, -0.16880606, -0.07195571, -0.11471697, -0.30537538]])"
      ]
     },
     "execution_count": 34,
     "metadata": {},
     "output_type": "execute_result"
    }
   ],
   "source": [
    "train_scaled[:3]"
   ]
  },
  {
   "cell_type": "markdown",
   "id": "6535453f",
   "metadata": {},
   "source": [
    "### 3.선형, 다항, 다중, 릿지, 라쏘 연습\n",
    "#### - 종속변수 : 만족도\n",
    "#### - 위 모델에서 가장 적합한 모델 선정\n",
    "#### 3.1 모델 호출"
   ]
  },
  {
   "cell_type": "code",
   "execution_count": 35,
   "id": "6539955f",
   "metadata": {},
   "outputs": [],
   "source": [
    "from sklearn.linear_model import Ridge, Lasso, LinearRegression\n",
    "rdg = Ridge()\n",
    "las = Lasso()\n",
    "lr = LinearRegression()"
   ]
  },
  {
   "cell_type": "markdown",
   "id": "a8a6df8f",
   "metadata": {},
   "source": [
    "#### 3.2 모델훈련"
   ]
  },
  {
   "cell_type": "code",
   "execution_count": 36,
   "id": "5f29ca7f",
   "metadata": {},
   "outputs": [
    {
     "data": {
      "text/plain": [
       "(LinearRegression(), Ridge(), Lasso())"
      ]
     },
     "execution_count": 36,
     "metadata": {},
     "output_type": "execute_result"
    }
   ],
   "source": [
    "lr.fit(train_scaled, train_target)\n",
    "rdg.fit(train_scaled, train_target)\n",
    "las.fit(train_scaled, train_target)\n",
    "lr, rdg, las"
   ]
  },
  {
   "cell_type": "markdown",
   "id": "b3986266",
   "metadata": {},
   "source": [
    "#### 3.3 모델평가"
   ]
  },
  {
   "cell_type": "code",
   "execution_count": 37,
   "id": "1595fc9f",
   "metadata": {},
   "outputs": [
    {
     "name": "stdout",
     "output_type": "stream",
     "text": [
      "linear - 훈련용 : 0.6465976870206376\n",
      "linear - 테스트용 : 0.6151771253466051\n",
      "------------------------------------------------------------------------------------------\n",
      "Ridge - 훈련용 : 0.6410485508542437\n",
      "Ridge - 테스트용 : 0.6186493849353689\n",
      "------------------------------------------------------------------------------------------\n",
      "Lasso - 훈련용 : 0.0\n",
      "Lasso - 테스트용 : -0.04627624123298668\n"
     ]
    }
   ],
   "source": [
    "print('linear - 훈련용 :',lr.score(train_scaled, train_target))\n",
    "print('linear - 테스트용 :',lr.score(test_scaled, test_target))\n",
    "print('---------' * 10 )\n",
    "print('Ridge - 훈련용 :',rdg.score(train_scaled, train_target))\n",
    "print('Ridge - 테스트용 :',rdg.score(test_scaled, test_target))\n",
    "print('---------' * 10 )\n",
    "print('Lasso - 훈련용 :',las.score(train_scaled, train_target))\n",
    "print('Lasso - 테스트용 :',las.score(test_scaled, test_target))"
   ]
  },
  {
   "cell_type": "code",
   "execution_count": null,
   "id": "a104bc1e",
   "metadata": {},
   "outputs": [],
   "source": []
  }
 ],
 "metadata": {
  "kernelspec": {
   "display_name": "sj_prj",
   "language": "python",
   "name": "sj_prj"
  },
  "language_info": {
   "codemirror_mode": {
    "name": "ipython",
    "version": 3
   },
   "file_extension": ".py",
   "mimetype": "text/x-python",
   "name": "python",
   "nbconvert_exporter": "python",
   "pygments_lexer": "ipython3",
   "version": "3.9.16"
  }
 },
 "nbformat": 4,
 "nbformat_minor": 5
}
