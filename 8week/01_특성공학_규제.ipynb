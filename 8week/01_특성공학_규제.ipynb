{
 "cells": [
  {
   "cell_type": "markdown",
   "id": "bb15f0f8",
   "metadata": {},
   "source": [
    "#### "
   ]
  },
  {
   "cell_type": "code",
   "execution_count": 1,
   "id": "47b9912a",
   "metadata": {},
   "outputs": [],
   "source": [
    "import pandas as pd\n",
    "import numpy as np"
   ]
  },
  {
   "cell_type": "code",
   "execution_count": 7,
   "id": "3acc1fba",
   "metadata": {},
   "outputs": [
    {
     "data": {
      "text/html": [
       "<div>\n",
       "<style scoped>\n",
       "    .dataframe tbody tr th:only-of-type {\n",
       "        vertical-align: middle;\n",
       "    }\n",
       "\n",
       "    .dataframe tbody tr th {\n",
       "        vertical-align: top;\n",
       "    }\n",
       "\n",
       "    .dataframe thead th {\n",
       "        text-align: right;\n",
       "    }\n",
       "</style>\n",
       "<table border=\"1\" class=\"dataframe\">\n",
       "  <thead>\n",
       "    <tr style=\"text-align: right;\">\n",
       "      <th></th>\n",
       "      <th>length</th>\n",
       "      <th>height</th>\n",
       "      <th>width</th>\n",
       "    </tr>\n",
       "  </thead>\n",
       "  <tbody>\n",
       "    <tr>\n",
       "      <th>0</th>\n",
       "      <td>8.4</td>\n",
       "      <td>2.11</td>\n",
       "      <td>1.41</td>\n",
       "    </tr>\n",
       "    <tr>\n",
       "      <th>1</th>\n",
       "      <td>13.7</td>\n",
       "      <td>3.53</td>\n",
       "      <td>2.00</td>\n",
       "    </tr>\n",
       "    <tr>\n",
       "      <th>2</th>\n",
       "      <td>15.0</td>\n",
       "      <td>3.82</td>\n",
       "      <td>2.43</td>\n",
       "    </tr>\n",
       "  </tbody>\n",
       "</table>\n",
       "</div>"
      ],
      "text/plain": [
       "   length   height   width\n",
       "0     8.4     2.11    1.41\n",
       "1    13.7     3.53    2.00\n",
       "2    15.0     3.82    2.43"
      ]
     },
     "execution_count": 7,
     "metadata": {},
     "output_type": "execute_result"
    }
   ],
   "source": [
    "df = pd.read_csv('./data/03_농어의_길이_높이_두께_데이터.csv')\n",
    "df.head(3)"
   ]
  },
  {
   "cell_type": "code",
   "execution_count": 13,
   "id": "0c06076d",
   "metadata": {},
   "outputs": [
    {
     "data": {
      "text/plain": [
       "array([[ 8.4 ,  2.11,  1.41],\n",
       "       [13.7 ,  3.53,  2.  ],\n",
       "       [15.  ,  3.82,  2.43]])"
      ]
     },
     "execution_count": 13,
     "metadata": {},
     "output_type": "execute_result"
    }
   ],
   "source": [
    "perch_full = np.array(df)\n",
    "perch_full = df.to_numpy()\n",
    "perch_full[:3]"
   ]
  },
  {
   "cell_type": "code",
   "execution_count": 21,
   "id": "04175c16",
   "metadata": {},
   "outputs": [
    {
     "data": {
      "text/plain": [
       "array([ 5.9, 32. , 40. ])"
      ]
     },
     "execution_count": 21,
     "metadata": {},
     "output_type": "execute_result"
    }
   ],
   "source": [
    "## 농어의 무게\n",
    "perch_weight = np.array(\n",
    "    [5.9, 32.0, 40.0, 51.5, 70.0, 100.0, 78.0, 80.0, 85.0, 85.0, \n",
    "     110.0, 115.0, 125.0, 130.0, 120.0, 120.0, 130.0, 135.0, 110.0, \n",
    "     130.0, 150.0, 145.0, 150.0, 170.0, 225.0, 145.0, 188.0, 180.0, \n",
    "     197.0, 218.0, 300.0, 260.0, 265.0, 250.0, 250.0, 300.0, 320.0, \n",
    "     514.0, 556.0, 840.0, 685.0, 700.0, 700.0, 690.0, 900.0, 650.0, \n",
    "     820.0, 850.0, 900.0, 1015.0, 820.0, 1100.0, 1000.0, 1100.0, \n",
    "     1000.0, 1000.0]\n",
    "     )\n",
    "target[:3]"
   ]
  },
  {
   "cell_type": "code",
   "execution_count": 22,
   "id": "1225838e",
   "metadata": {},
   "outputs": [
    {
     "data": {
      "text/plain": [
       "((56,), (56, 3))"
      ]
     },
     "execution_count": 22,
     "metadata": {},
     "output_type": "execute_result"
    }
   ],
   "source": [
    "perch_weight.shape,perch_full.shape"
   ]
  },
  {
   "cell_type": "code",
   "execution_count": 18,
   "id": "33cc514e",
   "metadata": {},
   "outputs": [],
   "source": [
    "from sklearn.model_selection import train_test_split"
   ]
  },
  {
   "cell_type": "code",
   "execution_count": 23,
   "id": "d6187b0d",
   "metadata": {},
   "outputs": [],
   "source": [
    "train_input, test_input, train_taregt, test_target = train_test_split(perch_full, perch_weight, test_size=0.3, random_state=42)"
   ]
  },
  {
   "cell_type": "code",
   "execution_count": 20,
   "id": "bfa45168",
   "metadata": {},
   "outputs": [
    {
     "data": {
      "text/plain": [
       "((39, 3), (17, 3), (39,), (17,))"
      ]
     },
     "execution_count": 20,
     "metadata": {},
     "output_type": "execute_result"
    }
   ],
   "source": [
    "train_input.shape,test_input.shape, train_taregt.shape, test_target.shape"
   ]
  },
  {
   "cell_type": "markdown",
   "id": "0295329a",
   "metadata": {},
   "source": [
    "#### 특성공학을 독립변수에 적용하여 특성(항목) 늘리기\n",
    "#### 훈련데이터 특성공학 적용 변수명 : train_poly\n",
    "#### 테스트데이터 특성공학 적용 변수명 : test_poly\n",
    "#### - 패턴 조합을 찾을때는 훈련데이터를 이용한다\n",
    "####  - 특성공학 생성 제어 : degree(기본값 2)"
   ]
  },
  {
   "cell_type": "code",
   "execution_count": 31,
   "id": "13471447",
   "metadata": {},
   "outputs": [],
   "source": [
    "# 패키지 호출\n",
    "from sklearn.preprocessing import PolynomialFeatures"
   ]
  },
  {
   "cell_type": "code",
   "execution_count": 35,
   "id": "c2156611",
   "metadata": {},
   "outputs": [],
   "source": [
    "# 클래스 생성 - y절편 제거\n",
    "# 특성공학 항목 제어 : degree\n",
    "poly = PolynomialFeatures(include_bias=False)"
   ]
  },
  {
   "cell_type": "code",
   "execution_count": 36,
   "id": "eaf363e1",
   "metadata": {},
   "outputs": [
    {
     "data": {
      "text/plain": [
       "((39, 9), (17, 9))"
      ]
     },
     "execution_count": 36,
     "metadata": {},
     "output_type": "execute_result"
    }
   ],
   "source": [
    "# 패턴 조합 찾기(훈련데이터)\n",
    "# - 패턴 조합을 찾을때는 훈련데이터를 이용한다\n",
    "poly.fit(train_input)\n",
    "\n",
    "# 찾은 패턴 조합으로 훈련데이터 변환\n",
    "train_poly = poly.transform(train_input)\n",
    "# 찾은 패턴 조합으로 테스트데이터 변환\n",
    "test_poly = poly.transform(test_input)\n",
    "\n",
    "train_poly.shape, test_poly.shape\n"
   ]
  },
  {
   "cell_type": "code",
   "execution_count": 37,
   "id": "59d7f3d1",
   "metadata": {},
   "outputs": [
    {
     "data": {
      "text/plain": [
       "array(['x0', 'x1', 'x2', 'x0^2', 'x0 x1', 'x0 x2', 'x1^2', 'x1 x2',\n",
       "       'x2^2'], dtype=object)"
      ]
     },
     "execution_count": 37,
     "metadata": {},
     "output_type": "execute_result"
    }
   ],
   "source": [
    "# 특성의 패턴조합(계산) 확인하기(어떻게 계산이 이루어 졌는지 확인)\n",
    "poly.get_feature_names_out()"
   ]
  },
  {
   "cell_type": "markdown",
   "id": "5516fd64",
   "metadata": {},
   "source": [
    "### 다중회귀 모델(Multiple Regression)\n",
    "#### 독립변수가 여러개\n",
    "#### 다중회귀모델의 공식\n",
    "####  y = ax1 + bx2 + cx3 .....n + 절편"
   ]
  },
  {
   "cell_type": "code",
   "execution_count": 38,
   "id": "1441086c",
   "metadata": {},
   "outputs": [],
   "source": [
    "from sklearn.linear_model import LinearRegression"
   ]
  },
  {
   "cell_type": "code",
   "execution_count": 39,
   "id": "5d7c3bfe",
   "metadata": {},
   "outputs": [
    {
     "data": {
      "text/html": [
       "<style>#sk-container-id-1 {color: black;background-color: white;}#sk-container-id-1 pre{padding: 0;}#sk-container-id-1 div.sk-toggleable {background-color: white;}#sk-container-id-1 label.sk-toggleable__label {cursor: pointer;display: block;width: 100%;margin-bottom: 0;padding: 0.3em;box-sizing: border-box;text-align: center;}#sk-container-id-1 label.sk-toggleable__label-arrow:before {content: \"▸\";float: left;margin-right: 0.25em;color: #696969;}#sk-container-id-1 label.sk-toggleable__label-arrow:hover:before {color: black;}#sk-container-id-1 div.sk-estimator:hover label.sk-toggleable__label-arrow:before {color: black;}#sk-container-id-1 div.sk-toggleable__content {max-height: 0;max-width: 0;overflow: hidden;text-align: left;background-color: #f0f8ff;}#sk-container-id-1 div.sk-toggleable__content pre {margin: 0.2em;color: black;border-radius: 0.25em;background-color: #f0f8ff;}#sk-container-id-1 input.sk-toggleable__control:checked~div.sk-toggleable__content {max-height: 200px;max-width: 100%;overflow: auto;}#sk-container-id-1 input.sk-toggleable__control:checked~label.sk-toggleable__label-arrow:before {content: \"▾\";}#sk-container-id-1 div.sk-estimator input.sk-toggleable__control:checked~label.sk-toggleable__label {background-color: #d4ebff;}#sk-container-id-1 div.sk-label input.sk-toggleable__control:checked~label.sk-toggleable__label {background-color: #d4ebff;}#sk-container-id-1 input.sk-hidden--visually {border: 0;clip: rect(1px 1px 1px 1px);clip: rect(1px, 1px, 1px, 1px);height: 1px;margin: -1px;overflow: hidden;padding: 0;position: absolute;width: 1px;}#sk-container-id-1 div.sk-estimator {font-family: monospace;background-color: #f0f8ff;border: 1px dotted black;border-radius: 0.25em;box-sizing: border-box;margin-bottom: 0.5em;}#sk-container-id-1 div.sk-estimator:hover {background-color: #d4ebff;}#sk-container-id-1 div.sk-parallel-item::after {content: \"\";width: 100%;border-bottom: 1px solid gray;flex-grow: 1;}#sk-container-id-1 div.sk-label:hover label.sk-toggleable__label {background-color: #d4ebff;}#sk-container-id-1 div.sk-serial::before {content: \"\";position: absolute;border-left: 1px solid gray;box-sizing: border-box;top: 0;bottom: 0;left: 50%;z-index: 0;}#sk-container-id-1 div.sk-serial {display: flex;flex-direction: column;align-items: center;background-color: white;padding-right: 0.2em;padding-left: 0.2em;position: relative;}#sk-container-id-1 div.sk-item {position: relative;z-index: 1;}#sk-container-id-1 div.sk-parallel {display: flex;align-items: stretch;justify-content: center;background-color: white;position: relative;}#sk-container-id-1 div.sk-item::before, #sk-container-id-1 div.sk-parallel-item::before {content: \"\";position: absolute;border-left: 1px solid gray;box-sizing: border-box;top: 0;bottom: 0;left: 50%;z-index: -1;}#sk-container-id-1 div.sk-parallel-item {display: flex;flex-direction: column;z-index: 1;position: relative;background-color: white;}#sk-container-id-1 div.sk-parallel-item:first-child::after {align-self: flex-end;width: 50%;}#sk-container-id-1 div.sk-parallel-item:last-child::after {align-self: flex-start;width: 50%;}#sk-container-id-1 div.sk-parallel-item:only-child::after {width: 0;}#sk-container-id-1 div.sk-dashed-wrapped {border: 1px dashed gray;margin: 0 0.4em 0.5em 0.4em;box-sizing: border-box;padding-bottom: 0.4em;background-color: white;}#sk-container-id-1 div.sk-label label {font-family: monospace;font-weight: bold;display: inline-block;line-height: 1.2em;}#sk-container-id-1 div.sk-label-container {text-align: center;}#sk-container-id-1 div.sk-container {/* jupyter's `normalize.less` sets `[hidden] { display: none; }` but bootstrap.min.css set `[hidden] { display: none !important; }` so we also need the `!important` here to be able to override the default hidden behavior on the sphinx rendered scikit-learn.org. See: https://github.com/scikit-learn/scikit-learn/issues/21755 */display: inline-block !important;position: relative;}#sk-container-id-1 div.sk-text-repr-fallback {display: none;}</style><div id=\"sk-container-id-1\" class=\"sk-top-container\"><div class=\"sk-text-repr-fallback\"><pre>LinearRegression()</pre><b>In a Jupyter environment, please rerun this cell to show the HTML representation or trust the notebook. <br />On GitHub, the HTML representation is unable to render, please try loading this page with nbviewer.org.</b></div><div class=\"sk-container\" hidden><div class=\"sk-item\"><div class=\"sk-estimator sk-toggleable\"><input class=\"sk-toggleable__control sk-hidden--visually\" id=\"sk-estimator-id-1\" type=\"checkbox\" checked><label for=\"sk-estimator-id-1\" class=\"sk-toggleable__label sk-toggleable__label-arrow\">LinearRegression</label><div class=\"sk-toggleable__content\"><pre>LinearRegression()</pre></div></div></div></div></div>"
      ],
      "text/plain": [
       "LinearRegression()"
      ]
     },
     "execution_count": 39,
     "metadata": {},
     "output_type": "execute_result"
    }
   ],
   "source": [
    "lr = LinearRegression()\n",
    "lr"
   ]
  },
  {
   "cell_type": "code",
   "execution_count": 40,
   "id": "68ebdf07",
   "metadata": {},
   "outputs": [
    {
     "data": {
      "text/html": [
       "<style>#sk-container-id-2 {color: black;background-color: white;}#sk-container-id-2 pre{padding: 0;}#sk-container-id-2 div.sk-toggleable {background-color: white;}#sk-container-id-2 label.sk-toggleable__label {cursor: pointer;display: block;width: 100%;margin-bottom: 0;padding: 0.3em;box-sizing: border-box;text-align: center;}#sk-container-id-2 label.sk-toggleable__label-arrow:before {content: \"▸\";float: left;margin-right: 0.25em;color: #696969;}#sk-container-id-2 label.sk-toggleable__label-arrow:hover:before {color: black;}#sk-container-id-2 div.sk-estimator:hover label.sk-toggleable__label-arrow:before {color: black;}#sk-container-id-2 div.sk-toggleable__content {max-height: 0;max-width: 0;overflow: hidden;text-align: left;background-color: #f0f8ff;}#sk-container-id-2 div.sk-toggleable__content pre {margin: 0.2em;color: black;border-radius: 0.25em;background-color: #f0f8ff;}#sk-container-id-2 input.sk-toggleable__control:checked~div.sk-toggleable__content {max-height: 200px;max-width: 100%;overflow: auto;}#sk-container-id-2 input.sk-toggleable__control:checked~label.sk-toggleable__label-arrow:before {content: \"▾\";}#sk-container-id-2 div.sk-estimator input.sk-toggleable__control:checked~label.sk-toggleable__label {background-color: #d4ebff;}#sk-container-id-2 div.sk-label input.sk-toggleable__control:checked~label.sk-toggleable__label {background-color: #d4ebff;}#sk-container-id-2 input.sk-hidden--visually {border: 0;clip: rect(1px 1px 1px 1px);clip: rect(1px, 1px, 1px, 1px);height: 1px;margin: -1px;overflow: hidden;padding: 0;position: absolute;width: 1px;}#sk-container-id-2 div.sk-estimator {font-family: monospace;background-color: #f0f8ff;border: 1px dotted black;border-radius: 0.25em;box-sizing: border-box;margin-bottom: 0.5em;}#sk-container-id-2 div.sk-estimator:hover {background-color: #d4ebff;}#sk-container-id-2 div.sk-parallel-item::after {content: \"\";width: 100%;border-bottom: 1px solid gray;flex-grow: 1;}#sk-container-id-2 div.sk-label:hover label.sk-toggleable__label {background-color: #d4ebff;}#sk-container-id-2 div.sk-serial::before {content: \"\";position: absolute;border-left: 1px solid gray;box-sizing: border-box;top: 0;bottom: 0;left: 50%;z-index: 0;}#sk-container-id-2 div.sk-serial {display: flex;flex-direction: column;align-items: center;background-color: white;padding-right: 0.2em;padding-left: 0.2em;position: relative;}#sk-container-id-2 div.sk-item {position: relative;z-index: 1;}#sk-container-id-2 div.sk-parallel {display: flex;align-items: stretch;justify-content: center;background-color: white;position: relative;}#sk-container-id-2 div.sk-item::before, #sk-container-id-2 div.sk-parallel-item::before {content: \"\";position: absolute;border-left: 1px solid gray;box-sizing: border-box;top: 0;bottom: 0;left: 50%;z-index: -1;}#sk-container-id-2 div.sk-parallel-item {display: flex;flex-direction: column;z-index: 1;position: relative;background-color: white;}#sk-container-id-2 div.sk-parallel-item:first-child::after {align-self: flex-end;width: 50%;}#sk-container-id-2 div.sk-parallel-item:last-child::after {align-self: flex-start;width: 50%;}#sk-container-id-2 div.sk-parallel-item:only-child::after {width: 0;}#sk-container-id-2 div.sk-dashed-wrapped {border: 1px dashed gray;margin: 0 0.4em 0.5em 0.4em;box-sizing: border-box;padding-bottom: 0.4em;background-color: white;}#sk-container-id-2 div.sk-label label {font-family: monospace;font-weight: bold;display: inline-block;line-height: 1.2em;}#sk-container-id-2 div.sk-label-container {text-align: center;}#sk-container-id-2 div.sk-container {/* jupyter's `normalize.less` sets `[hidden] { display: none; }` but bootstrap.min.css set `[hidden] { display: none !important; }` so we also need the `!important` here to be able to override the default hidden behavior on the sphinx rendered scikit-learn.org. See: https://github.com/scikit-learn/scikit-learn/issues/21755 */display: inline-block !important;position: relative;}#sk-container-id-2 div.sk-text-repr-fallback {display: none;}</style><div id=\"sk-container-id-2\" class=\"sk-top-container\"><div class=\"sk-text-repr-fallback\"><pre>LinearRegression()</pre><b>In a Jupyter environment, please rerun this cell to show the HTML representation or trust the notebook. <br />On GitHub, the HTML representation is unable to render, please try loading this page with nbviewer.org.</b></div><div class=\"sk-container\" hidden><div class=\"sk-item\"><div class=\"sk-estimator sk-toggleable\"><input class=\"sk-toggleable__control sk-hidden--visually\" id=\"sk-estimator-id-2\" type=\"checkbox\" checked><label for=\"sk-estimator-id-2\" class=\"sk-toggleable__label sk-toggleable__label-arrow\">LinearRegression</label><div class=\"sk-toggleable__content\"><pre>LinearRegression()</pre></div></div></div></div></div>"
      ],
      "text/plain": [
       "LinearRegression()"
      ]
     },
     "execution_count": 40,
     "metadata": {},
     "output_type": "execute_result"
    }
   ],
   "source": [
    "# 훈련\n",
    "lr.fit(train_poly, train_taregt)"
   ]
  },
  {
   "cell_type": "code",
   "execution_count": 50,
   "id": "6b6164ea",
   "metadata": {},
   "outputs": [
    {
     "name": "stdout",
     "output_type": "stream",
     "text": [
      "0.9898271546307024\n",
      "0.971377160062965\n"
     ]
    }
   ],
   "source": [
    "# 결과(정확도) 확인\n",
    "print(lr.score(train_poly, train_taregt))\n",
    "print(lr.score(test_poly, test_target))"
   ]
  },
  {
   "cell_type": "code",
   "execution_count": 46,
   "id": "284b1b38",
   "metadata": {},
   "outputs": [],
   "source": [
    "# 예측하기\n",
    "lr_pred = lr.predict(test_poly)"
   ]
  },
  {
   "cell_type": "code",
   "execution_count": 44,
   "id": "4339f4e7",
   "metadata": {},
   "outputs": [],
   "source": [
    "from sklearn.metrics import r2_score"
   ]
  },
  {
   "cell_type": "code",
   "execution_count": 49,
   "id": "9670104b",
   "metadata": {},
   "outputs": [
    {
     "data": {
      "text/plain": [
       "0.971377160062965"
      ]
     },
     "execution_count": 49,
     "metadata": {},
     "output_type": "execute_result"
    }
   ],
   "source": [
    "# r2_score(실제값, 예측값) 정확도 확인\n",
    "r2_score(test_target, lr_pred)"
   ]
  },
  {
   "cell_type": "markdown",
   "id": "558640a4",
   "metadata": {},
   "source": [
    "### 특성의 갯수 늘리기\n"
   ]
  },
  {
   "cell_type": "code",
   "execution_count": 52,
   "id": "114a0ecc",
   "metadata": {},
   "outputs": [
    {
     "data": {
      "text/plain": [
       "((39, 55), (17, 55))"
      ]
     },
     "execution_count": 52,
     "metadata": {},
     "output_type": "execute_result"
    }
   ],
   "source": [
    "# degree을 이용해 특성 추가\n",
    "poly = PolynomialFeatures(include_bias=False, degree=5)\n",
    "poly.fit(train_input)\n",
    "train_poly = poly.transform(train_input)\n",
    "test_poly = poly.transform(test_input)\n",
    "train_poly.shape, test_poly.shape"
   ]
  },
  {
   "cell_type": "code",
   "execution_count": 54,
   "id": "c05184db",
   "metadata": {},
   "outputs": [
    {
     "data": {
      "text/plain": [
       "array(['x0', 'x1', 'x2', 'x0^2', 'x0 x1', 'x0 x2', 'x1^2', 'x1 x2',\n",
       "       'x2^2', 'x0^3', 'x0^2 x1', 'x0^2 x2', 'x0 x1^2', 'x0 x1 x2',\n",
       "       'x0 x2^2', 'x1^3', 'x1^2 x2', 'x1 x2^2', 'x2^3', 'x0^4', 'x0^3 x1',\n",
       "       'x0^3 x2', 'x0^2 x1^2', 'x0^2 x1 x2', 'x0^2 x2^2', 'x0 x1^3',\n",
       "       'x0 x1^2 x2', 'x0 x1 x2^2', 'x0 x2^3', 'x1^4', 'x1^3 x2',\n",
       "       'x1^2 x2^2', 'x1 x2^3', 'x2^4', 'x0^5', 'x0^4 x1', 'x0^4 x2',\n",
       "       'x0^3 x1^2', 'x0^3 x1 x2', 'x0^3 x2^2', 'x0^2 x1^3',\n",
       "       'x0^2 x1^2 x2', 'x0^2 x1 x2^2', 'x0^2 x2^3', 'x0 x1^4',\n",
       "       'x0 x1^3 x2', 'x0 x1^2 x2^2', 'x0 x1 x2^3', 'x0 x2^4', 'x1^5',\n",
       "       'x1^4 x2', 'x1^3 x2^2', 'x1^2 x2^3', 'x1 x2^4', 'x2^5'],\n",
       "      dtype=object)"
      ]
     },
     "execution_count": 54,
     "metadata": {},
     "output_type": "execute_result"
    }
   ],
   "source": [
    "# 특성공학 항목 계산식 확인\n",
    "poly.get_feature_names_out()"
   ]
  },
  {
   "cell_type": "markdown",
   "id": "979461f5",
   "metadata": {},
   "source": [
    "### 재 구성한 독립변수로 다중회귀 재훈련"
   ]
  },
  {
   "cell_type": "code",
   "execution_count": 59,
   "id": "b2e38cd0",
   "metadata": {},
   "outputs": [
    {
     "data": {
      "text/html": [
       "<style>#sk-container-id-4 {color: black;background-color: white;}#sk-container-id-4 pre{padding: 0;}#sk-container-id-4 div.sk-toggleable {background-color: white;}#sk-container-id-4 label.sk-toggleable__label {cursor: pointer;display: block;width: 100%;margin-bottom: 0;padding: 0.3em;box-sizing: border-box;text-align: center;}#sk-container-id-4 label.sk-toggleable__label-arrow:before {content: \"▸\";float: left;margin-right: 0.25em;color: #696969;}#sk-container-id-4 label.sk-toggleable__label-arrow:hover:before {color: black;}#sk-container-id-4 div.sk-estimator:hover label.sk-toggleable__label-arrow:before {color: black;}#sk-container-id-4 div.sk-toggleable__content {max-height: 0;max-width: 0;overflow: hidden;text-align: left;background-color: #f0f8ff;}#sk-container-id-4 div.sk-toggleable__content pre {margin: 0.2em;color: black;border-radius: 0.25em;background-color: #f0f8ff;}#sk-container-id-4 input.sk-toggleable__control:checked~div.sk-toggleable__content {max-height: 200px;max-width: 100%;overflow: auto;}#sk-container-id-4 input.sk-toggleable__control:checked~label.sk-toggleable__label-arrow:before {content: \"▾\";}#sk-container-id-4 div.sk-estimator input.sk-toggleable__control:checked~label.sk-toggleable__label {background-color: #d4ebff;}#sk-container-id-4 div.sk-label input.sk-toggleable__control:checked~label.sk-toggleable__label {background-color: #d4ebff;}#sk-container-id-4 input.sk-hidden--visually {border: 0;clip: rect(1px 1px 1px 1px);clip: rect(1px, 1px, 1px, 1px);height: 1px;margin: -1px;overflow: hidden;padding: 0;position: absolute;width: 1px;}#sk-container-id-4 div.sk-estimator {font-family: monospace;background-color: #f0f8ff;border: 1px dotted black;border-radius: 0.25em;box-sizing: border-box;margin-bottom: 0.5em;}#sk-container-id-4 div.sk-estimator:hover {background-color: #d4ebff;}#sk-container-id-4 div.sk-parallel-item::after {content: \"\";width: 100%;border-bottom: 1px solid gray;flex-grow: 1;}#sk-container-id-4 div.sk-label:hover label.sk-toggleable__label {background-color: #d4ebff;}#sk-container-id-4 div.sk-serial::before {content: \"\";position: absolute;border-left: 1px solid gray;box-sizing: border-box;top: 0;bottom: 0;left: 50%;z-index: 0;}#sk-container-id-4 div.sk-serial {display: flex;flex-direction: column;align-items: center;background-color: white;padding-right: 0.2em;padding-left: 0.2em;position: relative;}#sk-container-id-4 div.sk-item {position: relative;z-index: 1;}#sk-container-id-4 div.sk-parallel {display: flex;align-items: stretch;justify-content: center;background-color: white;position: relative;}#sk-container-id-4 div.sk-item::before, #sk-container-id-4 div.sk-parallel-item::before {content: \"\";position: absolute;border-left: 1px solid gray;box-sizing: border-box;top: 0;bottom: 0;left: 50%;z-index: -1;}#sk-container-id-4 div.sk-parallel-item {display: flex;flex-direction: column;z-index: 1;position: relative;background-color: white;}#sk-container-id-4 div.sk-parallel-item:first-child::after {align-self: flex-end;width: 50%;}#sk-container-id-4 div.sk-parallel-item:last-child::after {align-self: flex-start;width: 50%;}#sk-container-id-4 div.sk-parallel-item:only-child::after {width: 0;}#sk-container-id-4 div.sk-dashed-wrapped {border: 1px dashed gray;margin: 0 0.4em 0.5em 0.4em;box-sizing: border-box;padding-bottom: 0.4em;background-color: white;}#sk-container-id-4 div.sk-label label {font-family: monospace;font-weight: bold;display: inline-block;line-height: 1.2em;}#sk-container-id-4 div.sk-label-container {text-align: center;}#sk-container-id-4 div.sk-container {/* jupyter's `normalize.less` sets `[hidden] { display: none; }` but bootstrap.min.css set `[hidden] { display: none !important; }` so we also need the `!important` here to be able to override the default hidden behavior on the sphinx rendered scikit-learn.org. See: https://github.com/scikit-learn/scikit-learn/issues/21755 */display: inline-block !important;position: relative;}#sk-container-id-4 div.sk-text-repr-fallback {display: none;}</style><div id=\"sk-container-id-4\" class=\"sk-top-container\"><div class=\"sk-text-repr-fallback\"><pre>LinearRegression()</pre><b>In a Jupyter environment, please rerun this cell to show the HTML representation or trust the notebook. <br />On GitHub, the HTML representation is unable to render, please try loading this page with nbviewer.org.</b></div><div class=\"sk-container\" hidden><div class=\"sk-item\"><div class=\"sk-estimator sk-toggleable\"><input class=\"sk-toggleable__control sk-hidden--visually\" id=\"sk-estimator-id-4\" type=\"checkbox\" checked><label for=\"sk-estimator-id-4\" class=\"sk-toggleable__label sk-toggleable__label-arrow\">LinearRegression</label><div class=\"sk-toggleable__content\"><pre>LinearRegression()</pre></div></div></div></div></div>"
      ],
      "text/plain": [
       "LinearRegression()"
      ]
     },
     "execution_count": 59,
     "metadata": {},
     "output_type": "execute_result"
    }
   ],
   "source": [
    "lr.fit(train_poly, train_taregt)\n"
   ]
  },
  {
   "cell_type": "code",
   "execution_count": 63,
   "id": "743dd099",
   "metadata": {},
   "outputs": [
    {
     "name": "stdout",
     "output_type": "stream",
     "text": [
      "0.9999999999999992\n",
      "-20.195038576390044\n"
     ]
    }
   ],
   "source": [
    "## 훈련 정확도는 매우높아 졌지만 테스트 정확도는 오히려 낮아짐(과대적합)\n",
    "print(lr.score(train_poly, train_taregt))\n",
    "print(lr.score(test_poly, test_target))"
   ]
  },
  {
   "cell_type": "markdown",
   "id": "f9595152",
   "metadata": {},
   "source": [
    "### 해석\n",
    "#### - 훈련의 결과로만 볼대는 매우 우수한 모델이나\n",
    "#### - 테스트 결과는 매우 큰 과대적합이 발생함\n",
    "#### - 따라서 degree 5로 했을때 보다 2로 했을 때 훈련 모델을 선택하는 것이 타당함\n",
    "#### - 가끔은 훈련모델이 1에 가까울수록 테스트결과가 안 좋게 나오는 경우가 있음"
   ]
  },
  {
   "cell_type": "markdown",
   "id": "16ba0f94",
   "metadata": {},
   "source": [
    "## 규제 \n",
    "### 규제 : 과대적합을 줄이는 방법으로 과대적합이 일어나지 않도록 제어하는 개념\n",
    "#### - <span style = 'color:red'>계수(기울기)들의 값들의 크기를 줄이는 방법</span>으로 [규제]한다고 함\n",
    "#### [ 규제 개념이 적용된 선형회귀 모델 ]\n",
    "#### - 릿지(Ridge) , 라쏘(Lasso) 회귀 모델이 있음\n",
    "#### - 주로 릿지방식을 선호하는 편임(보편적으로 과대적합 해소를 잘해줌)\n",
    "####  [ 규제를 위해서는 ]\n",
    "#### - <span style = 'color:red'>데이터의 정규화(표준화)작업이 선행</span>되어야 함\n",
    "#### - 정규화(표준화) : 단위(값의 크기)가 다양한 특성들의 데이터를 지수형태로 데이터 범위로 변환\n",
    "---\n",
    "#### [ 정규화 ]\n",
    "#### StandardScaler()\n",
    "#### - 표준점수 생성 : fit()함수 사용 - 스스로 표준화할 값의 패턴 찾기\n",
    "#### - 변환하기 : transform() - 찾은 패턴으로 데이터 변환\n",
    "---\n",
    "#### [ 규제 개념이 적용된 모델]\n",
    "#### 릿지모델(Ridge)\n",
    "#### - <span style = 'color:red'>계수(기울기)를 \"제곱\"한 값을 기준으로 규제를 적용</span>\n",
    "#### - 사용패키지 :  linear_model.Ridge\n",
    "#### - 훈련/평가/테스트 : fit(), score(), predict()\n",
    "\n",
    "#### 라쏘모델(Lasso)\n",
    "#### - <span style = 'color:red'>계수(기울기)를 \"절대값\"한 값을 기준으로 규제를 적용</span>\n",
    "#### - 사용패키지 :  linear_model.Lasso\n",
    "#### - 훈련/평가/테스트 : fit(), score(), predict()\n",
    "\n",
    "---\n",
    "### 정규화하기"
   ]
  },
  {
   "cell_type": "code",
   "execution_count": 64,
   "id": "f00ab274",
   "metadata": {},
   "outputs": [],
   "source": [
    "from sklearn.preprocessing import StandardScaler"
   ]
  },
  {
   "cell_type": "code",
   "execution_count": 66,
   "id": "cd993312",
   "metadata": {},
   "outputs": [
    {
     "data": {
      "text/html": [
       "<style>#sk-container-id-5 {color: black;background-color: white;}#sk-container-id-5 pre{padding: 0;}#sk-container-id-5 div.sk-toggleable {background-color: white;}#sk-container-id-5 label.sk-toggleable__label {cursor: pointer;display: block;width: 100%;margin-bottom: 0;padding: 0.3em;box-sizing: border-box;text-align: center;}#sk-container-id-5 label.sk-toggleable__label-arrow:before {content: \"▸\";float: left;margin-right: 0.25em;color: #696969;}#sk-container-id-5 label.sk-toggleable__label-arrow:hover:before {color: black;}#sk-container-id-5 div.sk-estimator:hover label.sk-toggleable__label-arrow:before {color: black;}#sk-container-id-5 div.sk-toggleable__content {max-height: 0;max-width: 0;overflow: hidden;text-align: left;background-color: #f0f8ff;}#sk-container-id-5 div.sk-toggleable__content pre {margin: 0.2em;color: black;border-radius: 0.25em;background-color: #f0f8ff;}#sk-container-id-5 input.sk-toggleable__control:checked~div.sk-toggleable__content {max-height: 200px;max-width: 100%;overflow: auto;}#sk-container-id-5 input.sk-toggleable__control:checked~label.sk-toggleable__label-arrow:before {content: \"▾\";}#sk-container-id-5 div.sk-estimator input.sk-toggleable__control:checked~label.sk-toggleable__label {background-color: #d4ebff;}#sk-container-id-5 div.sk-label input.sk-toggleable__control:checked~label.sk-toggleable__label {background-color: #d4ebff;}#sk-container-id-5 input.sk-hidden--visually {border: 0;clip: rect(1px 1px 1px 1px);clip: rect(1px, 1px, 1px, 1px);height: 1px;margin: -1px;overflow: hidden;padding: 0;position: absolute;width: 1px;}#sk-container-id-5 div.sk-estimator {font-family: monospace;background-color: #f0f8ff;border: 1px dotted black;border-radius: 0.25em;box-sizing: border-box;margin-bottom: 0.5em;}#sk-container-id-5 div.sk-estimator:hover {background-color: #d4ebff;}#sk-container-id-5 div.sk-parallel-item::after {content: \"\";width: 100%;border-bottom: 1px solid gray;flex-grow: 1;}#sk-container-id-5 div.sk-label:hover label.sk-toggleable__label {background-color: #d4ebff;}#sk-container-id-5 div.sk-serial::before {content: \"\";position: absolute;border-left: 1px solid gray;box-sizing: border-box;top: 0;bottom: 0;left: 50%;z-index: 0;}#sk-container-id-5 div.sk-serial {display: flex;flex-direction: column;align-items: center;background-color: white;padding-right: 0.2em;padding-left: 0.2em;position: relative;}#sk-container-id-5 div.sk-item {position: relative;z-index: 1;}#sk-container-id-5 div.sk-parallel {display: flex;align-items: stretch;justify-content: center;background-color: white;position: relative;}#sk-container-id-5 div.sk-item::before, #sk-container-id-5 div.sk-parallel-item::before {content: \"\";position: absolute;border-left: 1px solid gray;box-sizing: border-box;top: 0;bottom: 0;left: 50%;z-index: -1;}#sk-container-id-5 div.sk-parallel-item {display: flex;flex-direction: column;z-index: 1;position: relative;background-color: white;}#sk-container-id-5 div.sk-parallel-item:first-child::after {align-self: flex-end;width: 50%;}#sk-container-id-5 div.sk-parallel-item:last-child::after {align-self: flex-start;width: 50%;}#sk-container-id-5 div.sk-parallel-item:only-child::after {width: 0;}#sk-container-id-5 div.sk-dashed-wrapped {border: 1px dashed gray;margin: 0 0.4em 0.5em 0.4em;box-sizing: border-box;padding-bottom: 0.4em;background-color: white;}#sk-container-id-5 div.sk-label label {font-family: monospace;font-weight: bold;display: inline-block;line-height: 1.2em;}#sk-container-id-5 div.sk-label-container {text-align: center;}#sk-container-id-5 div.sk-container {/* jupyter's `normalize.less` sets `[hidden] { display: none; }` but bootstrap.min.css set `[hidden] { display: none !important; }` so we also need the `!important` here to be able to override the default hidden behavior on the sphinx rendered scikit-learn.org. See: https://github.com/scikit-learn/scikit-learn/issues/21755 */display: inline-block !important;position: relative;}#sk-container-id-5 div.sk-text-repr-fallback {display: none;}</style><div id=\"sk-container-id-5\" class=\"sk-top-container\"><div class=\"sk-text-repr-fallback\"><pre>StandardScaler()</pre><b>In a Jupyter environment, please rerun this cell to show the HTML representation or trust the notebook. <br />On GitHub, the HTML representation is unable to render, please try loading this page with nbviewer.org.</b></div><div class=\"sk-container\" hidden><div class=\"sk-item\"><div class=\"sk-estimator sk-toggleable\"><input class=\"sk-toggleable__control sk-hidden--visually\" id=\"sk-estimator-id-5\" type=\"checkbox\" checked><label for=\"sk-estimator-id-5\" class=\"sk-toggleable__label sk-toggleable__label-arrow\">StandardScaler</label><div class=\"sk-toggleable__content\"><pre>StandardScaler()</pre></div></div></div></div></div>"
      ],
      "text/plain": [
       "StandardScaler()"
      ]
     },
     "execution_count": 66,
     "metadata": {},
     "output_type": "execute_result"
    }
   ],
   "source": [
    "# 클래스 생성\n",
    "std = StandardScaler()\n",
    "std"
   ]
  },
  {
   "cell_type": "code",
   "execution_count": 68,
   "id": "3a84dabf",
   "metadata": {},
   "outputs": [],
   "source": [
    "# 정규화패턴 찾기\n",
    "std.fit(train_poly)\n",
    "\n",
    "#정규화 하기\n",
    "train_scaled = std.transform(train_poly)\n",
    "test_scaled = std.transform(test_poly)"
   ]
  },
  {
   "cell_type": "code",
   "execution_count": 72,
   "id": "99e747df",
   "metadata": {},
   "outputs": [
    {
     "data": {
      "text/plain": [
       "((39, 55), (17, 55))"
      ]
     },
     "execution_count": 72,
     "metadata": {},
     "output_type": "execute_result"
    }
   ],
   "source": [
    "train_scaled.shape, test_scaled.shape"
   ]
  },
  {
   "cell_type": "code",
   "execution_count": 73,
   "id": "f71a9a4f",
   "metadata": {},
   "outputs": [
    {
     "data": {
      "text/plain": [
       "(array([2.90871795e+01, 8.24512821e+00, 4.94307692e+00, 9.22189231e+02,\n",
       "        2.64592436e+02, 1.58638718e+02, 7.62897179e+01, 4.57141154e+01,\n",
       "        2.75046359e+01, 3.13859681e+04, 9.08934599e+03, 5.44671063e+03,\n",
       "        2.64311561e+03, 1.58341599e+03, 9.52051059e+02, 7.71640873e+02,\n",
       "        4.62216692e+02, 2.77893812e+02, 1.67689323e+02, 1.12772910e+06,\n",
       "        3.28685226e+05, 1.96777006e+05, 9.61247987e+04, 5.75414118e+04,\n",
       "        3.45600184e+04, 2.82046162e+04, 1.68839409e+04, 1.01414311e+04,\n",
       "        6.11198139e+03, 8.30214542e+03, 4.97058311e+03, 2.98624024e+03,\n",
       "        1.80023084e+03, 1.08894991e+03, 4.21524818e+07, 1.23342764e+07,\n",
       "        7.37587706e+06, 3.61947635e+06, 2.16436604e+06, 1.29826472e+06,\n",
       "        1.06509761e+06, 6.36948054e+05, 3.82114993e+05, 2.29954055e+05,\n",
       "        3.14282071e+05, 1.87978037e+05, 1.12798128e+05, 6.79026129e+04,\n",
       "        4.10060291e+04, 9.29855329e+04, 5.56311566e+04, 3.33936168e+04,\n",
       "        2.01110834e+04, 1.21512827e+04, 7.36573011e+03]),\n",
       " array([8.72497681e+00, 2.88228708e+00, 1.75232030e+00, 5.26589143e+02,\n",
       "        1.61603346e+02, 9.69214917e+01, 4.98199192e+01, 2.99409402e+01,\n",
       "        1.82330721e+01, 2.52072921e+04, 7.55425459e+03, 4.50677340e+03,\n",
       "        2.27424406e+03, 1.35842868e+03, 8.19007621e+02, 6.87765240e+02,\n",
       "        4.11482818e+02, 2.48626773e+02, 1.51671133e+02, 1.12135617e+06,\n",
       "        3.32082372e+05, 1.97557091e+05, 9.87764028e+04, 5.87791071e+04,\n",
       "        3.52463099e+04, 2.95150524e+04, 1.75746019e+04, 1.05509807e+04,\n",
       "        6.38496778e+03, 8.86109024e+03, 5.28160756e+03, 3.17592348e+03,\n",
       "        1.92630737e+03, 1.17837221e+03, 4.84927935e+07, 1.42558262e+07,\n",
       "        8.46775086e+06, 4.20847175e+06, 2.49862711e+06, 1.49335578e+06,\n",
       "        1.24789553e+06, 7.40751635e+05, 4.42866315e+05, 2.66593369e+05,\n",
       "        3.71746954e+05, 2.20698053e+05, 1.32035994e+05, 7.95862061e+04,\n",
       "        4.83257718e+04, 1.11278001e+05, 6.60964091e+04, 3.95859565e+04,\n",
       "        2.39026874e+04, 1.45501829e+04, 8.92910981e+03]))"
      ]
     },
     "execution_count": 73,
     "metadata": {},
     "output_type": "execute_result"
    }
   ],
   "source": [
    "# 각 독립변수항목의 평균, 표준편차 확인하기\n",
    "\n",
    "std.mean_ , std.scale_"
   ]
  },
  {
   "cell_type": "markdown",
   "id": "da6da92e",
   "metadata": {},
   "source": [
    "### Ridge, Lasso 모델로 훈련하여 성능(과소/과대적합)을 일반화"
   ]
  },
  {
   "cell_type": "code",
   "execution_count": 74,
   "id": "536ea6c7",
   "metadata": {},
   "outputs": [],
   "source": [
    "from sklearn.linear_model import Ridge, Lasso"
   ]
  },
  {
   "cell_type": "code",
   "execution_count": 116,
   "id": "ee7a5cbc",
   "metadata": {},
   "outputs": [],
   "source": [
    "# 클래스 생성\n",
    "lridge = Ridge()\n",
    "llasso = Lasso()"
   ]
  },
  {
   "cell_type": "code",
   "execution_count": 117,
   "id": "13b86041",
   "metadata": {},
   "outputs": [
    {
     "data": {
      "text/plain": [
       "(Ridge(), Lasso())"
      ]
     },
     "execution_count": 117,
     "metadata": {},
     "output_type": "execute_result"
    }
   ],
   "source": [
    "# Ridge / Lasso훈련\n",
    "lridge.fit(train_scaled, train_taregt)\n",
    "llasso.fit(train_scaled, train_taregt)\n",
    "lridge, llasso"
   ]
  },
  {
   "cell_type": "code",
   "execution_count": 85,
   "id": "30d111d1",
   "metadata": {},
   "outputs": [
    {
     "name": "stdout",
     "output_type": "stream",
     "text": [
      "Ridge 훈련 :  0.9889900259477936\n",
      "Ridge 테스트 :  0.9806943210368351\n",
      "--------------------------------------------------------------------------------\n",
      "Lasso 훈련 :  0.9891841592343474\n",
      "Lasso 테스트 :  0.9816966371762467\n"
     ]
    }
   ],
   "source": [
    "# Ridge 정확도\n",
    "print('Ridge 훈련 : ',lridge.score(train_scaled, train_taregt))\n",
    "print('Ridge 테스트 : ',lridge.score(test_scaled, test_target))\n",
    "print('--------'*10)\n",
    "print('Lasso 훈련 : ',llasso.score(train_scaled, train_taregt))\n",
    "print('Lasso 테스트 : ',llasso.score(test_scaled, test_target))"
   ]
  },
  {
   "cell_type": "markdown",
   "id": "62ba0d3e",
   "metadata": {},
   "source": [
    "### 해석\n",
    "#### - 훈련결과는 특성공학만을 적용했을때보다 낮게 나옴\n",
    "#### - 하지만 테스트 결과는 높게 나옴\n",
    "#### - 과소적합이 일어나지 않고 과대적합 또한 일어나지 않은 우수한 모델로 판단\n",
    "---\n",
    "### 규제강도 조절하기(정확도를 더욱 높일때) - 낮아질수도 있음\n",
    "#### [ alpha 규제 강도 하이퍼파라미터 튜닝 ]\n",
    "#### - <span style = 'color:red'>alpha값을 조정하여 훈련 정확도(결정계수)의 변화를 확인하여 가장 적합한 값을 선정</span>\n",
    "####  [ alpha값 튜닝법 ] \n",
    "#### - 정해진 방법은 없으며 임의 범위의 값을 선정하여 반복하면서 찾음\n",
    "#### - 훈련데이터 및 테스트데이터로 각각 임의 값을 적용하여 평가하여 결정계수 값을 이용하여 시각화함\n",
    "#### - <span style = 'color:red'>훈련 및 테스트 정확도(결정계수)의 값이 가장 가까워지는 지점의 x축의 값을 alpha값으로 결정하여 사용하게 됨</span>\n",
    "#### [ alpha값의 범위 ]\n",
    "#### - <span style = 'color:red'>일반적으로 튜닝 시 사용하는 범위는 0.001, 0.01, 0.1, 1, 10, 100을 사용</span>\n",
    "#### - 0.001부터 10배씩 늘려가면서 정확도(결정계수)를 확인하게 됨"
   ]
  },
  {
   "cell_type": "code",
   "execution_count": 87,
   "id": "a7b0b0fa",
   "metadata": {},
   "outputs": [
    {
     "data": {
      "text/plain": [
       "[0.001, 0.01, 0.1, 1, 10, 100]"
      ]
     },
     "execution_count": 87,
     "metadata": {},
     "output_type": "execute_result"
    }
   ],
   "source": [
    "# 시각화\n",
    "import matplotlib.pyplot as plt\n",
    "ll = [0.001, 0.01, 0.1, 1, 10, 100]\n",
    "ll"
   ]
  },
  {
   "cell_type": "code",
   "execution_count": 88,
   "id": "86fe9de3",
   "metadata": {},
   "outputs": [
    {
     "name": "stdout",
     "output_type": "stream",
     "text": [
      "0.001\n",
      "0.01\n",
      "0.1\n",
      "1\n",
      "10\n",
      "100\n"
     ]
    }
   ],
   "source": [
    "for i in ll:\n",
    "    print(i)"
   ]
  },
  {
   "cell_type": "code",
   "execution_count": 115,
   "id": "41062b28",
   "metadata": {},
   "outputs": [
    {
     "name": "stdout",
     "output_type": "stream",
     "text": [
      "alpha값 :  0.001  - Ridge 훈련 :  0.9926235997118728\n",
      "alpha값 :  0.001  - Ridge 테스트 :  0.9604325805022764\n",
      "훈련데이터와 테스트데이터 GAP :  0.03219\n",
      "--------------------------------------------------------------------------------\n",
      "alpha값 :  0.01  - Ridge 훈련 :  0.991274840867204\n",
      "alpha값 :  0.01  - Ridge 테스트 :  0.9818749000851976\n",
      "훈련데이터와 테스트데이터 GAP :  0.0094\n",
      "--------------------------------------------------------------------------------\n",
      "alpha값 :  0.1  - Ridge 훈련 :  0.9897983159614502\n",
      "alpha값 :  0.1  - Ridge 테스트 :  0.9842243738800763\n",
      "훈련데이터와 테스트데이터 GAP :  0.00557\n",
      "--------------------------------------------------------------------------------\n",
      "alpha값 :  1  - Ridge 훈련 :  0.9889900259477936\n",
      "alpha값 :  1  - Ridge 테스트 :  0.9806943210368351\n",
      "훈련데이터와 테스트데이터 GAP :  0.0083\n",
      "--------------------------------------------------------------------------------\n",
      "alpha값 :  10  - Ridge 훈련 :  0.9880568799300236\n",
      "alpha값 :  10  - Ridge 테스트 :  0.9743695604464329\n",
      "훈련데이터와 테스트데이터 GAP :  0.01369\n",
      "--------------------------------------------------------------------------------\n",
      "alpha값 :  100  - Ridge 훈련 :  0.983237666565452\n",
      "alpha값 :  100  - Ridge 테스트 :  0.9635366382235903\n",
      "훈련데이터와 테스트데이터 GAP :  0.0197\n",
      "--------------------------------------------------------------------------------\n"
     ]
    },
    {
     "data": {
      "image/png": "[encoded data removed]",
      "text/plain": [
       "<Figure size 640x480 with 1 Axes>"
      ]
     },
     "metadata": {},
     "output_type": "display_data"
    }
   ],
   "source": [
    "train_score = []\n",
    "test_score = []\n",
    "for i in ll:\n",
    "    lridge = Ridge(alpha = i)\n",
    "    lridge.fit(train_scaled, train_taregt)\n",
    "    tr_sc = lridge.score(train_scaled, train_taregt)\n",
    "    te_sc = lridge.score(test_scaled, test_target)\n",
    "    train_score.append(tr_sc)\n",
    "    test_score.append(te_sc)\n",
    "    print('alpha값 : ', i, ' - Ridge 훈련 : ',tr_sc)\n",
    "    print('alpha값 : ', i, ' - Ridge 테스트 : ',te_sc)\n",
    "    print('훈련데이터와 테스트데이터 GAP : ',round(tr_sc - te_sc,5) )\n",
    "    print('--------'*10)\n",
    "\n",
    "plt.plot(np.log10(ll), train_score, label = 'train_data', c='red', marker='*')    \n",
    "plt.plot(np.log10(ll), test_score, label = 'test_data', c='blue', marker='*')    \n",
    "plt.show()"
   ]
  },
  {
   "cell_type": "code",
   "execution_count": 106,
   "id": "2246830b",
   "metadata": {},
   "outputs": [
    {
     "data": {
      "text/plain": [
       "4.0"
      ]
     },
     "execution_count": 106,
     "metadata": {},
     "output_type": "execute_result"
    }
   ],
   "source": [
    "np.log10(10000)"
   ]
  },
  {
   "cell_type": "markdown",
   "id": "a6ad87c5",
   "metadata": {},
   "source": [
    "#### 시각화에서 훈련과 테스트의 정확도를 이용해서 과소적합이 일어나지 않는 지점중에\n",
    "#### 두거리가 가장 가까운 지점을 선택해서 채택하면 됨"
   ]
  },
  {
   "cell_type": "code",
   "execution_count": 120,
   "id": "a8ae04d7",
   "metadata": {},
   "outputs": [
    {
     "data": {
      "text/html": [
       "<style>#sk-container-id-11 {color: black;background-color: white;}#sk-container-id-11 pre{padding: 0;}#sk-container-id-11 div.sk-toggleable {background-color: white;}#sk-container-id-11 label.sk-toggleable__label {cursor: pointer;display: block;width: 100%;margin-bottom: 0;padding: 0.3em;box-sizing: border-box;text-align: center;}#sk-container-id-11 label.sk-toggleable__label-arrow:before {content: \"▸\";float: left;margin-right: 0.25em;color: #696969;}#sk-container-id-11 label.sk-toggleable__label-arrow:hover:before {color: black;}#sk-container-id-11 div.sk-estimator:hover label.sk-toggleable__label-arrow:before {color: black;}#sk-container-id-11 div.sk-toggleable__content {max-height: 0;max-width: 0;overflow: hidden;text-align: left;background-color: #f0f8ff;}#sk-container-id-11 div.sk-toggleable__content pre {margin: 0.2em;color: black;border-radius: 0.25em;background-color: #f0f8ff;}#sk-container-id-11 input.sk-toggleable__control:checked~div.sk-toggleable__content {max-height: 200px;max-width: 100%;overflow: auto;}#sk-container-id-11 input.sk-toggleable__control:checked~label.sk-toggleable__label-arrow:before {content: \"▾\";}#sk-container-id-11 div.sk-estimator input.sk-toggleable__control:checked~label.sk-toggleable__label {background-color: #d4ebff;}#sk-container-id-11 div.sk-label input.sk-toggleable__control:checked~label.sk-toggleable__label {background-color: #d4ebff;}#sk-container-id-11 input.sk-hidden--visually {border: 0;clip: rect(1px 1px 1px 1px);clip: rect(1px, 1px, 1px, 1px);height: 1px;margin: -1px;overflow: hidden;padding: 0;position: absolute;width: 1px;}#sk-container-id-11 div.sk-estimator {font-family: monospace;background-color: #f0f8ff;border: 1px dotted black;border-radius: 0.25em;box-sizing: border-box;margin-bottom: 0.5em;}#sk-container-id-11 div.sk-estimator:hover {background-color: #d4ebff;}#sk-container-id-11 div.sk-parallel-item::after {content: \"\";width: 100%;border-bottom: 1px solid gray;flex-grow: 1;}#sk-container-id-11 div.sk-label:hover label.sk-toggleable__label {background-color: #d4ebff;}#sk-container-id-11 div.sk-serial::before {content: \"\";position: absolute;border-left: 1px solid gray;box-sizing: border-box;top: 0;bottom: 0;left: 50%;z-index: 0;}#sk-container-id-11 div.sk-serial {display: flex;flex-direction: column;align-items: center;background-color: white;padding-right: 0.2em;padding-left: 0.2em;position: relative;}#sk-container-id-11 div.sk-item {position: relative;z-index: 1;}#sk-container-id-11 div.sk-parallel {display: flex;align-items: stretch;justify-content: center;background-color: white;position: relative;}#sk-container-id-11 div.sk-item::before, #sk-container-id-11 div.sk-parallel-item::before {content: \"\";position: absolute;border-left: 1px solid gray;box-sizing: border-box;top: 0;bottom: 0;left: 50%;z-index: -1;}#sk-container-id-11 div.sk-parallel-item {display: flex;flex-direction: column;z-index: 1;position: relative;background-color: white;}#sk-container-id-11 div.sk-parallel-item:first-child::after {align-self: flex-end;width: 50%;}#sk-container-id-11 div.sk-parallel-item:last-child::after {align-self: flex-start;width: 50%;}#sk-container-id-11 div.sk-parallel-item:only-child::after {width: 0;}#sk-container-id-11 div.sk-dashed-wrapped {border: 1px dashed gray;margin: 0 0.4em 0.5em 0.4em;box-sizing: border-box;padding-bottom: 0.4em;background-color: white;}#sk-container-id-11 div.sk-label label {font-family: monospace;font-weight: bold;display: inline-block;line-height: 1.2em;}#sk-container-id-11 div.sk-label-container {text-align: center;}#sk-container-id-11 div.sk-container {/* jupyter's `normalize.less` sets `[hidden] { display: none; }` but bootstrap.min.css set `[hidden] { display: none !important; }` so we also need the `!important` here to be able to override the default hidden behavior on the sphinx rendered scikit-learn.org. See: https://github.com/scikit-learn/scikit-learn/issues/21755 */display: inline-block !important;position: relative;}#sk-container-id-11 div.sk-text-repr-fallback {display: none;}</style><div id=\"sk-container-id-11\" class=\"sk-top-container\"><div class=\"sk-text-repr-fallback\"><pre>Ridge(alpha=0.1)</pre><b>In a Jupyter environment, please rerun this cell to show the HTML representation or trust the notebook. <br />On GitHub, the HTML representation is unable to render, please try loading this page with nbviewer.org.</b></div><div class=\"sk-container\" hidden><div class=\"sk-item\"><div class=\"sk-estimator sk-toggleable\"><input class=\"sk-toggleable__control sk-hidden--visually\" id=\"sk-estimator-id-11\" type=\"checkbox\" checked><label for=\"sk-estimator-id-11\" class=\"sk-toggleable__label sk-toggleable__label-arrow\">Ridge</label><div class=\"sk-toggleable__content\"><pre>Ridge(alpha=0.1)</pre></div></div></div></div></div>"
      ],
      "text/plain": [
       "Ridge(alpha=0.1)"
      ]
     },
     "execution_count": 120,
     "metadata": {},
     "output_type": "execute_result"
    }
   ],
   "source": [
    "# Ridge모델에 alpha 0.1를 적용하여 훈련\n",
    "lridge = Ridge(alpha = 0.1)\n",
    "lridge"
   ]
  },
  {
   "cell_type": "code",
   "execution_count": 121,
   "id": "781bb714",
   "metadata": {},
   "outputs": [
    {
     "name": "stdout",
     "output_type": "stream",
     "text": [
      "Ridge 훈련 :  0.9897983159614502\n",
      "Ridge 테스트 :  0.9842243738800763\n"
     ]
    }
   ],
   "source": [
    "lridge.fit(train_scaled, train_taregt)\n",
    "tr_sc = lridge.score(train_scaled, train_taregt)\n",
    "te_sc = lridge.score(test_scaled, test_target)\n",
    "print('Ridge 훈련 : ',lridge.score(train_scaled, train_taregt))\n",
    "print('Ridge 테스트 : ',lridge.score(test_scaled, test_target))"
   ]
  },
  {
   "cell_type": "markdown",
   "id": "c726d414",
   "metadata": {},
   "source": [
    "### Lasso모델 사용해서 성능 비교"
   ]
  },
  {
   "cell_type": "code",
   "execution_count": 123,
   "id": "b2a820d4",
   "metadata": {},
   "outputs": [
    {
     "name": "stdout",
     "output_type": "stream",
     "text": [
      "alpha값 :  0.001  - Lasso 훈련 :  0.9903418168463881\n",
      "alpha값 :  0.001  - Lasso 테스트 :  0.9851251560422752\n",
      "훈련데이터와 테스트데이터 GAP :  0.00522\n",
      "--------------------------------------------------------------------------------\n",
      "alpha값 :  0.01  - Lasso 훈련 :  0.9902724616158107\n",
      "alpha값 :  0.01  - Lasso 테스트 :  0.9851212595659263\n",
      "훈련데이터와 테스트데이터 GAP :  0.00515\n",
      "--------------------------------------------------------------------------------\n",
      "alpha값 :  0.1  - Lasso 훈련 :  0.9895965271248277\n",
      "alpha값 :  0.1  - Lasso 테스트 :  0.983774638583602\n",
      "훈련데이터와 테스트데이터 GAP :  0.00582\n",
      "--------------------------------------------------------------------------------\n",
      "alpha값 :  1  - Lasso 훈련 :  0.9891841592343474\n",
      "alpha값 :  1  - Lasso 테스트 :  0.9816966371762467\n",
      "훈련데이터와 테스트데이터 GAP :  0.00749\n",
      "--------------------------------------------------------------------------------\n",
      "alpha값 :  10  - Lasso 훈련 :  0.9882059522438204\n",
      "alpha값 :  10  - Lasso 테스트 :  0.9834044009315154\n",
      "훈련데이터와 테스트데이터 GAP :  0.0048\n",
      "--------------------------------------------------------------------------------\n",
      "alpha값 :  100  - Lasso 훈련 :  0.908482952866975\n",
      "alpha값 :  100  - Lasso 테스트 :  0.894953094999132\n",
      "훈련데이터와 테스트데이터 GAP :  0.01353\n",
      "--------------------------------------------------------------------------------\n"
     ]
    },
    {
     "name": "stderr",
     "output_type": "stream",
     "text": [
      "C:\\anaconda3\\envs\\sj_prj\\lib\\site-packages\\sklearn\\linear_model\\_coordinate_descent.py:631: ConvergenceWarning: Objective did not converge. You might want to increase the number of iterations, check the scale of the features or consider increasing regularisation. Duality gap: 2.329e+04, tolerance: 4.887e+02\n",
      "  model = cd_fast.enet_coordinate_descent(\n",
      "C:\\anaconda3\\envs\\sj_prj\\lib\\site-packages\\sklearn\\linear_model\\_coordinate_descent.py:631: ConvergenceWarning: Objective did not converge. You might want to increase the number of iterations, check the scale of the features or consider increasing regularisation. Duality gap: 2.037e+04, tolerance: 4.887e+02\n",
      "  model = cd_fast.enet_coordinate_descent(\n",
      "C:\\anaconda3\\envs\\sj_prj\\lib\\site-packages\\sklearn\\linear_model\\_coordinate_descent.py:631: ConvergenceWarning: Objective did not converge. You might want to increase the number of iterations, check the scale of the features or consider increasing regularisation. Duality gap: 7.369e+02, tolerance: 4.887e+02\n",
      "  model = cd_fast.enet_coordinate_descent(\n"
     ]
    },
    {
     "data": {
      "image/png": "[encoded data removed]",
      "text/plain": [
       "<Figure size 640x480 with 1 Axes>"
      ]
     },
     "metadata": {},
     "output_type": "display_data"
    }
   ],
   "source": [
    "# llasso = Lasso()\n",
    "train_score = []\n",
    "test_score = []\n",
    "for i in ll:\n",
    "    llasso = Lasso(alpha = i)\n",
    "    llasso.fit(train_scaled, train_taregt)\n",
    "    tr_sc = llasso.score(train_scaled, train_taregt)\n",
    "    te_sc = llasso.score(test_scaled, test_target)\n",
    "    train_score.append(tr_sc)\n",
    "    test_score.append(te_sc)\n",
    "    print('alpha값 : ', i, ' - Lasso 훈련 : ',tr_sc)\n",
    "    print('alpha값 : ', i, ' - Lasso 테스트 : ',te_sc)\n",
    "    print('훈련데이터와 테스트데이터 GAP : ',round(tr_sc - te_sc,5) )\n",
    "    print('--------'*10)\n",
    "\n",
    "plt.plot(np.log10(ll), train_score, label = 'train_data', c='red', marker='*')    \n",
    "plt.plot(np.log10(ll), test_score, label = 'test_data', c='blue', marker='*')    \n",
    "plt.show()"
   ]
  },
  {
   "cell_type": "code",
   "execution_count": 124,
   "id": "48cdf832",
   "metadata": {},
   "outputs": [
    {
     "name": "stdout",
     "output_type": "stream",
     "text": [
      "Lasso 훈련 :  0.9882059522438204\n",
      "Lasso 테스트 :  0.9834044009315154\n"
     ]
    }
   ],
   "source": [
    "# Ridge모델에 alpha 0.1를 적용하여 훈련\n",
    "llasso = Lasso(alpha = 10)\n",
    "llasso.fit(train_scaled, train_taregt)\n",
    "tr_sc = llasso.score(train_scaled, train_taregt)\n",
    "te_sc = llasso.score(test_scaled, test_target)\n",
    "print('Lasso 훈련 : ',llasso.score(train_scaled, train_taregt))\n",
    "print('Lasso 테스트 : ',llasso.score(test_scaled, test_target))"
   ]
  },
  {
   "cell_type": "code",
   "execution_count": 126,
   "id": "df94efaf",
   "metadata": {},
   "outputs": [
    {
     "name": "stdout",
     "output_type": "stream",
     "text": [
      "Lasso 훈련 :  0.9882059522438204\n",
      "Lasso 테스트 :  0.9834044009315154\n",
      "----------------------------------------------------------------------------------------------------\n",
      "Ridge 훈련 :  0.9897983159614502\n",
      "Ridge 테스트 :  0.9842243738800763\n"
     ]
    }
   ],
   "source": [
    "print('Lasso 훈련 : ',llasso.score(train_scaled, train_taregt))\n",
    "print('Lasso 테스트 : ',llasso.score(test_scaled, test_target))\n",
    "print('----------' * 10)\n",
    "print('Ridge 훈련 : ',lridge.score(train_scaled, train_taregt))\n",
    "print('Ridge 테스트 : ',lridge.score(test_scaled, test_target))\n",
    "las_tr = llasso.score(train_scaled, train_taregt)\n",
    "las_te = llasso.score(test_scaled, test_target)\n",
    "rdg_tr = lridge.score(train_scaled, train_taregt)\n",
    "rdg_te = lridge.score(test_scaled, test_target)\n"
   ]
  },
  {
   "cell_type": "markdown",
   "id": "f31404c7",
   "metadata": {},
   "source": [
    "### <span style = 'color:red'>성능이 가장 좋았던 Lasso, Ridge의 alpha값으로 훈련해 본바 Ridge모델이 근소하게 성능이 좋음</span>\n",
    "#### [ 튜닝시 시각화 해석 방법 ]\n",
    "#### - 훈련곡선이 테스트곡선보다 위에 있어야 과소적합이 없는것임\n",
    "#### - 급격하게 떨어지는 시점 이전에 가까운 지점을 찾는다\n",
    "#### - 각각의 지점의 차이값을 비교해서 가장 낮은 값의 지점을 선택\n",
    "#### - 같은 차이값을 보인다면 정확도가 높은 알파값을 결정하면 됨"
   ]
  },
  {
   "cell_type": "code",
   "execution_count": 138,
   "id": "f6efdae2",
   "metadata": {},
   "outputs": [
    {
     "data": {
      "text/plain": [
       "<BarContainer object of 2 artists>"
      ]
     },
     "execution_count": 138,
     "metadata": {},
     "output_type": "execute_result"
    },
    {
     "data": {
      "image/png": "[encoded data removed]",
      "text/plain": [
       "<Figure size 640x480 with 1 Axes>"
      ]
     },
     "metadata": {},
     "output_type": "display_data"
    }
   ],
   "source": [
    "x = ['Lasso','Ridge']\n",
    "y1 = [0.9882059522438204,0.9897983159614502]\n",
    "y2 = [0.9834044009315154,0.9842243738800763]\n",
    "plt.bar(x ,y1,color='red',alpha=0.5)\n",
    "plt.bar(x ,y2,color='blue',alpha=0.5, bottom=y1)"
   ]
  },
  {
   "cell_type": "markdown",
   "id": "75a7dd56",
   "metadata": {},
   "source": [
    "### 선형, 릿지, 라쏘 모델 복습"
   ]
  },
  {
   "cell_type": "code",
   "execution_count": 137,
   "id": "4dabec58",
   "metadata": {},
   "outputs": [
    {
     "data": {
      "text/html": [
       "<div>\n",
       "<style scoped>\n",
       "    .dataframe tbody tr th:only-of-type {\n",
       "        vertical-align: middle;\n",
       "    }\n",
       "\n",
       "    .dataframe tbody tr th {\n",
       "        vertical-align: top;\n",
       "    }\n",
       "\n",
       "    .dataframe thead th {\n",
       "        text-align: right;\n",
       "    }\n",
       "</style>\n",
       "<table border=\"1\" class=\"dataframe\">\n",
       "  <thead>\n",
       "    <tr style=\"text-align: right;\">\n",
       "      <th></th>\n",
       "      <th>친밀도</th>\n",
       "      <th>적절성</th>\n",
       "      <th>만족도</th>\n",
       "    </tr>\n",
       "  </thead>\n",
       "  <tbody>\n",
       "    <tr>\n",
       "      <th>0</th>\n",
       "      <td>3</td>\n",
       "      <td>4</td>\n",
       "      <td>3</td>\n",
       "    </tr>\n",
       "    <tr>\n",
       "      <th>1</th>\n",
       "      <td>3</td>\n",
       "      <td>3</td>\n",
       "      <td>2</td>\n",
       "    </tr>\n",
       "    <tr>\n",
       "      <th>2</th>\n",
       "      <td>4</td>\n",
       "      <td>4</td>\n",
       "      <td>4</td>\n",
       "    </tr>\n",
       "    <tr>\n",
       "      <th>3</th>\n",
       "      <td>2</td>\n",
       "      <td>2</td>\n",
       "      <td>2</td>\n",
       "    </tr>\n",
       "    <tr>\n",
       "      <th>4</th>\n",
       "      <td>2</td>\n",
       "      <td>2</td>\n",
       "      <td>2</td>\n",
       "    </tr>\n",
       "    <tr>\n",
       "      <th>...</th>\n",
       "      <td>...</td>\n",
       "      <td>...</td>\n",
       "      <td>...</td>\n",
       "    </tr>\n",
       "    <tr>\n",
       "      <th>259</th>\n",
       "      <td>3</td>\n",
       "      <td>4</td>\n",
       "      <td>4</td>\n",
       "    </tr>\n",
       "    <tr>\n",
       "      <th>260</th>\n",
       "      <td>3</td>\n",
       "      <td>4</td>\n",
       "      <td>3</td>\n",
       "    </tr>\n",
       "    <tr>\n",
       "      <th>261</th>\n",
       "      <td>4</td>\n",
       "      <td>4</td>\n",
       "      <td>4</td>\n",
       "    </tr>\n",
       "    <tr>\n",
       "      <th>262</th>\n",
       "      <td>4</td>\n",
       "      <td>4</td>\n",
       "      <td>4</td>\n",
       "    </tr>\n",
       "    <tr>\n",
       "      <th>263</th>\n",
       "      <td>2</td>\n",
       "      <td>3</td>\n",
       "      <td>3</td>\n",
       "    </tr>\n",
       "  </tbody>\n",
       "</table>\n",
       "<p>264 rows × 3 columns</p>\n",
       "</div>"
      ],
      "text/plain": [
       "     친밀도  적절성  만족도\n",
       "0      3    4    3\n",
       "1      3    3    2\n",
       "2      4    4    4\n",
       "3      2    2    2\n",
       "4      2    2    2\n",
       "..   ...  ...  ...\n",
       "259    3    4    4\n",
       "260    3    4    3\n",
       "261    4    4    4\n",
       "262    4    4    4\n",
       "263    2    3    3\n",
       "\n",
       "[264 rows x 3 columns]"
      ]
     },
     "execution_count": 137,
     "metadata": {},
     "output_type": "execute_result"
    }
   ],
   "source": [
    "ddf = pd.read_csv('./data/04_(문제)_회귀모델_drinking_water.csv')\n",
    "ddf"
   ]
  },
  {
   "cell_type": "code",
   "execution_count": null,
   "id": "5ebcbd57",
   "metadata": {},
   "outputs": [],
   "source": [
    "# "
   ]
  }
 ],
 "metadata": {
  "kernelspec": {
   "display_name": "sj_prj",
   "language": "python",
   "name": "sj_prj"
  },
  "language_info": {
   "codemirror_mode": {
    "name": "ipython",
    "version": 3
   },
   "file_extension": ".py",
   "mimetype": "text/x-python",
   "name": "python",
   "nbconvert_exporter": "python",
   "pygments_lexer": "ipython3",
   "version": "3.9.16"
  }
 },
 "nbformat": 4,
 "nbformat_minor": 5
}
