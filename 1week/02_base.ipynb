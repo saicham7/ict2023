{
 "cells": [
  {
   "cell_type": "markdown",
   "id": "6bb7e08a",
   "metadata": {},
   "source": [
    "#### LIST"
   ]
  },
  {
   "cell_type": "code",
   "execution_count": 2,
   "id": "7a5933e0",
   "metadata": {},
   "outputs": [
    {
     "data": {
      "text/plain": [
       "'\\n[] : 리스트(python), 배열(numpy)\\n\\ndb로부터 데이터를 읽어오면\\n[(),()]->[{:,:,:},{:,:,:},{...}]\\n'"
      ]
     },
     "execution_count": 2,
     "metadata": {},
     "output_type": "execute_result"
    }
   ],
   "source": [
    "\"\"\"\n",
    "[] : 리스트(python), 배열(numpy)\n",
    "\n",
    "db로부터 데이터를 읽어오면\n",
    "[(),()]->[{:,:,:},{:,:,:},{...}]\n",
    "\"\"\""
   ]
  },
  {
   "cell_type": "code",
   "execution_count": 10,
   "id": "fbf459a0",
   "metadata": {},
   "outputs": [],
   "source": [
    "a= [1,3.33,\"666\"]"
   ]
  },
  {
   "cell_type": "code",
   "execution_count": 12,
   "id": "49dcf7da",
   "metadata": {},
   "outputs": [
    {
     "data": {
      "text/plain": [
       "[1, 3.33, '666']"
      ]
     },
     "execution_count": 12,
     "metadata": {},
     "output_type": "execute_result"
    }
   ],
   "source": [
    "a"
   ]
  },
  {
   "cell_type": "code",
   "execution_count": 14,
   "id": "22e021d6",
   "metadata": {},
   "outputs": [
    {
     "name": "stdout",
     "output_type": "stream",
     "text": [
      "이름 :  홍길동 나이 :  21\n"
     ]
    }
   ],
   "source": [
    "name = \"홍길동\"\n",
    "age =21\n",
    "print(\"이름 : \", name, \"나이 : \",age)"
   ]
  },
  {
   "cell_type": "code",
   "execution_count": 16,
   "id": "961f03cd",
   "metadata": {},
   "outputs": [
    {
     "name": "stdout",
     "output_type": "stream",
     "text": [
      "이름 :홍길동 나이 : 21\n"
     ]
    }
   ],
   "source": [
    "print(\"이름 :{} 나이 : {}\".format(name, age))"
   ]
  },
  {
   "cell_type": "code",
   "execution_count": 19,
   "id": "7649fe7c",
   "metadata": {},
   "outputs": [
    {
     "data": {
      "text/plain": [
       "1"
      ]
     },
     "execution_count": 19,
     "metadata": {},
     "output_type": "execute_result"
    }
   ],
   "source": [
    "name = 1\n",
    "name"
   ]
  },
  {
   "cell_type": "code",
   "execution_count": 20,
   "id": "e61926b3",
   "metadata": {},
   "outputs": [
    {
     "data": {
      "text/plain": [
       "[1, '2']"
      ]
     },
     "execution_count": 20,
     "metadata": {},
     "output_type": "execute_result"
    }
   ],
   "source": [
    "list_v = []\n",
    "list_v = [1,\"2\"]\n",
    "list_v"
   ]
  },
  {
   "cell_type": "code",
   "execution_count": 23,
   "id": "b8ccd69b",
   "metadata": {},
   "outputs": [
    {
     "data": {
      "text/plain": [
       "'2'"
      ]
     },
     "execution_count": 23,
     "metadata": {},
     "output_type": "execute_result"
    }
   ],
   "source": [
    "list_v[1]"
   ]
  },
  {
   "cell_type": "markdown",
   "id": "6147cb34",
   "metadata": {},
   "source": [
    "#### DICTIONARY"
   ]
  },
  {
   "cell_type": "code",
   "execution_count": 24,
   "id": "6e610254",
   "metadata": {},
   "outputs": [
    {
     "data": {
      "text/plain": [
       "{'name': 'hong', 'age': 21, 'list_c': [1, '2']}"
      ]
     },
     "execution_count": 24,
     "metadata": {},
     "output_type": "execute_result"
    }
   ],
   "source": [
    "dic_v ={}\n",
    "dic_v={'name':'hong','age':21,\n",
    "     'list_c' : list_v}\n",
    "dic_v"
   ]
  },
  {
   "cell_type": "code",
   "execution_count": 27,
   "id": "94cd1fb5",
   "metadata": {},
   "outputs": [
    {
     "data": {
      "text/plain": [
       "[1, '2']"
      ]
     },
     "execution_count": 27,
     "metadata": {},
     "output_type": "execute_result"
    }
   ],
   "source": [
    "dic_v['list_c']"
   ]
  },
  {
   "cell_type": "code",
   "execution_count": 29,
   "id": "4e9cc4b9",
   "metadata": {},
   "outputs": [
    {
     "data": {
      "text/plain": [
       "'2'"
      ]
     },
     "execution_count": 29,
     "metadata": {},
     "output_type": "execute_result"
    }
   ],
   "source": [
    "dic_v['list_c'][1]\n"
   ]
  },
  {
   "cell_type": "code",
   "execution_count": 31,
   "id": "365a6d2e",
   "metadata": {},
   "outputs": [
    {
     "data": {
      "text/plain": [
       "dict_values(['hong', 21, [1, '2']])"
      ]
     },
     "execution_count": 31,
     "metadata": {},
     "output_type": "execute_result"
    }
   ],
   "source": [
    "dic_v.values()"
   ]
  },
  {
   "cell_type": "code",
   "execution_count": 33,
   "id": "0faa4b95",
   "metadata": {},
   "outputs": [
    {
     "data": {
      "text/plain": [
       "dict_keys(['name', 'age', 'list_c'])"
      ]
     },
     "execution_count": 33,
     "metadata": {},
     "output_type": "execute_result"
    }
   ],
   "source": [
    "dic_v.keys()"
   ]
  },
  {
   "cell_type": "code",
   "execution_count": 34,
   "id": "69dbe1cb",
   "metadata": {},
   "outputs": [
    {
     "data": {
      "text/plain": [
       "dict_items([('name', 'hong'), ('age', 21), ('list_c', [1, '2'])])"
      ]
     },
     "execution_count": 34,
     "metadata": {},
     "output_type": "execute_result"
    }
   ],
   "source": [
    "dic_v.items()"
   ]
  },
  {
   "cell_type": "markdown",
   "id": "a1aee9cc",
   "metadata": {},
   "source": [
    "#### TUPLE"
   ]
  },
  {
   "cell_type": "code",
   "execution_count": 35,
   "id": "b7858848",
   "metadata": {},
   "outputs": [
    {
     "data": {
      "text/plain": [
       "(1, 'hong', [1, '2'], {'name': 'hong', 'age': 21, 'list_c': [1, '2']})"
      ]
     },
     "execution_count": 35,
     "metadata": {},
     "output_type": "execute_result"
    }
   ],
   "source": [
    "tu_v = ()\n",
    "tu_v =(1, \"hong\", list_v,dic_v)\n",
    "tu_v"
   ]
  },
  {
   "cell_type": "code",
   "execution_count": 36,
   "id": "37fc6197",
   "metadata": {},
   "outputs": [
    {
     "data": {
      "text/plain": [
       "1"
      ]
     },
     "execution_count": 36,
     "metadata": {},
     "output_type": "execute_result"
    }
   ],
   "source": [
    "tu_v[0]"
   ]
  },
  {
   "cell_type": "code",
   "execution_count": 37,
   "id": "c9cf1e5e",
   "metadata": {},
   "outputs": [
    {
     "data": {
      "text/plain": [
       "[1, '2']"
      ]
     },
     "execution_count": 37,
     "metadata": {},
     "output_type": "execute_result"
    }
   ],
   "source": [
    "tu_v[2]"
   ]
  },
  {
   "cell_type": "code",
   "execution_count": 38,
   "id": "1ca124bf",
   "metadata": {},
   "outputs": [
    {
     "data": {
      "text/plain": [
       "{'name': 'hong', 'age': 21, 'list_c': [1, '2']}"
      ]
     },
     "execution_count": 38,
     "metadata": {},
     "output_type": "execute_result"
    }
   ],
   "source": [
    "tu_v[3]"
   ]
  },
  {
   "cell_type": "code",
   "execution_count": 39,
   "id": "82f05d3d",
   "metadata": {},
   "outputs": [
    {
     "data": {
      "text/plain": [
       "[1, '2']"
      ]
     },
     "execution_count": 39,
     "metadata": {},
     "output_type": "execute_result"
    }
   ],
   "source": [
    "list_v"
   ]
  },
  {
   "cell_type": "code",
   "execution_count": 40,
   "id": "4ef513aa",
   "metadata": {},
   "outputs": [],
   "source": [
    "list_v.append(\"hong2\")"
   ]
  },
  {
   "cell_type": "code",
   "execution_count": 41,
   "id": "d77dbfba",
   "metadata": {},
   "outputs": [
    {
     "data": {
      "text/plain": [
       "[1, '2', 'hong2']"
      ]
     },
     "execution_count": 41,
     "metadata": {},
     "output_type": "execute_result"
    }
   ],
   "source": [
    "list_v"
   ]
  },
  {
   "cell_type": "code",
   "execution_count": 45,
   "id": "169eb8d3",
   "metadata": {},
   "outputs": [],
   "source": [
    "list_v[2] = 'hong3'"
   ]
  },
  {
   "cell_type": "code",
   "execution_count": 47,
   "id": "efc79ce4",
   "metadata": {},
   "outputs": [],
   "source": [
    "list_v.append('hong4')"
   ]
  },
  {
   "cell_type": "code",
   "execution_count": 48,
   "id": "c4e058da",
   "metadata": {},
   "outputs": [
    {
     "data": {
      "text/plain": [
       "[1, '2', 'hong3', 'hong4']"
      ]
     },
     "execution_count": 48,
     "metadata": {},
     "output_type": "execute_result"
    }
   ],
   "source": [
    "list_v"
   ]
  },
  {
   "cell_type": "code",
   "execution_count": 49,
   "id": "ccab3a46",
   "metadata": {},
   "outputs": [
    {
     "name": "stdout",
     "output_type": "stream",
     "text": [
      "1\n",
      "2\n",
      "hong3\n",
      "hong4\n"
     ]
    }
   ],
   "source": [
    "for i in list_v:\n",
    "    print(i)"
   ]
  },
  {
   "cell_type": "code",
   "execution_count": 53,
   "id": "f74c3e25",
   "metadata": {},
   "outputs": [
    {
     "name": "stdout",
     "output_type": "stream",
     "text": [
      "1번째 : 1\n",
      "2번째 : 2\n",
      "3번째 : hong3\n",
      "4번째 : hong4\n"
     ]
    }
   ],
   "source": [
    "for i, x  in enumerate(list_v):\n",
    "    print('{}번째 : {}'.format(i+1,x))"
   ]
  },
  {
   "cell_type": "markdown",
   "id": "7af5e892",
   "metadata": {},
   "source": [
    "#### 인덱스 번호 이용"
   ]
  },
  {
   "cell_type": "code",
   "execution_count": 54,
   "id": "dfbbfe8a",
   "metadata": {},
   "outputs": [
    {
     "name": "stdout",
     "output_type": "stream",
     "text": [
      "1\n",
      "2\n",
      "hong3\n",
      "hong4\n"
     ]
    }
   ],
   "source": [
    "for i in range(len(list_v)):\n",
    "    print(list_v[i])"
   ]
  },
  {
   "cell_type": "markdown",
   "id": "6bcec2f9",
   "metadata": {},
   "source": [
    "#### 값 이용"
   ]
  },
  {
   "cell_type": "code",
   "execution_count": 55,
   "id": "c25c0509",
   "metadata": {},
   "outputs": [
    {
     "name": "stdout",
     "output_type": "stream",
     "text": [
      "1\n",
      "2\n",
      "hong3\n",
      "hong4\n"
     ]
    }
   ],
   "source": [
    "for i in list_v:\n",
    "    print(i)\n"
   ]
  },
  {
   "cell_type": "markdown",
   "id": "d8d72c7e",
   "metadata": {},
   "source": [
    "#### list_v 변수선언\n",
    "\n",
    "##### list_v2에 1~100추가 후 출력"
   ]
  },
  {
   "cell_type": "code",
   "execution_count": 58,
   "id": "ec5dfedc",
   "metadata": {},
   "outputs": [],
   "source": [
    "list_v2 =[]\n",
    "\n",
    "for i in range(1,101,1):\n",
    "    list_v2.append(i)\n",
    "    "
   ]
  },
  {
   "cell_type": "code",
   "execution_count": 60,
   "id": "babb2dfe",
   "metadata": {},
   "outputs": [
    {
     "name": "stdout",
     "output_type": "stream",
     "text": [
      "1\n",
      "2\n",
      "3\n",
      "4\n",
      "5\n",
      "6\n",
      "7\n",
      "8\n",
      "9\n",
      "10\n",
      "11\n",
      "12\n",
      "13\n",
      "14\n",
      "15\n",
      "16\n",
      "17\n",
      "18\n",
      "19\n",
      "20\n",
      "21\n",
      "22\n",
      "23\n",
      "24\n",
      "25\n",
      "26\n",
      "27\n",
      "28\n",
      "29\n",
      "30\n",
      "31\n",
      "32\n",
      "33\n",
      "34\n",
      "35\n",
      "36\n",
      "37\n",
      "38\n",
      "39\n",
      "40\n",
      "41\n",
      "42\n",
      "43\n",
      "44\n",
      "45\n",
      "46\n",
      "47\n",
      "48\n",
      "49\n",
      "50\n",
      "51\n",
      "52\n",
      "53\n",
      "54\n",
      "55\n",
      "56\n",
      "57\n",
      "58\n",
      "59\n",
      "60\n",
      "61\n",
      "62\n",
      "63\n",
      "64\n",
      "65\n",
      "66\n",
      "67\n",
      "68\n",
      "69\n",
      "70\n",
      "71\n",
      "72\n",
      "73\n",
      "74\n",
      "75\n",
      "76\n",
      "77\n",
      "78\n",
      "79\n",
      "80\n",
      "81\n",
      "82\n",
      "83\n",
      "84\n",
      "85\n",
      "86\n",
      "87\n",
      "88\n",
      "89\n",
      "90\n",
      "91\n",
      "92\n",
      "93\n",
      "94\n",
      "95\n",
      "96\n",
      "97\n",
      "98\n",
      "99\n",
      "100\n"
     ]
    }
   ],
   "source": [
    "for i in list_v2:\n",
    "    print(i)"
   ]
  },
  {
   "cell_type": "code",
   "execution_count": 61,
   "id": "620593b0",
   "metadata": {},
   "outputs": [],
   "source": [
    "import numpy as np\n"
   ]
  },
  {
   "cell_type": "code",
   "execution_count": 64,
   "id": "5f95576f",
   "metadata": {},
   "outputs": [],
   "source": [
    "list_v3 = np.arange(1,101)"
   ]
  },
  {
   "cell_type": "code",
   "execution_count": 66,
   "id": "20753fae",
   "metadata": {},
   "outputs": [
    {
     "name": "stdout",
     "output_type": "stream",
     "text": [
      "1\n",
      "2\n",
      "3\n",
      "4\n",
      "5\n",
      "6\n",
      "7\n",
      "8\n",
      "9\n",
      "10\n",
      "11\n",
      "12\n",
      "13\n",
      "14\n",
      "15\n",
      "16\n",
      "17\n",
      "18\n",
      "19\n",
      "20\n",
      "21\n",
      "22\n",
      "23\n",
      "24\n",
      "25\n",
      "26\n",
      "27\n",
      "28\n",
      "29\n",
      "30\n",
      "31\n",
      "32\n",
      "33\n",
      "34\n",
      "35\n",
      "36\n",
      "37\n",
      "38\n",
      "39\n",
      "40\n",
      "41\n",
      "42\n",
      "43\n",
      "44\n",
      "45\n",
      "46\n",
      "47\n",
      "48\n",
      "49\n",
      "50\n",
      "51\n",
      "52\n",
      "53\n",
      "54\n",
      "55\n",
      "56\n",
      "57\n",
      "58\n",
      "59\n",
      "60\n",
      "61\n",
      "62\n",
      "63\n",
      "64\n",
      "65\n",
      "66\n",
      "67\n",
      "68\n",
      "69\n",
      "70\n",
      "71\n",
      "72\n",
      "73\n",
      "74\n",
      "75\n",
      "76\n",
      "77\n",
      "78\n",
      "79\n",
      "80\n",
      "81\n",
      "82\n",
      "83\n",
      "84\n",
      "85\n",
      "86\n",
      "87\n",
      "88\n",
      "89\n",
      "90\n",
      "91\n",
      "92\n",
      "93\n",
      "94\n",
      "95\n",
      "96\n",
      "97\n",
      "98\n",
      "99\n",
      "100\n"
     ]
    }
   ],
   "source": [
    "for i in list_v3:\n",
    "    print(i)"
   ]
  },
  {
   "cell_type": "code",
   "execution_count": 67,
   "id": "fdb6d651",
   "metadata": {},
   "outputs": [
    {
     "data": {
      "text/plain": [
       "{'name': 'hong', 'age': 21, 'list_c': [1, '2', 'hong3', 'hong4']}"
      ]
     },
     "execution_count": 67,
     "metadata": {},
     "output_type": "execute_result"
    }
   ],
   "source": [
    "dic_v"
   ]
  },
  {
   "cell_type": "code",
   "execution_count": 68,
   "id": "88c95db7",
   "metadata": {},
   "outputs": [],
   "source": [
    "dic_v[\"addr\"] = \"sejong\""
   ]
  },
  {
   "cell_type": "code",
   "execution_count": 69,
   "id": "c122e936",
   "metadata": {},
   "outputs": [
    {
     "data": {
      "text/plain": [
       "{'name': 'hong',\n",
       " 'age': 21,\n",
       " 'list_c': [1, '2', 'hong3', 'hong4'],\n",
       " 'addr': 'sejong'}"
      ]
     },
     "execution_count": 69,
     "metadata": {},
     "output_type": "execute_result"
    }
   ],
   "source": [
    "dic_v"
   ]
  },
  {
   "cell_type": "code",
   "execution_count": 70,
   "id": "d9840881",
   "metadata": {},
   "outputs": [],
   "source": [
    "dic_v[\"addr\"] = \"seoul\""
   ]
  },
  {
   "cell_type": "code",
   "execution_count": 71,
   "id": "41a306b3",
   "metadata": {},
   "outputs": [
    {
     "data": {
      "text/plain": [
       "{'name': 'hong',\n",
       " 'age': 21,\n",
       " 'list_c': [1, '2', 'hong3', 'hong4'],\n",
       " 'addr': 'seoul'}"
      ]
     },
     "execution_count": 71,
     "metadata": {},
     "output_type": "execute_result"
    }
   ],
   "source": [
    "dic_v"
   ]
  },
  {
   "cell_type": "code",
   "execution_count": 79,
   "id": "ec70ef79",
   "metadata": {},
   "outputs": [
    {
     "name": "stdout",
     "output_type": "stream",
     "text": [
      "hong\n",
      "21\n",
      "[1, '2', 'hong3', 'hong4']\n",
      "seoul\n"
     ]
    }
   ],
   "source": [
    "for x in dic_v.values():\n",
    "    print(x)"
   ]
  },
  {
   "cell_type": "code",
   "execution_count": 80,
   "id": "8b46ea64",
   "metadata": {},
   "outputs": [
    {
     "name": "stdout",
     "output_type": "stream",
     "text": [
      "hong\n",
      "21\n",
      "[1, '2', 'hong3', 'hong4']\n",
      "seoul\n"
     ]
    }
   ],
   "source": [
    "for x in dic_v:\n",
    "    print(dic_v[x])"
   ]
  },
  {
   "cell_type": "code",
   "execution_count": 81,
   "id": "7debcf31",
   "metadata": {},
   "outputs": [
    {
     "name": "stdout",
     "output_type": "stream",
     "text": [
      "name\n",
      "age\n",
      "list_c\n",
      "addr\n"
     ]
    }
   ],
   "source": [
    "for x in dic_v:\n",
    "    print(x)"
   ]
  },
  {
   "cell_type": "code",
   "execution_count": 82,
   "id": "76b01256",
   "metadata": {},
   "outputs": [],
   "source": [
    "### 딕셔너리 안의 리스크 값 출력"
   ]
  },
  {
   "cell_type": "code",
   "execution_count": 101,
   "id": "4021da46",
   "metadata": {},
   "outputs": [
    {
     "name": "stdout",
     "output_type": "stream",
     "text": [
      "1\n",
      "2\n",
      "hong3\n",
      "hong4\n"
     ]
    }
   ],
   "source": [
    "for x in dic_v:\n",
    "    if x =='list_c':\n",
    "        for d in dic_v[x]:\n",
    "            print(d)"
   ]
  },
  {
   "cell_type": "code",
   "execution_count": 113,
   "id": "8d93b69c",
   "metadata": {},
   "outputs": [
    {
     "data": {
      "text/plain": [
       "\"\\n## 위 변수를 이용해 아래처럼 작성\\n[{1:'홍길동',2:'홍길동2'},\\n {1:'이순신',2:'이순신2'},\\n {1:'강감찬',2:'강감찬2'},\\n {1:'김구',2:'김구2'}, \\n  ]\\n\""
      ]
     },
     "execution_count": 113,
     "metadata": {},
     "output_type": "execute_result"
    }
   ],
   "source": [
    "list_v2=[]\n",
    "dict_v1={}\n",
    "dict_v2={}\n",
    "dict_v3={}\n",
    "dict_v4={}\n",
    "\n",
    "'''\n",
    "## 위 변수를 이용해 아래처럼 작성\n",
    "[{1:'홍길동',2:'홍길동2'},\n",
    " {1:'이순신',2:'이순신2'},\n",
    " {1:'강감찬',2:'강감찬2'},\n",
    " {1:'김구',2:'김구2'}, \n",
    "  ]\n",
    "'''"
   ]
  },
  {
   "cell_type": "code",
   "execution_count": 114,
   "id": "0a8790e0",
   "metadata": {},
   "outputs": [],
   "source": [
    "dict_v1={1:'홍길동',2:'홍길동2'}\n",
    "dict_v2={1:'이순신',2:'이순신2'}\n",
    "dict_v3={1:'강감찬',2:'강감찬2'}"
   ]
  },
  {
   "cell_type": "code",
   "execution_count": 115,
   "id": "305acc29",
   "metadata": {},
   "outputs": [],
   "source": [
    "dict_v4[1]='김구'\n",
    "dict_v4[2]='김구2'"
   ]
  },
  {
   "cell_type": "code",
   "execution_count": 106,
   "id": "b5a0d85d",
   "metadata": {},
   "outputs": [
    {
     "data": {
      "text/plain": [
       "{1: '강감찬', 2: '강감찬2'}"
      ]
     },
     "execution_count": 106,
     "metadata": {},
     "output_type": "execute_result"
    }
   ],
   "source": [
    "dict_v3"
   ]
  },
  {
   "cell_type": "code",
   "execution_count": 116,
   "id": "e5e8d871",
   "metadata": {},
   "outputs": [],
   "source": [
    "list_v2.append(dict_v1)\n",
    "list_v2.append(dict_v2)\n",
    "list_v2.append(dict_v3)\n",
    "list_v2.append(dict_v4)"
   ]
  },
  {
   "cell_type": "code",
   "execution_count": 118,
   "id": "7cb44cfc",
   "metadata": {},
   "outputs": [
    {
     "data": {
      "text/plain": [
       "[{1: '홍길동', 2: '홍길동2'},\n",
       " {1: '이순신', 2: '이순신2'},\n",
       " {1: '강감찬', 2: '강감찬2'},\n",
       " {1: '김구', 2: '김구2'}]"
      ]
     },
     "execution_count": 118,
     "metadata": {},
     "output_type": "execute_result"
    }
   ],
   "source": [
    "list_v2"
   ]
  },
  {
   "cell_type": "code",
   "execution_count": 122,
   "id": "6e7a0891",
   "metadata": {},
   "outputs": [
    {
     "name": "stdout",
     "output_type": "stream",
     "text": [
      "key : dict_keys([1, 2]) / values : dict_values(['홍길동', '홍길동2'])\n",
      "key : dict_keys([1, 2]) / values : dict_values(['이순신', '이순신2'])\n",
      "key : dict_keys([1, 2]) / values : dict_values(['강감찬', '강감찬2'])\n",
      "key : dict_keys([1, 2]) / values : dict_values(['김구', '김구2'])\n"
     ]
    }
   ],
   "source": [
    "for x in range(len(list_v2)):\n",
    "    print('key : {} / values : {}'.format(list_v2[x].keys(),list_v2[x].values()))"
   ]
  },
  {
   "cell_type": "code",
   "execution_count": 129,
   "id": "6d2001c0",
   "metadata": {},
   "outputs": [
    {
     "name": "stdout",
     "output_type": "stream",
     "text": [
      "key : 1 / values : 홍길동\n",
      "key : 2 / values : 홍길동2\n",
      "key : 1 / values : 이순신\n",
      "key : 2 / values : 이순신2\n",
      "key : 1 / values : 강감찬\n",
      "key : 2 / values : 강감찬2\n",
      "key : 1 / values : 김구\n",
      "key : 2 / values : 김구2\n"
     ]
    }
   ],
   "source": [
    "for x in list_v2:\n",
    "    #print(x)\n",
    "    for k in x:\n",
    "        print('key : {} / values : {}'.format(k,x[k]))"
   ]
  },
  {
   "cell_type": "code",
   "execution_count": 130,
   "id": "4d883318",
   "metadata": {},
   "outputs": [
    {
     "data": {
      "text/plain": [
       "[{1: '홍길동', 2: '홍길동2'},\n",
       " {1: '이순신', 2: '이순신2'},\n",
       " {1: '강감찬', 2: '강감찬2'},\n",
       " {1: '김구', 2: '김구2'}]"
      ]
     },
     "execution_count": 130,
     "metadata": {},
     "output_type": "execute_result"
    }
   ],
   "source": [
    "list_v2"
   ]
  },
  {
   "cell_type": "code",
   "execution_count": 135,
   "id": "409bdebb",
   "metadata": {},
   "outputs": [
    {
     "name": "stdout",
     "output_type": "stream",
     "text": [
      "key : 1 / values : 강감찬\n"
     ]
    }
   ],
   "source": [
    "for x in list_v2:\n",
    "    for k in x:\n",
    "        if x[k] == '강감찬':\n",
    "            print('key : {} / values : {}'.format(k,x[k]))\n",
    "            break"
   ]
  },
  {
   "cell_type": "code",
   "execution_count": 136,
   "id": "f2ba21e9",
   "metadata": {},
   "outputs": [
    {
     "name": "stdout",
     "output_type": "stream",
     "text": [
      "{1: '홍길동', 2: '홍길동2'}\n",
      "{1: '이순신', 2: '이순신2'}\n",
      "{1: '강감찬', 2: '강감찬2'}\n",
      "{1: '김구', 2: '김구2'}\n"
     ]
    }
   ],
   "source": [
    "for x in list_v2:\n",
    "    print(x)"
   ]
  },
  {
   "cell_type": "code",
   "execution_count": 151,
   "id": "3762364d",
   "metadata": {},
   "outputs": [
    {
     "name": "stdout",
     "output_type": "stream",
     "text": [
      "key : 1 / values : 강감찬\n",
      "key : 2 / values : 강감찬2\n"
     ]
    }
   ],
   "source": [
    "for x in list_v2:\n",
    "    if '강감찬2' in x.values():\n",
    "        for k in x:\n",
    "            print('key : {} / values : {}'.format(k,x[k]))\n",
    "        break\n",
    "            \n",
    "            "
   ]
  },
  {
   "cell_type": "markdown",
   "id": "c790f585",
   "metadata": {},
   "source": [
    "#### DICTIONARY"
   ]
  },
  {
   "cell_type": "code",
   "execution_count": 152,
   "id": "1b5d3dad",
   "metadata": {},
   "outputs": [
    {
     "data": {
      "text/plain": [
       "\"\\n## 위 변수를 이용해 아래처럼 작성\\n{'name' = ['홍길동1','홍길동2','홍길동3'],\\n 'age' = ['18','20','25']\\n 'local' = ['서울','경기','대전']\\n  ]\\n\""
      ]
     },
     "execution_count": 152,
     "metadata": {},
     "output_type": "execute_result"
    }
   ],
   "source": [
    "dict_v ={}\n",
    "list_c1 =[]\n",
    "list_c2 =[]\n",
    "list_c3 =[]\n",
    "'''\n",
    "## 위 변수를 이용해 아래처럼 작성\n",
    "{'name' = ['홍길동1','홍길동2','홍길동3'],\n",
    " 'age' = ['18','20','25']\n",
    " 'local' = ['서울','경기','대전']\n",
    "  ]\n",
    "'''"
   ]
  },
  {
   "cell_type": "code",
   "execution_count": 154,
   "id": "d1ecb2ec",
   "metadata": {},
   "outputs": [],
   "source": [
    "list_c1 = ['홍길동1','홍길동2','홍길동3']\n",
    "list_c2 = ['18','20','25']\n",
    "list_c3 = ['서울','경기','대전']"
   ]
  },
  {
   "cell_type": "code",
   "execution_count": 155,
   "id": "8015458a",
   "metadata": {},
   "outputs": [],
   "source": [
    "dict_v['name'] = list_c1\n",
    "dict_v['age'] = list_c2\n",
    "dict_v['local'] = list_c3"
   ]
  },
  {
   "cell_type": "code",
   "execution_count": 156,
   "id": "d12dd42e",
   "metadata": {},
   "outputs": [
    {
     "data": {
      "text/plain": [
       "{'name': ['홍길동1', '홍길동2', '홍길동3'],\n",
       " 'age': ['18', '20', '25'],\n",
       " 'local': ['서울', '경기', '대전']}"
      ]
     },
     "execution_count": 156,
     "metadata": {},
     "output_type": "execute_result"
    }
   ],
   "source": [
    "dict_v"
   ]
  },
  {
   "cell_type": "code",
   "execution_count": 157,
   "id": "8172c0c4",
   "metadata": {},
   "outputs": [
    {
     "data": {
      "text/plain": [
       "dict_keys(['name', 'age', 'local'])"
      ]
     },
     "execution_count": 157,
     "metadata": {},
     "output_type": "execute_result"
    }
   ],
   "source": [
    "dict_v.keys()"
   ]
  },
  {
   "cell_type": "code",
   "execution_count": 158,
   "id": "ebfc835c",
   "metadata": {},
   "outputs": [
    {
     "data": {
      "text/plain": [
       "dict_values([['홍길동1', '홍길동2', '홍길동3'], ['18', '20', '25'], ['서울', '경기', '대전']])"
      ]
     },
     "execution_count": 158,
     "metadata": {},
     "output_type": "execute_result"
    }
   ],
   "source": [
    "dict_v.values()"
   ]
  },
  {
   "cell_type": "code",
   "execution_count": 159,
   "id": "561311c0",
   "metadata": {},
   "outputs": [
    {
     "name": "stdout",
     "output_type": "stream",
     "text": [
      "['홍길동1', '홍길동2', '홍길동3']\n",
      "['18', '20', '25']\n",
      "['서울', '경기', '대전']\n"
     ]
    }
   ],
   "source": [
    "for x in dict_v:\n",
    "    print(dict_v[x])"
   ]
  },
  {
   "cell_type": "code",
   "execution_count": 160,
   "id": "57b22d79",
   "metadata": {},
   "outputs": [
    {
     "name": "stdout",
     "output_type": "stream",
     "text": [
      "['홍길동1', '홍길동2', '홍길동3']\n",
      "['18', '20', '25']\n",
      "['서울', '경기', '대전']\n"
     ]
    }
   ],
   "source": [
    "for x in dict_v.values():\n",
    "    print(x)"
   ]
  },
  {
   "cell_type": "code",
   "execution_count": 166,
   "id": "448d6f79",
   "metadata": {},
   "outputs": [
    {
     "data": {
      "text/plain": [
       "'\\nkey : name / values : 홍길동1\\nkey : name / values : 홍길동2\\nkey : name / values : 홍길동3\\nkey : name / values : 18\\n'"
      ]
     },
     "execution_count": 166,
     "metadata": {},
     "output_type": "execute_result"
    }
   ],
   "source": [
    "\"\"\"\n",
    "key : name / values : 홍길동1\n",
    "key : name / values : 홍길동2\n",
    "key : name / values : 홍길동3\n",
    "key : name / values : 18\n",
    "\"\"\""
   ]
  },
  {
   "cell_type": "code",
   "execution_count": 179,
   "id": "4ec761c6",
   "metadata": {},
   "outputs": [
    {
     "name": "stdout",
     "output_type": "stream",
     "text": [
      "key : name / values : 홍길동1\n",
      "key : name / values : 홍길동2\n",
      "key : name / values : 홍길동3\n",
      "key : age / values : 18\n",
      "key : age / values : 20\n",
      "key : age / values : 25\n",
      "key : local / values : 서울\n",
      "key : local / values : 경기\n",
      "key : local / values : 대전\n"
     ]
    }
   ],
   "source": [
    "for x in dict_v:\n",
    "    #print(x)\n",
    "    for d in dict_v[x]:\n",
    "        print('key : {} / values : {}'.format(x,d))"
   ]
  },
  {
   "cell_type": "code",
   "execution_count": 181,
   "id": "1908b8c8",
   "metadata": {},
   "outputs": [
    {
     "data": {
      "text/plain": [
       "\"\\n{'name' = ['홍길동1','홍길동2'...'홍길동100'],\\n 'age' = ['1','2',...'100']\\n 'local' = ['서울1','서울2',...'서울100']}\\n\""
      ]
     },
     "execution_count": 181,
     "metadata": {},
     "output_type": "execute_result"
    }
   ],
   "source": [
    "\"\"\"\n",
    "{'name' = ['홍길동1','홍길동2'...'홍길동100'],\n",
    " 'age' = ['1','2',...'100']\n",
    " 'local' = ['서울1','서울2',...'서울100']}\n",
    "\"\"\""
   ]
  },
  {
   "cell_type": "code",
   "execution_count": 184,
   "id": "16007fc5",
   "metadata": {},
   "outputs": [],
   "source": [
    "lst1 = []\n",
    "cst = '홍길동'\n",
    "for i in range(1,101,1):\n",
    "    lst1.append(cst+str(i))"
   ]
  },
  {
   "cell_type": "code",
   "execution_count": 187,
   "id": "4192aa13",
   "metadata": {},
   "outputs": [],
   "source": [
    "lst2 = []\n",
    "for i in range(1,101,1):\n",
    "    lst2.append(str(i))"
   ]
  },
  {
   "cell_type": "code",
   "execution_count": 189,
   "id": "861dcb1c",
   "metadata": {},
   "outputs": [],
   "source": [
    "lst3 = []\n",
    "cst = '서울'\n",
    "for i in range(1,101,1):\n",
    "    lst3.append(cst+str(i))"
   ]
  },
  {
   "cell_type": "code",
   "execution_count": 195,
   "id": "29b8fc4b",
   "metadata": {},
   "outputs": [],
   "source": [
    "dic_l={}\n",
    "dic_l['name']= lst1\n",
    "dic_l['age']= lst2\n",
    "dic_l['local']= lst3"
   ]
  },
  {
   "cell_type": "code",
   "execution_count": 197,
   "id": "7e5aea04",
   "metadata": {},
   "outputs": [
    {
     "data": {
      "text/plain": [
       "{'name': ['홍길동1',\n",
       "  '홍길동2',\n",
       "  '홍길동3',\n",
       "  '홍길동4',\n",
       "  '홍길동5',\n",
       "  '홍길동6',\n",
       "  '홍길동7',\n",
       "  '홍길동8',\n",
       "  '홍길동9',\n",
       "  '홍길동10',\n",
       "  '홍길동11',\n",
       "  '홍길동12',\n",
       "  '홍길동13',\n",
       "  '홍길동14',\n",
       "  '홍길동15',\n",
       "  '홍길동16',\n",
       "  '홍길동17',\n",
       "  '홍길동18',\n",
       "  '홍길동19',\n",
       "  '홍길동20',\n",
       "  '홍길동21',\n",
       "  '홍길동22',\n",
       "  '홍길동23',\n",
       "  '홍길동24',\n",
       "  '홍길동25',\n",
       "  '홍길동26',\n",
       "  '홍길동27',\n",
       "  '홍길동28',\n",
       "  '홍길동29',\n",
       "  '홍길동30',\n",
       "  '홍길동31',\n",
       "  '홍길동32',\n",
       "  '홍길동33',\n",
       "  '홍길동34',\n",
       "  '홍길동35',\n",
       "  '홍길동36',\n",
       "  '홍길동37',\n",
       "  '홍길동38',\n",
       "  '홍길동39',\n",
       "  '홍길동40',\n",
       "  '홍길동41',\n",
       "  '홍길동42',\n",
       "  '홍길동43',\n",
       "  '홍길동44',\n",
       "  '홍길동45',\n",
       "  '홍길동46',\n",
       "  '홍길동47',\n",
       "  '홍길동48',\n",
       "  '홍길동49',\n",
       "  '홍길동50',\n",
       "  '홍길동51',\n",
       "  '홍길동52',\n",
       "  '홍길동53',\n",
       "  '홍길동54',\n",
       "  '홍길동55',\n",
       "  '홍길동56',\n",
       "  '홍길동57',\n",
       "  '홍길동58',\n",
       "  '홍길동59',\n",
       "  '홍길동60',\n",
       "  '홍길동61',\n",
       "  '홍길동62',\n",
       "  '홍길동63',\n",
       "  '홍길동64',\n",
       "  '홍길동65',\n",
       "  '홍길동66',\n",
       "  '홍길동67',\n",
       "  '홍길동68',\n",
       "  '홍길동69',\n",
       "  '홍길동70',\n",
       "  '홍길동71',\n",
       "  '홍길동72',\n",
       "  '홍길동73',\n",
       "  '홍길동74',\n",
       "  '홍길동75',\n",
       "  '홍길동76',\n",
       "  '홍길동77',\n",
       "  '홍길동78',\n",
       "  '홍길동79',\n",
       "  '홍길동80',\n",
       "  '홍길동81',\n",
       "  '홍길동82',\n",
       "  '홍길동83',\n",
       "  '홍길동84',\n",
       "  '홍길동85',\n",
       "  '홍길동86',\n",
       "  '홍길동87',\n",
       "  '홍길동88',\n",
       "  '홍길동89',\n",
       "  '홍길동90',\n",
       "  '홍길동91',\n",
       "  '홍길동92',\n",
       "  '홍길동93',\n",
       "  '홍길동94',\n",
       "  '홍길동95',\n",
       "  '홍길동96',\n",
       "  '홍길동97',\n",
       "  '홍길동98',\n",
       "  '홍길동99',\n",
       "  '홍길동100'],\n",
       " 'age': ['1',\n",
       "  '2',\n",
       "  '3',\n",
       "  '4',\n",
       "  '5',\n",
       "  '6',\n",
       "  '7',\n",
       "  '8',\n",
       "  '9',\n",
       "  '10',\n",
       "  '11',\n",
       "  '12',\n",
       "  '13',\n",
       "  '14',\n",
       "  '15',\n",
       "  '16',\n",
       "  '17',\n",
       "  '18',\n",
       "  '19',\n",
       "  '20',\n",
       "  '21',\n",
       "  '22',\n",
       "  '23',\n",
       "  '24',\n",
       "  '25',\n",
       "  '26',\n",
       "  '27',\n",
       "  '28',\n",
       "  '29',\n",
       "  '30',\n",
       "  '31',\n",
       "  '32',\n",
       "  '33',\n",
       "  '34',\n",
       "  '35',\n",
       "  '36',\n",
       "  '37',\n",
       "  '38',\n",
       "  '39',\n",
       "  '40',\n",
       "  '41',\n",
       "  '42',\n",
       "  '43',\n",
       "  '44',\n",
       "  '45',\n",
       "  '46',\n",
       "  '47',\n",
       "  '48',\n",
       "  '49',\n",
       "  '50',\n",
       "  '51',\n",
       "  '52',\n",
       "  '53',\n",
       "  '54',\n",
       "  '55',\n",
       "  '56',\n",
       "  '57',\n",
       "  '58',\n",
       "  '59',\n",
       "  '60',\n",
       "  '61',\n",
       "  '62',\n",
       "  '63',\n",
       "  '64',\n",
       "  '65',\n",
       "  '66',\n",
       "  '67',\n",
       "  '68',\n",
       "  '69',\n",
       "  '70',\n",
       "  '71',\n",
       "  '72',\n",
       "  '73',\n",
       "  '74',\n",
       "  '75',\n",
       "  '76',\n",
       "  '77',\n",
       "  '78',\n",
       "  '79',\n",
       "  '80',\n",
       "  '81',\n",
       "  '82',\n",
       "  '83',\n",
       "  '84',\n",
       "  '85',\n",
       "  '86',\n",
       "  '87',\n",
       "  '88',\n",
       "  '89',\n",
       "  '90',\n",
       "  '91',\n",
       "  '92',\n",
       "  '93',\n",
       "  '94',\n",
       "  '95',\n",
       "  '96',\n",
       "  '97',\n",
       "  '98',\n",
       "  '99',\n",
       "  '100'],\n",
       " 'local': ['서울1',\n",
       "  '서울2',\n",
       "  '서울3',\n",
       "  '서울4',\n",
       "  '서울5',\n",
       "  '서울6',\n",
       "  '서울7',\n",
       "  '서울8',\n",
       "  '서울9',\n",
       "  '서울10',\n",
       "  '서울11',\n",
       "  '서울12',\n",
       "  '서울13',\n",
       "  '서울14',\n",
       "  '서울15',\n",
       "  '서울16',\n",
       "  '서울17',\n",
       "  '서울18',\n",
       "  '서울19',\n",
       "  '서울20',\n",
       "  '서울21',\n",
       "  '서울22',\n",
       "  '서울23',\n",
       "  '서울24',\n",
       "  '서울25',\n",
       "  '서울26',\n",
       "  '서울27',\n",
       "  '서울28',\n",
       "  '서울29',\n",
       "  '서울30',\n",
       "  '서울31',\n",
       "  '서울32',\n",
       "  '서울33',\n",
       "  '서울34',\n",
       "  '서울35',\n",
       "  '서울36',\n",
       "  '서울37',\n",
       "  '서울38',\n",
       "  '서울39',\n",
       "  '서울40',\n",
       "  '서울41',\n",
       "  '서울42',\n",
       "  '서울43',\n",
       "  '서울44',\n",
       "  '서울45',\n",
       "  '서울46',\n",
       "  '서울47',\n",
       "  '서울48',\n",
       "  '서울49',\n",
       "  '서울50',\n",
       "  '서울51',\n",
       "  '서울52',\n",
       "  '서울53',\n",
       "  '서울54',\n",
       "  '서울55',\n",
       "  '서울56',\n",
       "  '서울57',\n",
       "  '서울58',\n",
       "  '서울59',\n",
       "  '서울60',\n",
       "  '서울61',\n",
       "  '서울62',\n",
       "  '서울63',\n",
       "  '서울64',\n",
       "  '서울65',\n",
       "  '서울66',\n",
       "  '서울67',\n",
       "  '서울68',\n",
       "  '서울69',\n",
       "  '서울70',\n",
       "  '서울71',\n",
       "  '서울72',\n",
       "  '서울73',\n",
       "  '서울74',\n",
       "  '서울75',\n",
       "  '서울76',\n",
       "  '서울77',\n",
       "  '서울78',\n",
       "  '서울79',\n",
       "  '서울80',\n",
       "  '서울81',\n",
       "  '서울82',\n",
       "  '서울83',\n",
       "  '서울84',\n",
       "  '서울85',\n",
       "  '서울86',\n",
       "  '서울87',\n",
       "  '서울88',\n",
       "  '서울89',\n",
       "  '서울90',\n",
       "  '서울91',\n",
       "  '서울92',\n",
       "  '서울93',\n",
       "  '서울94',\n",
       "  '서울95',\n",
       "  '서울96',\n",
       "  '서울97',\n",
       "  '서울98',\n",
       "  '서울99',\n",
       "  '서울100']}"
      ]
     },
     "execution_count": 197,
     "metadata": {},
     "output_type": "execute_result"
    }
   ],
   "source": [
    "dic_l"
   ]
  },
  {
   "cell_type": "code",
   "execution_count": 199,
   "id": "ab195d93",
   "metadata": {},
   "outputs": [
    {
     "data": {
      "text/plain": [
       "dict_keys(['name', 'age', 'local'])"
      ]
     },
     "execution_count": 199,
     "metadata": {},
     "output_type": "execute_result"
    }
   ],
   "source": [
    "dic_l.keys()"
   ]
  },
  {
   "cell_type": "code",
   "execution_count": 202,
   "id": "f6bc1ee8",
   "metadata": {},
   "outputs": [
    {
     "data": {
      "text/plain": [
       "['홍길동1',\n",
       " '홍길동2',\n",
       " '홍길동3',\n",
       " '홍길동4',\n",
       " '홍길동5',\n",
       " '홍길동6',\n",
       " '홍길동7',\n",
       " '홍길동8',\n",
       " '홍길동9',\n",
       " '홍길동10',\n",
       " '홍길동11',\n",
       " '홍길동12',\n",
       " '홍길동13',\n",
       " '홍길동14',\n",
       " '홍길동15',\n",
       " '홍길동16',\n",
       " '홍길동17',\n",
       " '홍길동18',\n",
       " '홍길동19',\n",
       " '홍길동20',\n",
       " '홍길동21',\n",
       " '홍길동22',\n",
       " '홍길동23',\n",
       " '홍길동24',\n",
       " '홍길동25',\n",
       " '홍길동26',\n",
       " '홍길동27',\n",
       " '홍길동28',\n",
       " '홍길동29',\n",
       " '홍길동30',\n",
       " '홍길동31',\n",
       " '홍길동32',\n",
       " '홍길동33',\n",
       " '홍길동34',\n",
       " '홍길동35',\n",
       " '홍길동36',\n",
       " '홍길동37',\n",
       " '홍길동38',\n",
       " '홍길동39',\n",
       " '홍길동40',\n",
       " '홍길동41',\n",
       " '홍길동42',\n",
       " '홍길동43',\n",
       " '홍길동44',\n",
       " '홍길동45',\n",
       " '홍길동46',\n",
       " '홍길동47',\n",
       " '홍길동48',\n",
       " '홍길동49',\n",
       " '홍길동50',\n",
       " '홍길동51',\n",
       " '홍길동52',\n",
       " '홍길동53',\n",
       " '홍길동54',\n",
       " '홍길동55',\n",
       " '홍길동56',\n",
       " '홍길동57',\n",
       " '홍길동58',\n",
       " '홍길동59',\n",
       " '홍길동60',\n",
       " '홍길동61',\n",
       " '홍길동62',\n",
       " '홍길동63',\n",
       " '홍길동64',\n",
       " '홍길동65',\n",
       " '홍길동66',\n",
       " '홍길동67',\n",
       " '홍길동68',\n",
       " '홍길동69',\n",
       " '홍길동70',\n",
       " '홍길동71',\n",
       " '홍길동72',\n",
       " '홍길동73',\n",
       " '홍길동74',\n",
       " '홍길동75',\n",
       " '홍길동76',\n",
       " '홍길동77',\n",
       " '홍길동78',\n",
       " '홍길동79',\n",
       " '홍길동80',\n",
       " '홍길동81',\n",
       " '홍길동82',\n",
       " '홍길동83',\n",
       " '홍길동84',\n",
       " '홍길동85',\n",
       " '홍길동86',\n",
       " '홍길동87',\n",
       " '홍길동88',\n",
       " '홍길동89',\n",
       " '홍길동90',\n",
       " '홍길동91',\n",
       " '홍길동92',\n",
       " '홍길동93',\n",
       " '홍길동94',\n",
       " '홍길동95',\n",
       " '홍길동96',\n",
       " '홍길동97',\n",
       " '홍길동98',\n",
       " '홍길동99',\n",
       " '홍길동100']"
      ]
     },
     "execution_count": 202,
     "metadata": {},
     "output_type": "execute_result"
    }
   ],
   "source": [
    "dic_l['name']"
   ]
  },
  {
   "cell_type": "code",
   "execution_count": 207,
   "id": "1d63b415",
   "metadata": {},
   "outputs": [
    {
     "name": "stdout",
     "output_type": "stream",
     "text": [
      "홍길동1\n",
      "홍길동2\n",
      "홍길동3\n",
      "홍길동4\n",
      "홍길동5\n",
      "홍길동6\n",
      "홍길동7\n",
      "홍길동8\n",
      "홍길동9\n",
      "홍길동10\n",
      "홍길동11\n",
      "홍길동12\n",
      "홍길동13\n",
      "홍길동14\n",
      "홍길동15\n",
      "홍길동16\n",
      "홍길동17\n",
      "홍길동18\n",
      "홍길동19\n",
      "홍길동20\n",
      "홍길동21\n",
      "홍길동22\n",
      "홍길동23\n",
      "홍길동24\n",
      "홍길동25\n",
      "홍길동26\n",
      "홍길동27\n",
      "홍길동28\n",
      "홍길동29\n",
      "홍길동30\n",
      "홍길동31\n",
      "홍길동32\n",
      "홍길동33\n",
      "홍길동34\n",
      "홍길동35\n",
      "홍길동36\n",
      "홍길동37\n",
      "홍길동38\n",
      "홍길동39\n",
      "홍길동40\n",
      "홍길동41\n",
      "홍길동42\n",
      "홍길동43\n",
      "홍길동44\n",
      "홍길동45\n",
      "홍길동46\n",
      "홍길동47\n",
      "홍길동48\n",
      "홍길동49\n",
      "홍길동50\n",
      "홍길동51\n",
      "홍길동52\n",
      "홍길동53\n",
      "홍길동54\n",
      "홍길동55\n",
      "홍길동56\n",
      "홍길동57\n",
      "홍길동58\n",
      "홍길동59\n",
      "홍길동60\n",
      "홍길동61\n",
      "홍길동62\n",
      "홍길동63\n",
      "홍길동64\n",
      "홍길동65\n",
      "홍길동66\n",
      "홍길동67\n",
      "홍길동68\n",
      "홍길동69\n",
      "홍길동70\n",
      "홍길동71\n",
      "홍길동72\n",
      "홍길동73\n",
      "홍길동74\n",
      "홍길동75\n",
      "홍길동76\n",
      "홍길동77\n",
      "홍길동78\n",
      "홍길동79\n",
      "홍길동80\n",
      "홍길동81\n",
      "홍길동82\n",
      "홍길동83\n",
      "홍길동84\n",
      "홍길동85\n",
      "홍길동86\n",
      "홍길동87\n",
      "홍길동88\n",
      "홍길동89\n",
      "홍길동90\n",
      "홍길동91\n",
      "홍길동92\n",
      "홍길동93\n",
      "홍길동94\n",
      "홍길동95\n",
      "홍길동96\n",
      "홍길동97\n",
      "홍길동98\n",
      "홍길동99\n",
      "홍길동100\n"
     ]
    }
   ],
   "source": [
    "for x in dic_l:\n",
    "    if x =='name':\n",
    "        for d in dic_l[x]:\n",
    "            print(d)\n",
    "        "
   ]
  },
  {
   "cell_type": "markdown",
   "id": "32fb70b5",
   "metadata": {},
   "source": [
    "#### 리스트에 딕셔너리 데이터 넣기"
   ]
  },
  {
   "cell_type": "code",
   "execution_count": 209,
   "id": "8bfa29a1",
   "metadata": {},
   "outputs": [
    {
     "data": {
      "text/plain": [
       "\"\\n{'name' = ['홍길동1','홍길동2'...'홍길동100'],\\n 'age' = ['1','2',...'100']\\n 'local' = ['서울1','서울2',...'서울100']}\\n \\n이것을 아래와 같이 변환 \\n\\n[{'name':'홍길동1','age':1, 'local':'서울1'},\\n {'name':'홍길동2,'age':2, 'local':'서울2'},\\n ....\\n {'name':'홍길동100','age':100local':'서울100]\\n \\n\""
      ]
     },
     "execution_count": 209,
     "metadata": {},
     "output_type": "execute_result"
    }
   ],
   "source": [
    "\"\"\"\n",
    "{'name' = ['홍길동1','홍길동2'...'홍길동100'],\n",
    " 'age' = ['1','2',...'100']\n",
    " 'local' = ['서울1','서울2',...'서울100']}\n",
    " \n",
    "이것을 아래와 같이 변환 \n",
    "\n",
    "[{'name':'홍길동1','age':1, 'local':'서울1'},\n",
    " {'name':'홍길동2,'age':2, 'local':'서울2'},\n",
    " ....\n",
    " {'name':'홍길동100','age':100local':'서울100]\n",
    " \n",
    "\"\"\""
   ]
  },
  {
   "cell_type": "code",
   "execution_count": 235,
   "id": "3e09c969",
   "metadata": {},
   "outputs": [],
   "source": []
  },
  {
   "cell_type": "code",
   "execution_count": 208,
   "id": "e5ea71cb",
   "metadata": {},
   "outputs": [
    {
     "name": "stdout",
     "output_type": "stream",
     "text": [
      "name\n",
      "age\n",
      "local\n"
     ]
    }
   ],
   "source": [
    "for x in dic_l:\n",
    "    print(x)"
   ]
  },
  {
   "cell_type": "code",
   "execution_count": 213,
   "id": "e65fb34d",
   "metadata": {},
   "outputs": [
    {
     "data": {
      "text/plain": [
       "'서울1'"
      ]
     },
     "execution_count": 213,
     "metadata": {},
     "output_type": "execute_result"
    }
   ],
   "source": [
    "dic_l['name'][0]\n",
    "dic_l['age'][0]\n",
    "dic_l['local'][0]"
   ]
  },
  {
   "cell_type": "code",
   "execution_count": 233,
   "id": "d00be066",
   "metadata": {},
   "outputs": [],
   "source": [
    "dot_v={}"
   ]
  },
  {
   "cell_type": "code",
   "execution_count": 244,
   "id": "f7885fc4",
   "metadata": {},
   "outputs": [],
   "source": [
    "llst_l =[]\n",
    "for x in range(0,len(dic_l['name']),1):\n",
    "    dot_v={}\n",
    "    dot_v['name']=dic_l['name'][x]\n",
    "    dot_v['age']=dic_l['age'][x]\n",
    "    dot_v['local']=dic_l['local'][x]\n",
    "    llst_l.append(dot_v)"
   ]
  },
  {
   "cell_type": "code",
   "execution_count": 247,
   "id": "10cece5f",
   "metadata": {},
   "outputs": [
    {
     "data": {
      "text/plain": [
       "{'name': '홍길동100', 'age': '100', 'local': '서울100'}"
      ]
     },
     "execution_count": 247,
     "metadata": {},
     "output_type": "execute_result"
    }
   ],
   "source": [
    "llst_l[99]"
   ]
  },
  {
   "cell_type": "markdown",
   "id": "c8905e46",
   "metadata": {},
   "source": [
    "#### 연산함수"
   ]
  },
  {
   "cell_type": "code",
   "execution_count": 248,
   "id": "6328c79d",
   "metadata": {},
   "outputs": [],
   "source": [
    "def gethap():\n",
    "    a=20\n",
    "    b=30\n",
    "    hap=a+b\n",
    "    return hap"
   ]
  },
  {
   "cell_type": "code",
   "execution_count": 249,
   "id": "25985224",
   "metadata": {},
   "outputs": [
    {
     "data": {
      "text/plain": [
       "50"
      ]
     },
     "execution_count": 249,
     "metadata": {},
     "output_type": "execute_result"
    }
   ],
   "source": [
    "gethap()"
   ]
  },
  {
   "cell_type": "code",
   "execution_count": 250,
   "id": "a7d5f623",
   "metadata": {},
   "outputs": [],
   "source": [
    "def gethap(a=10, b=20):\n",
    "    hap = a+b\n",
    "    return hap"
   ]
  },
  {
   "cell_type": "code",
   "execution_count": 253,
   "id": "61349767",
   "metadata": {},
   "outputs": [
    {
     "data": {
      "text/plain": [
       "5"
      ]
     },
     "execution_count": 253,
     "metadata": {},
     "output_type": "execute_result"
    }
   ],
   "source": [
    "gethap(2,3)"
   ]
  },
  {
   "cell_type": "code",
   "execution_count": 257,
   "id": "5950fe90",
   "metadata": {},
   "outputs": [],
   "source": [
    "def gethap(a=1,b=2):\n",
    "    return('hap = {}'.format(a+b))"
   ]
  },
  {
   "cell_type": "code",
   "execution_count": 259,
   "id": "6c009680",
   "metadata": {},
   "outputs": [
    {
     "data": {
      "text/plain": [
       "'hap = 3'"
      ]
     },
     "execution_count": 259,
     "metadata": {},
     "output_type": "execute_result"
    }
   ],
   "source": [
    "gethap()"
   ]
  },
  {
   "cell_type": "code",
   "execution_count": 267,
   "id": "10d7d0af",
   "metadata": {},
   "outputs": [],
   "source": [
    "def gethap(a,b=1):\n",
    "    return a, b, a, b"
   ]
  },
  {
   "cell_type": "code",
   "execution_count": 270,
   "id": "991a125b",
   "metadata": {},
   "outputs": [
    {
     "data": {
      "text/plain": [
       "(1, 1, 1, 1)"
      ]
     },
     "execution_count": 270,
     "metadata": {},
     "output_type": "execute_result"
    }
   ],
   "source": [
    "gethap(1)"
   ]
  },
  {
   "cell_type": "code",
   "execution_count": 282,
   "id": "79bfd0e1",
   "metadata": {},
   "outputs": [],
   "source": [
    "### 사칙연산\n",
    "def getmath(a=1,b=1, c='+'):\n",
    "    if c == '+':\n",
    "        return a+b\n",
    "    elif c =='-':\n",
    "        return a-b\n",
    "    elif c =='*':\n",
    "        return a*b\n",
    "    elif c =='/':\n",
    "        return a/b\n",
    "    else:\n",
    "        return 'not known'"
   ]
  },
  {
   "cell_type": "code",
   "execution_count": 287,
   "id": "51a2f1ef",
   "metadata": {},
   "outputs": [
    {
     "data": {
      "text/plain": [
       "1"
      ]
     },
     "execution_count": 287,
     "metadata": {},
     "output_type": "execute_result"
    }
   ],
   "source": [
    "getmath(1,1,'*')"
   ]
  },
  {
   "cell_type": "code",
   "execution_count": 288,
   "id": "093f1d4b",
   "metadata": {},
   "outputs": [],
   "source": [
    "def getmode(mode, a, b):\n",
    "    return eval(\"a\" + mode + \" b\")"
   ]
  },
  {
   "cell_type": "code",
   "execution_count": 290,
   "id": "dbe17ff9",
   "metadata": {},
   "outputs": [
    {
     "data": {
      "text/plain": [
       "5"
      ]
     },
     "execution_count": 290,
     "metadata": {},
     "output_type": "execute_result"
    }
   ],
   "source": [
    "getmode('+',2,3)"
   ]
  },
  {
   "cell_type": "code",
   "execution_count": 292,
   "id": "32948640",
   "metadata": {},
   "outputs": [
    {
     "name": "stdout",
     "output_type": "stream",
     "text": [
      "51\n"
     ]
    }
   ],
   "source": [
    "b = 50\n",
    "try:\n",
    "    print(eval('1 + b'))\n",
    "except:\n",
    "    pass"
   ]
  }
 ],
 "metadata": {
  "kernelspec": {
   "display_name": "sj_prj",
   "language": "python",
   "name": "sj_prj"
  },
  "language_info": {
   "codemirror_mode": {
    "name": "ipython",
    "version": 3
   },
   "file_extension": ".py",
   "mimetype": "text/x-python",
   "name": "python",
   "nbconvert_exporter": "python",
   "pygments_lexer": "ipython3",
   "version": "3.9.16"
  }
 },
 "nbformat": 4,
 "nbformat_minor": 5
}
