{
 "cells": [
  {
   "cell_type": "code",
   "execution_count": null,
   "id": "4b750d62-ff50-4764-ad48-036d7ce18700",
   "metadata": {},
   "outputs": [],
   "source": []
  }
 ],
 "metadata": {
  "kernelspec": {
   "display_name": "",
   "name": ""
  },
  "language_info": {
   "name": ""
  }
 },
 "nbformat": 4,
 "nbformat_minor": 5
}
