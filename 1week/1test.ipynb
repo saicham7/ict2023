{
 "cells": [
  {
   "cell_type": "markdown",
   "id": "c33e49a1",
   "metadata": {},
   "source": [
    "## Title : 1day example code\n",
    "##### subtitle : ~"
   ]
  },
  {
   "cell_type": "code",
   "execution_count": 15,
   "id": "714b2dfb",
   "metadata": {},
   "outputs": [
    {
     "name": "stdout",
     "output_type": "stream",
     "text": [
      "1\n"
     ]
    }
   ],
   "source": [
    "# remarks\n",
    "print(\"1\")"
   ]
  },
  {
   "cell_type": "code",
   "execution_count": 7,
   "id": "7bc1ba0c",
   "metadata": {},
   "outputs": [
    {
     "name": "stdout",
     "output_type": "stream",
     "text": [
      "1-test\n"
     ]
    }
   ],
   "source": [
    "a=1\n",
    "b=\"test\"\n",
    "print(str(a)+\"-\"+b)"
   ]
  },
  {
   "cell_type": "code",
   "execution_count": 13,
   "id": "a8df1ef8",
   "metadata": {},
   "outputs": [
    {
     "name": "stdout",
     "output_type": "stream",
     "text": [
      "Hello Python\n"
     ]
    }
   ],
   "source": [
    "print(\"Hello Python\")"
   ]
  },
  {
   "cell_type": "markdown",
   "id": "64b5be46",
   "metadata": {},
   "source": [
    "##### 1.~"
   ]
  },
  {
   "cell_type": "code",
   "execution_count": 12,
   "id": "1b896859",
   "metadata": {},
   "outputs": [
    {
     "name": "stdout",
     "output_type": "stream",
     "text": [
      "Py\n"
     ]
    }
   ],
   "source": [
    "print(\"Py\")"
   ]
  },
  {
   "cell_type": "code",
   "execution_count": null,
   "id": "236fff0c",
   "metadata": {},
   "outputs": [],
   "source": []
  }
 ],
 "metadata": {
  "kernelspec": {
   "display_name": "sj_prj_kernel",
   "language": "python",
   "name": "sj_prj"
  },
  "language_info": {
   "codemirror_mode": {
    "name": "ipython",
    "version": 3
   },
   "file_extension": ".py",
   "mimetype": "text/x-python",
   "name": "python",
   "nbconvert_exporter": "python",
   "pygments_lexer": "ipython3",
   "version": "3.9.16"
  }
 },
 "nbformat": 4,
 "nbformat_minor": 5
}
