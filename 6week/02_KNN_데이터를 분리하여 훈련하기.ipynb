{
 "cells": [
  {
   "cell_type": "markdown",
   "id": "a3866693",
   "metadata": {},
   "source": [
    "### 데이터 분리하기\n",
    "#### 훈련에 사용되는 데이터 : train_set이라고 칭함(훈련과 평가검증에 사용)\n",
    "#### 테스트에 사용되는 데이터 : test_set이라고 칭함(평가검증 및 예측에 사용)\n",
    "\n",
    "#### 검증데이터 : 평가를 별도의 데이터로 하고자 할 경우 사용\n",
    "\n",
    "#### 훈련셋 :  train(독립변수 : train_input, 종속변수 : train_target)\n",
    "#### 테스트셋 : test(독립변수 : test_input, 종속변수 : test_target)\n",
    "\n",
    "### fit : 훈련\n",
    "### score : 검증\n",
    "### predict : 예측"
   ]
  },
  {
   "cell_type": "code",
   "execution_count": 17,
   "id": "d5a221c5",
   "metadata": {},
   "outputs": [],
   "source": [
    "domi_len = [25.4, 26.3, 26.5, 29.0, 29.0, 29.7, 29.7, 30.0, \n",
    "                30.0, 30.7, 31.0, 31.0, 31.5, 32.0, 32.0, 32.0, \n",
    "                33.0, 33.0, 33.5, 33.5, 34.0, 34.0, 34.5, 35.0, \n",
    "                35.0, 35.0, 35.0, 36.0, 36.0, 37.0, 38.5, 38.5, \n",
    "                39.5, 41.0, 41.0]\n",
    "domi_wgt = [242.0, 290.0, 340.0, 363.0, 430.0, 450.0, 500.0, \n",
    "                390.0, 450.0, 500.0, 475.0, 500.0, 500.0, 340.0, \n",
    "                600.0, 600.0, 700.0, 700.0, 610.0, 650.0, 575.0, \n",
    "                685.0, 620.0, 680.0, 700.0, 725.0, 720.0, 714.0, \n",
    "                850.0, 1000.0, 920.0, 955.0, 925.0, 975.0, 950.0]\n",
    "bing_len = [9.8, 10.5, 10.6, 11.0, 11.2, 11.3, 11.8, 11.8, 12.0, 12.2, 12.4, 13.0, 14.3, 15.0]\n",
    "bing_wgt = [6.7, 7.5, 7.0, 9.7, 9.8, 8.7, 10.0, 9.9, 9.8, 12.2, 13.4, 12.2, 19.7, 19.9]"
   ]
  },
  {
   "cell_type": "code",
   "execution_count": 18,
   "id": "fb625262",
   "metadata": {},
   "outputs": [],
   "source": [
    "# 독립변수 데이터 합치기\n",
    "length = []\n",
    "weight = []\n",
    "length = domi_len + bing_len\n",
    "#length = domi_len\n",
    "#length.extend(bing_len)\n",
    "\n",
    "weight = domi_wgt + bing_wgt\n",
    "#weight = domi_wgt \n",
    "#weight.append(bing_wgt)\n",
    "\n",
    "fish_data = []\n",
    "for x,y in zip (length,weight):\n",
    "    fish_data.append([x,y])"
   ]
  },
  {
   "cell_type": "code",
   "execution_count": 6,
   "id": "6b333526",
   "metadata": {},
   "outputs": [],
   "source": [
    "# 타겟데이터 생성\n",
    "fish_target = [] \n",
    "fish_target = [1] * 35 + [0] * 14"
   ]
  },
  {
   "cell_type": "code",
   "execution_count": 19,
   "id": "9c213632",
   "metadata": {},
   "outputs": [
    {
     "data": {
      "text/plain": [
       "(49, 49)"
      ]
     },
     "execution_count": 19,
     "metadata": {},
     "output_type": "execute_result"
    }
   ],
   "source": [
    "len(fish_data), len(fish_target)"
   ]
  },
  {
   "cell_type": "markdown",
   "id": "352c4ab0",
   "metadata": {},
   "source": [
    "### 훈련데이터와 테스트 데이터로 분리"
   ]
  },
  {
   "cell_type": "code",
   "execution_count": 28,
   "id": "cb228f74",
   "metadata": {},
   "outputs": [],
   "source": [
    "# 비율없이 갯수로 우선 분리\n",
    "# 훈련데이터셋 : fish_data 및 fish_target의 0부터 34개 사용\n",
    "train_input = fish_data[:35]\n",
    "train_target = fish_target[:35]"
   ]
  },
  {
   "cell_type": "code",
   "execution_count": 25,
   "id": "d0ee67a9",
   "metadata": {},
   "outputs": [],
   "source": [
    "# 비율없이 갯수로 우선 분리\n",
    "# 테스트 데이터셋 : fish_data 및 fish_target의 35개이후 사용\n",
    "test_input = fish_data[35:]\n",
    "test_target = fish_target[35:]"
   ]
  },
  {
   "cell_type": "code",
   "execution_count": 29,
   "id": "2d8e7e50",
   "metadata": {},
   "outputs": [
    {
     "data": {
      "text/plain": [
       "35"
      ]
     },
     "execution_count": 29,
     "metadata": {},
     "output_type": "execute_result"
    }
   ],
   "source": [
    "len(train_input)"
   ]
  },
  {
   "cell_type": "markdown",
   "id": "257345c9",
   "metadata": {},
   "source": [
    "### 샘플링 편향\n",
    "#### 정확도가 0%에 가깝게 나오는 경우에 주로 나타나는 현상\n",
    "#### 훈련데이터와 테스트데이터 분류시에 특정 종속변수와 특성 데이터들이 몰려 있는 현상\n",
    "#### 보통 훈련데이터를 기준으로 하기 때문에 훈련데이터 편향 현상이 나타났다고 칭함\n",
    "\n",
    "#### 샘플링 편향을 막기위한 방법\n",
    "#### 데이터를 분류하기 전에 데이터의 행들을 위/아래로 섞어줌\n",
    "#### 섞는다는 의미로 편향을 해소한다라고 칭함"
   ]
  },
  {
   "cell_type": "code",
   "execution_count": null,
   "id": "f9b2910d",
   "metadata": {},
   "outputs": [],
   "source": [
    "# 훈련 :  이웃의 갯수는 기본값\n",
    "# 훈련에 사용하는 데이터 : train 데이터셋\n",
    "# 정확도 확인\n",
    "# 정확도에 사용하는 데이터 : test 데이터 셋"
   ]
  },
  {
   "cell_type": "code",
   "execution_count": 30,
   "id": "7f737b26",
   "metadata": {},
   "outputs": [],
   "source": [
    "from sklearn.neighbors import KNeighborsClassifier as KNN\n",
    "knn = KNN()"
   ]
  },
  {
   "cell_type": "code",
   "execution_count": 31,
   "id": "cd4b0d22",
   "metadata": {},
   "outputs": [
    {
     "data": {
      "text/html": [
       "<style>#sk-container-id-1 {color: black;background-color: white;}#sk-container-id-1 pre{padding: 0;}#sk-container-id-1 div.sk-toggleable {background-color: white;}#sk-container-id-1 label.sk-toggleable__label {cursor: pointer;display: block;width: 100%;margin-bottom: 0;padding: 0.3em;box-sizing: border-box;text-align: center;}#sk-container-id-1 label.sk-toggleable__label-arrow:before {content: \"▸\";float: left;margin-right: 0.25em;color: #696969;}#sk-container-id-1 label.sk-toggleable__label-arrow:hover:before {color: black;}#sk-container-id-1 div.sk-estimator:hover label.sk-toggleable__label-arrow:before {color: black;}#sk-container-id-1 div.sk-toggleable__content {max-height: 0;max-width: 0;overflow: hidden;text-align: left;background-color: #f0f8ff;}#sk-container-id-1 div.sk-toggleable__content pre {margin: 0.2em;color: black;border-radius: 0.25em;background-color: #f0f8ff;}#sk-container-id-1 input.sk-toggleable__control:checked~div.sk-toggleable__content {max-height: 200px;max-width: 100%;overflow: auto;}#sk-container-id-1 input.sk-toggleable__control:checked~label.sk-toggleable__label-arrow:before {content: \"▾\";}#sk-container-id-1 div.sk-estimator input.sk-toggleable__control:checked~label.sk-toggleable__label {background-color: #d4ebff;}#sk-container-id-1 div.sk-label input.sk-toggleable__control:checked~label.sk-toggleable__label {background-color: #d4ebff;}#sk-container-id-1 input.sk-hidden--visually {border: 0;clip: rect(1px 1px 1px 1px);clip: rect(1px, 1px, 1px, 1px);height: 1px;margin: -1px;overflow: hidden;padding: 0;position: absolute;width: 1px;}#sk-container-id-1 div.sk-estimator {font-family: monospace;background-color: #f0f8ff;border: 1px dotted black;border-radius: 0.25em;box-sizing: border-box;margin-bottom: 0.5em;}#sk-container-id-1 div.sk-estimator:hover {background-color: #d4ebff;}#sk-container-id-1 div.sk-parallel-item::after {content: \"\";width: 100%;border-bottom: 1px solid gray;flex-grow: 1;}#sk-container-id-1 div.sk-label:hover label.sk-toggleable__label {background-color: #d4ebff;}#sk-container-id-1 div.sk-serial::before {content: \"\";position: absolute;border-left: 1px solid gray;box-sizing: border-box;top: 0;bottom: 0;left: 50%;z-index: 0;}#sk-container-id-1 div.sk-serial {display: flex;flex-direction: column;align-items: center;background-color: white;padding-right: 0.2em;padding-left: 0.2em;position: relative;}#sk-container-id-1 div.sk-item {position: relative;z-index: 1;}#sk-container-id-1 div.sk-parallel {display: flex;align-items: stretch;justify-content: center;background-color: white;position: relative;}#sk-container-id-1 div.sk-item::before, #sk-container-id-1 div.sk-parallel-item::before {content: \"\";position: absolute;border-left: 1px solid gray;box-sizing: border-box;top: 0;bottom: 0;left: 50%;z-index: -1;}#sk-container-id-1 div.sk-parallel-item {display: flex;flex-direction: column;z-index: 1;position: relative;background-color: white;}#sk-container-id-1 div.sk-parallel-item:first-child::after {align-self: flex-end;width: 50%;}#sk-container-id-1 div.sk-parallel-item:last-child::after {align-self: flex-start;width: 50%;}#sk-container-id-1 div.sk-parallel-item:only-child::after {width: 0;}#sk-container-id-1 div.sk-dashed-wrapped {border: 1px dashed gray;margin: 0 0.4em 0.5em 0.4em;box-sizing: border-box;padding-bottom: 0.4em;background-color: white;}#sk-container-id-1 div.sk-label label {font-family: monospace;font-weight: bold;display: inline-block;line-height: 1.2em;}#sk-container-id-1 div.sk-label-container {text-align: center;}#sk-container-id-1 div.sk-container {/* jupyter's `normalize.less` sets `[hidden] { display: none; }` but bootstrap.min.css set `[hidden] { display: none !important; }` so we also need the `!important` here to be able to override the default hidden behavior on the sphinx rendered scikit-learn.org. See: https://github.com/scikit-learn/scikit-learn/issues/21755 */display: inline-block !important;position: relative;}#sk-container-id-1 div.sk-text-repr-fallback {display: none;}</style><div id=\"sk-container-id-1\" class=\"sk-top-container\"><div class=\"sk-text-repr-fallback\"><pre>KNeighborsClassifier()</pre><b>In a Jupyter environment, please rerun this cell to show the HTML representation or trust the notebook. <br />On GitHub, the HTML representation is unable to render, please try loading this page with nbviewer.org.</b></div><div class=\"sk-container\" hidden><div class=\"sk-item\"><div class=\"sk-estimator sk-toggleable\"><input class=\"sk-toggleable__control sk-hidden--visually\" id=\"sk-estimator-id-1\" type=\"checkbox\" checked><label for=\"sk-estimator-id-1\" class=\"sk-toggleable__label sk-toggleable__label-arrow\">KNeighborsClassifier</label><div class=\"sk-toggleable__content\"><pre>KNeighborsClassifier()</pre></div></div></div></div></div>"
      ],
      "text/plain": [
       "KNeighborsClassifier()"
      ]
     },
     "execution_count": 31,
     "metadata": {},
     "output_type": "execute_result"
    }
   ],
   "source": [
    "# 훈련\n",
    "knn.fit(train_input,train_target)"
   ]
  },
  {
   "cell_type": "code",
   "execution_count": 32,
   "id": "d25c2afe",
   "metadata": {},
   "outputs": [
    {
     "data": {
      "text/plain": [
       "0.0"
      ]
     },
     "execution_count": 32,
     "metadata": {},
     "output_type": "execute_result"
    }
   ],
   "source": [
    "# 정확도 확인\n",
    "knn.score(test_input,test_target)"
   ]
  },
  {
   "cell_type": "markdown",
   "id": "1cbb1290",
   "metadata": {},
   "source": [
    "### 데이터 편향 해소하기\n",
    "#### 넘파이 함수 사용\n",
    "#### 리스트데이터를 넘파이 배열로 변환"
   ]
  },
  {
   "cell_type": "code",
   "execution_count": 38,
   "id": "56dface5",
   "metadata": {},
   "outputs": [],
   "source": [
    "import numpy as np"
   ]
  },
  {
   "cell_type": "code",
   "execution_count": 46,
   "id": "ebb97fa7",
   "metadata": {},
   "outputs": [],
   "source": [
    "# 파이썬 기본 타입 list를 넘파이의 배열 array()로 변환\n",
    "input_arr = np.array(fish_data)\n",
    "target_arr = np.array(fish_target)"
   ]
  },
  {
   "cell_type": "code",
   "execution_count": 42,
   "id": "d70de021",
   "metadata": {},
   "outputs": [
    {
     "name": "stdout",
     "output_type": "stream",
     "text": [
      "[[  25.4  242. ]\n",
      " [  26.3  290. ]\n",
      " [  26.5  340. ]\n",
      " [  29.   363. ]\n",
      " [  29.   430. ]\n",
      " [  29.7  450. ]\n",
      " [  29.7  500. ]\n",
      " [  30.   390. ]\n",
      " [  30.   450. ]\n",
      " [  30.7  500. ]\n",
      " [  31.   475. ]\n",
      " [  31.   500. ]\n",
      " [  31.5  500. ]\n",
      " [  32.   340. ]\n",
      " [  32.   600. ]\n",
      " [  32.   600. ]\n",
      " [  33.   700. ]\n",
      " [  33.   700. ]\n",
      " [  33.5  610. ]\n",
      " [  33.5  650. ]\n",
      " [  34.   575. ]\n",
      " [  34.   685. ]\n",
      " [  34.5  620. ]\n",
      " [  35.   680. ]\n",
      " [  35.   700. ]\n",
      " [  35.   725. ]\n",
      " [  35.   720. ]\n",
      " [  36.   714. ]\n",
      " [  36.   850. ]\n",
      " [  37.  1000. ]\n",
      " [  38.5  920. ]\n",
      " [  38.5  955. ]\n",
      " [  39.5  925. ]\n",
      " [  41.   975. ]\n",
      " [  41.   950. ]\n",
      " [   9.8    6.7]\n",
      " [  10.5    7.5]\n",
      " [  10.6    7. ]\n",
      " [  11.     9.7]\n",
      " [  11.2    9.8]\n",
      " [  11.3    8.7]\n",
      " [  11.8   10. ]\n",
      " [  11.8    9.9]\n",
      " [  12.     9.8]\n",
      " [  12.2   12.2]\n",
      " [  12.4   13.4]\n",
      " [  13.    12.2]\n",
      " [  14.3   19.7]\n",
      " [  15.    19.9]]\n"
     ]
    }
   ],
   "source": [
    "print(input_arr)"
   ]
  },
  {
   "cell_type": "code",
   "execution_count": 47,
   "id": "02cac868",
   "metadata": {},
   "outputs": [
    {
     "name": "stdout",
     "output_type": "stream",
     "text": [
      "(49, 2)\n",
      "(49,)\n"
     ]
    }
   ],
   "source": [
    "# 배열의 차원 확인\n",
    "print(input_arr.shape)\n",
    "print(target_arr.shape)"
   ]
  },
  {
   "cell_type": "code",
   "execution_count": 49,
   "id": "fd2ef607",
   "metadata": {},
   "outputs": [
    {
     "name": "stdout",
     "output_type": "stream",
     "text": [
      "[1 1 1 1 1 1 1 1 1 1 1 1 1 1 1 1 1 1 1 1 1 1 1 1 1 1 1 1 1 1 1 1 1 1 1 0 0\n",
      " 0 0 0 0 0 0 0 0 0 0 0 0]\n"
     ]
    }
   ],
   "source": [
    "print(target_arr)"
   ]
  },
  {
   "cell_type": "markdown",
   "id": "e15e9afb",
   "metadata": {},
   "source": [
    "### 데이터를 랜덤하게 섞기\n",
    "#### 넘파이의 random사용"
   ]
  },
  {
   "cell_type": "code",
   "execution_count": 59,
   "id": "acf3f08d",
   "metadata": {},
   "outputs": [
    {
     "name": "stdout",
     "output_type": "stream",
     "text": [
      "섞기 전 : [ 0  1  2  3  4  5  6  7  8  9 10 11 12 13 14 15 16 17 18 19 20 21 22 23\n",
      " 24 25 26 27 28 29 30 31 32 33 34 35 36 37 38 39 40 41 42 43 44 45 46 47\n",
      " 48]\n",
      "섞은 후 : [13 45 47 44 17 27 26 25 31 19 12  4 34  8  3  6 40 41 46 15  9 16 24 33\n",
      " 30  0 43 32  5 29 11 36  1 21  2 37 35 23 39 10 22 18 48 20  7 42 14 28\n",
      " 38]\n"
     ]
    }
   ],
   "source": [
    "# 랜덤값 고정\n",
    "np.random.seed(42)\n",
    "\n",
    "index = np.arange(49)\n",
    "print('섞기 전 :',index)\n",
    "\n",
    "# index데이터 섞기 : shuffle()함수 사용\n",
    "np.random.shuffle(index)\n",
    "print('섞은 후 :',index)"
   ]
  },
  {
   "cell_type": "code",
   "execution_count": 63,
   "id": "1f22a00f",
   "metadata": {},
   "outputs": [],
   "source": [
    "# 훈련데이터셋 생성\n",
    "train_input = input_arr[index[0:35]]\n",
    "train_target = target_arr[index[0:35]]"
   ]
  },
  {
   "cell_type": "code",
   "execution_count": 65,
   "id": "32c50c37",
   "metadata": {},
   "outputs": [
    {
     "data": {
      "text/plain": [
       "((35, 2), (35,))"
      ]
     },
     "execution_count": 65,
     "metadata": {},
     "output_type": "execute_result"
    }
   ],
   "source": [
    "train_input.shape, train_target.shape"
   ]
  },
  {
   "cell_type": "code",
   "execution_count": 66,
   "id": "5219b785",
   "metadata": {},
   "outputs": [
    {
     "data": {
      "text/plain": [
       "((14, 2), (14,))"
      ]
     },
     "execution_count": 66,
     "metadata": {},
     "output_type": "execute_result"
    }
   ],
   "source": [
    "# 테스트데이터셋 생성\n",
    "test_input = input_arr[index[35:]]\n",
    "test_target = target_arr[index[35:]]\n",
    "test_input.shape, test_target.shape"
   ]
  },
  {
   "cell_type": "code",
   "execution_count": 72,
   "id": "9402308f",
   "metadata": {},
   "outputs": [
    {
     "data": {
      "image/png": "[encoded data removed]",
      "text/plain": [
       "<Figure size 1200x600 with 1 Axes>"
      ]
     },
     "metadata": {},
     "output_type": "display_data"
    }
   ],
   "source": [
    "# 훈련 및 테스트데이터를 산점도로 시각화\n",
    "import matplotlib.pyplot as plt\n",
    "plt.figure(figsize=(12,6))\n",
    "\n",
    "# 첫번째열은 길이 두번째열은 무게\n",
    "plt.scatter(train_input[: , 0],train_input[:,1], color='red', label = 'train')\n",
    "plt.scatter(test_input[: , 0],test_input[:, 1], color='blue', label = 'test')\n",
    "plt.legend()\n",
    "plt.show()"
   ]
  },
  {
   "cell_type": "markdown",
   "id": "b236f190",
   "metadata": {},
   "source": [
    "### 섞은 데이터로 훈련, 정확도, 예측하기"
   ]
  },
  {
   "cell_type": "code",
   "execution_count": 81,
   "id": "13e2e0ae",
   "metadata": {},
   "outputs": [],
   "source": [
    "# 패키지 가져오기\n",
    "from sklearn.neighbors import KNeighborsClassifier as KNN"
   ]
  },
  {
   "cell_type": "code",
   "execution_count": 82,
   "id": "7674980c",
   "metadata": {},
   "outputs": [],
   "source": [
    "# 모델생성\n",
    "knnspl = KNN()"
   ]
  },
  {
   "cell_type": "code",
   "execution_count": 83,
   "id": "ddea4bd0",
   "metadata": {},
   "outputs": [
    {
     "data": {
      "text/html": [
       "<style>#sk-container-id-2 {color: black;background-color: white;}#sk-container-id-2 pre{padding: 0;}#sk-container-id-2 div.sk-toggleable {background-color: white;}#sk-container-id-2 label.sk-toggleable__label {cursor: pointer;display: block;width: 100%;margin-bottom: 0;padding: 0.3em;box-sizing: border-box;text-align: center;}#sk-container-id-2 label.sk-toggleable__label-arrow:before {content: \"▸\";float: left;margin-right: 0.25em;color: #696969;}#sk-container-id-2 label.sk-toggleable__label-arrow:hover:before {color: black;}#sk-container-id-2 div.sk-estimator:hover label.sk-toggleable__label-arrow:before {color: black;}#sk-container-id-2 div.sk-toggleable__content {max-height: 0;max-width: 0;overflow: hidden;text-align: left;background-color: #f0f8ff;}#sk-container-id-2 div.sk-toggleable__content pre {margin: 0.2em;color: black;border-radius: 0.25em;background-color: #f0f8ff;}#sk-container-id-2 input.sk-toggleable__control:checked~div.sk-toggleable__content {max-height: 200px;max-width: 100%;overflow: auto;}#sk-container-id-2 input.sk-toggleable__control:checked~label.sk-toggleable__label-arrow:before {content: \"▾\";}#sk-container-id-2 div.sk-estimator input.sk-toggleable__control:checked~label.sk-toggleable__label {background-color: #d4ebff;}#sk-container-id-2 div.sk-label input.sk-toggleable__control:checked~label.sk-toggleable__label {background-color: #d4ebff;}#sk-container-id-2 input.sk-hidden--visually {border: 0;clip: rect(1px 1px 1px 1px);clip: rect(1px, 1px, 1px, 1px);height: 1px;margin: -1px;overflow: hidden;padding: 0;position: absolute;width: 1px;}#sk-container-id-2 div.sk-estimator {font-family: monospace;background-color: #f0f8ff;border: 1px dotted black;border-radius: 0.25em;box-sizing: border-box;margin-bottom: 0.5em;}#sk-container-id-2 div.sk-estimator:hover {background-color: #d4ebff;}#sk-container-id-2 div.sk-parallel-item::after {content: \"\";width: 100%;border-bottom: 1px solid gray;flex-grow: 1;}#sk-container-id-2 div.sk-label:hover label.sk-toggleable__label {background-color: #d4ebff;}#sk-container-id-2 div.sk-serial::before {content: \"\";position: absolute;border-left: 1px solid gray;box-sizing: border-box;top: 0;bottom: 0;left: 50%;z-index: 0;}#sk-container-id-2 div.sk-serial {display: flex;flex-direction: column;align-items: center;background-color: white;padding-right: 0.2em;padding-left: 0.2em;position: relative;}#sk-container-id-2 div.sk-item {position: relative;z-index: 1;}#sk-container-id-2 div.sk-parallel {display: flex;align-items: stretch;justify-content: center;background-color: white;position: relative;}#sk-container-id-2 div.sk-item::before, #sk-container-id-2 div.sk-parallel-item::before {content: \"\";position: absolute;border-left: 1px solid gray;box-sizing: border-box;top: 0;bottom: 0;left: 50%;z-index: -1;}#sk-container-id-2 div.sk-parallel-item {display: flex;flex-direction: column;z-index: 1;position: relative;background-color: white;}#sk-container-id-2 div.sk-parallel-item:first-child::after {align-self: flex-end;width: 50%;}#sk-container-id-2 div.sk-parallel-item:last-child::after {align-self: flex-start;width: 50%;}#sk-container-id-2 div.sk-parallel-item:only-child::after {width: 0;}#sk-container-id-2 div.sk-dashed-wrapped {border: 1px dashed gray;margin: 0 0.4em 0.5em 0.4em;box-sizing: border-box;padding-bottom: 0.4em;background-color: white;}#sk-container-id-2 div.sk-label label {font-family: monospace;font-weight: bold;display: inline-block;line-height: 1.2em;}#sk-container-id-2 div.sk-label-container {text-align: center;}#sk-container-id-2 div.sk-container {/* jupyter's `normalize.less` sets `[hidden] { display: none; }` but bootstrap.min.css set `[hidden] { display: none !important; }` so we also need the `!important` here to be able to override the default hidden behavior on the sphinx rendered scikit-learn.org. See: https://github.com/scikit-learn/scikit-learn/issues/21755 */display: inline-block !important;position: relative;}#sk-container-id-2 div.sk-text-repr-fallback {display: none;}</style><div id=\"sk-container-id-2\" class=\"sk-top-container\"><div class=\"sk-text-repr-fallback\"><pre>KNeighborsClassifier()</pre><b>In a Jupyter environment, please rerun this cell to show the HTML representation or trust the notebook. <br />On GitHub, the HTML representation is unable to render, please try loading this page with nbviewer.org.</b></div><div class=\"sk-container\" hidden><div class=\"sk-item\"><div class=\"sk-estimator sk-toggleable\"><input class=\"sk-toggleable__control sk-hidden--visually\" id=\"sk-estimator-id-2\" type=\"checkbox\" checked><label for=\"sk-estimator-id-2\" class=\"sk-toggleable__label sk-toggleable__label-arrow\">KNeighborsClassifier</label><div class=\"sk-toggleable__content\"><pre>KNeighborsClassifier()</pre></div></div></div></div></div>"
      ],
      "text/plain": [
       "KNeighborsClassifier()"
      ]
     },
     "execution_count": 83,
     "metadata": {},
     "output_type": "execute_result"
    }
   ],
   "source": [
    "# 훈련시키기(훈련데이터 이용)\n",
    "knnspl.fit(train_input, train_target)"
   ]
  },
  {
   "cell_type": "code",
   "execution_count": 85,
   "id": "e70dfb8f",
   "metadata": {},
   "outputs": [
    {
     "data": {
      "text/plain": [
       "1.0"
      ]
     },
     "execution_count": 85,
     "metadata": {},
     "output_type": "execute_result"
    }
   ],
   "source": [
    "# 정확도 확인(테스트데이터 이용)\n",
    "knnspl.score(test_input, test_target)"
   ]
  },
  {
   "cell_type": "code",
   "execution_count": 80,
   "id": "9dbb3186",
   "metadata": {},
   "outputs": [],
   "source": [
    "# 예측하기(테스트데이터 이용)"
   ]
  },
  {
   "cell_type": "code",
   "execution_count": 88,
   "id": "77a05d63",
   "metadata": {},
   "outputs": [
    {
     "data": {
      "text/plain": [
       "(array([0, 0, 1, 0, 1, 1, 1, 0, 1, 1, 0, 1, 1, 0]),\n",
       " array([0, 0, 1, 0, 1, 1, 1, 0, 1, 1, 0, 1, 1, 0]))"
      ]
     },
     "execution_count": 88,
     "metadata": {},
     "output_type": "execute_result"
    }
   ],
   "source": [
    "knnspl.predict(test_input), test_target"
   ]
  },
  {
   "cell_type": "code",
   "execution_count": null,
   "id": "4ed3b475",
   "metadata": {},
   "outputs": [],
   "source": []
  },
  {
   "cell_type": "code",
   "execution_count": 75,
   "id": "3f411523",
   "metadata": {},
   "outputs": [
    {
     "data": {
      "text/plain": [
       "((35, 2), (35,), (14, 2), (14,))"
      ]
     },
     "execution_count": 75,
     "metadata": {},
     "output_type": "execute_result"
    }
   ],
   "source": [
    "train_input.shape, train_target.shape, test_input.shape, test_target.shape"
   ]
  },
  {
   "cell_type": "code",
   "execution_count": null,
   "id": "de72e280",
   "metadata": {},
   "outputs": [],
   "source": []
  },
  {
   "cell_type": "code",
   "execution_count": null,
   "id": "8a787ec1",
   "metadata": {},
   "outputs": [],
   "source": []
  },
  {
   "cell_type": "code",
   "execution_count": null,
   "id": "9116f3b8",
   "metadata": {},
   "outputs": [],
   "source": []
  }
 ],
 "metadata": {
  "kernelspec": {
   "display_name": "sj_prj",
   "language": "python",
   "name": "sj_prj"
  },
  "language_info": {
   "codemirror_mode": {
    "name": "ipython",
    "version": 3
   },
   "file_extension": ".py",
   "mimetype": "text/x-python",
   "name": "python",
   "nbconvert_exporter": "python",
   "pygments_lexer": "ipython3",
   "version": "3.9.16"
  }
 },
 "nbformat": 4,
 "nbformat_minor": 5
}
