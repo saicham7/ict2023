{
 "cells": [
  {
   "cell_type": "markdown",
   "id": "8c1354b3",
   "metadata": {},
   "source": [
    "### 데이터 가져오기"
   ]
  },
  {
   "cell_type": "code",
   "execution_count": 1,
   "id": "0333e7e2",
   "metadata": {},
   "outputs": [],
   "source": [
    "domi_len = [25.4, 26.3, 26.5, 29.0, 29.0, 29.7, 29.7, 30.0, \n",
    "                30.0, 30.7, 31.0, 31.0, 31.5, 32.0, 32.0, 32.0, \n",
    "                33.0, 33.0, 33.5, 33.5, 34.0, 34.0, 34.5, 35.0, \n",
    "                35.0, 35.0, 35.0, 36.0, 36.0, 37.0, 38.5, 38.5, \n",
    "                39.5, 41.0, 41.0]\n",
    "domi_wgt = [242.0, 290.0, 340.0, 363.0, 430.0, 450.0, 500.0, \n",
    "                390.0, 450.0, 500.0, 475.0, 500.0, 500.0, 340.0, \n",
    "                600.0, 600.0, 700.0, 700.0, 610.0, 650.0, 575.0, \n",
    "                685.0, 620.0, 680.0, 700.0, 725.0, 720.0, 714.0, \n",
    "                850.0, 1000.0, 920.0, 955.0, 925.0, 975.0, 950.0]\n",
    "bing_len = [9.8, 10.5, 10.6, 11.0, 11.2, 11.3, 11.8, 11.8, 12.0, 12.2, 12.4, 13.0, 14.3, 15.0]\n",
    "bing_wgt = [6.7, 7.5, 7.0, 9.7, 9.8, 8.7, 10.0, 9.9, 9.8, 12.2, 13.4, 12.2, 19.7, 19.9]\n",
    "\n",
    "# 독립변수 데이터 합치기\n",
    "fish_length = []\n",
    "fish_weight = []\n",
    "\n",
    "fish_length = domi_len + bing_len\n",
    "fish_weight = domi_wgt + bing_wgt\n"
   ]
  },
  {
   "cell_type": "markdown",
   "id": "dacf82d6",
   "metadata": {},
   "source": [
    "### 넘파이로 2차원데이터 생성"
   ]
  },
  {
   "cell_type": "code",
   "execution_count": 2,
   "id": "d01ecfba",
   "metadata": {},
   "outputs": [],
   "source": [
    "import numpy as np"
   ]
  },
  {
   "cell_type": "code",
   "execution_count": 3,
   "id": "e2819b78",
   "metadata": {},
   "outputs": [],
   "source": [
    "fish_data = []\n",
    "for x,y in zip (fish_length, fish_weight):\n",
    "    fish_data.append([x,y])"
   ]
  },
  {
   "cell_type": "code",
   "execution_count": 5,
   "id": "ce513214",
   "metadata": {},
   "outputs": [],
   "source": [
    "# 넘파이로 2차원 독립변수 생성\n",
    "fish_data = np.column_stack((fish_length, fish_weight))"
   ]
  },
  {
   "cell_type": "code",
   "execution_count": 6,
   "id": "85e69290",
   "metadata": {},
   "outputs": [],
   "source": [
    "fish_target = [] \n",
    "fish_target = [1] * 35 + [0] * 14"
   ]
  },
  {
   "cell_type": "code",
   "execution_count": 7,
   "id": "10c73f72",
   "metadata": {},
   "outputs": [
    {
     "name": "stdout",
     "output_type": "stream",
     "text": [
      "[1. 1. 1. 1. 1. 1. 1. 1. 1. 1. 1. 1. 1. 1. 1. 1. 1. 1. 1. 1. 1. 1. 1. 1.\n",
      " 1. 1. 1. 1. 1. 1. 1. 1. 1. 1. 1. 0. 0. 0. 0. 0. 0. 0. 0. 0. 0. 0. 0. 0.\n",
      " 0.]\n"
     ]
    }
   ],
   "source": [
    "# 넘파이로 종속변수 생성\n",
    "fish_target = np.concatenate((np.ones(35),np.zeros(14)))\n",
    "print(fish_target)"
   ]
  },
  {
   "cell_type": "markdown",
   "id": "fbffcefa",
   "metadata": {},
   "source": [
    "### 넘파이로 훈련/테스트 데이터 분리하기\n",
    "#### 데이터를 분리와 섞는 작업을 동시에 진행"
   ]
  },
  {
   "cell_type": "code",
   "execution_count": 8,
   "id": "340614fa",
   "metadata": {},
   "outputs": [],
   "source": [
    "# 사이킷런 패키지 중에 훈련 및 데스트 데이터 분리 함수 사용\n",
    "from sklearn.model_selection import train_test_split"
   ]
  },
  {
   "cell_type": "code",
   "execution_count": 23,
   "id": "5bb31783",
   "metadata": {},
   "outputs": [
    {
     "data": {
      "text/plain": [
       "((36, 2), (13, 2), (36,), (13,))"
      ]
     },
     "execution_count": 23,
     "metadata": {},
     "output_type": "execute_result"
    }
   ],
   "source": [
    "# 입력 값 : train_test_split(독립변수 데이터셋, 종속변수 데이터셋, test_size=데이터 분류비율, random_state=랜덤고정 값, stratify = 종속변수 데이터로 균등하게 분리fish_target)\n",
    "# 반환 값 : 훈련 독립변수, 테스트 독립변수 , 훈련 종속변수, 테스트 종속변수\n",
    "train_input, test_input, train_target, test_target = train_test_split(fish_data, fish_target, test_size=0.25, random_state=42)\n",
    "train_input.shape, test_input.shape, train_target.shape, test_target.shape"
   ]
  },
  {
   "cell_type": "code",
   "execution_count": 14,
   "id": "671ab150",
   "metadata": {},
   "outputs": [
    {
     "data": {
      "text/plain": [
       "array([1., 1., 1., 0., 0., 0., 1., 1., 1., 1., 1., 1., 1., 0., 1., 1., 1.,\n",
       "       1., 0., 1., 1., 1., 0., 0., 1., 0., 1., 1., 1., 0., 1., 1., 0., 1.,\n",
       "       1., 0.])"
      ]
     },
     "execution_count": 14,
     "metadata": {},
     "output_type": "execute_result"
    }
   ],
   "source": [
    "train_target"
   ]
  },
  {
   "cell_type": "code",
   "execution_count": 24,
   "id": "9f8b0cab",
   "metadata": {},
   "outputs": [
    {
     "data": {
      "image/png": "[encoded data removed]",
      "text/plain": [
       "<Figure size 800x600 with 1 Axes>"
      ]
     },
     "metadata": {},
     "output_type": "display_data"
    }
   ],
   "source": [
    "# 훈련 및 테스트데이터를 산점도로 시각화\n",
    "import matplotlib.pyplot as plt\n",
    "plt.figure(figsize=(8,6))\n",
    "\n",
    "# 첫번째열은 길이 두번째열은 무게\n",
    "plt.scatter(train_input[: , 0],train_input[:,1], color='red', label = 'train')\n",
    "plt.scatter(test_input[: , 0],test_input[:, 1], color='blue', label = 'test')\n",
    "plt.legend()\n",
    "plt.show()"
   ]
  },
  {
   "cell_type": "markdown",
   "id": "918e9f99",
   "metadata": {},
   "source": [
    "### 데이터 편향을 개선\n",
    "#### 데이터의 편향 확인 : 종속데이터 확인하면 됨\n",
    "#### train_test_split의 stratify=fish_target을 이용해 편향성을 보정"
   ]
  },
  {
   "cell_type": "code",
   "execution_count": 16,
   "id": "970c4998",
   "metadata": {},
   "outputs": [
    {
     "data": {
      "text/plain": [
       "array([1., 0., 0., 0., 1., 1., 1., 1., 1., 1., 1., 1., 1.])"
      ]
     },
     "execution_count": 16,
     "metadata": {},
     "output_type": "execute_result"
    }
   ],
   "source": [
    "test_target"
   ]
  },
  {
   "cell_type": "code",
   "execution_count": 25,
   "id": "036c3dae",
   "metadata": {},
   "outputs": [
    {
     "data": {
      "text/plain": [
       "((36, 2), (13, 2), (36,), (13,))"
      ]
     },
     "execution_count": 25,
     "metadata": {},
     "output_type": "execute_result"
    }
   ],
   "source": [
    "train_input, test_input, train_target, test_target = train_test_split(fish_data, fish_target, test_size=0.25, random_state=42, stratify=fish_target)\n",
    "train_input.shape, test_input.shape, train_target.shape, test_target.shape"
   ]
  },
  {
   "cell_type": "code",
   "execution_count": null,
   "id": "2fcaf302",
   "metadata": {},
   "outputs": [],
   "source": []
  },
  {
   "cell_type": "code",
   "execution_count": 27,
   "id": "50a19dc2",
   "metadata": {},
   "outputs": [
    {
     "data": {
      "text/plain": [
       "array([0., 0., 1., 0., 1., 0., 1., 1., 1., 1., 1., 1., 1.])"
      ]
     },
     "execution_count": 27,
     "metadata": {},
     "output_type": "execute_result"
    }
   ],
   "source": [
    "test_target"
   ]
  },
  {
   "cell_type": "markdown",
   "id": "5ba68608",
   "metadata": {},
   "source": [
    "### 임의의 데이터 예측(분류)하기\n",
    "#### 임의의 데이터 : 길이는 25, 무게는 150인 경우 어떤 생선일까?"
   ]
  },
  {
   "cell_type": "code",
   "execution_count": 40,
   "id": "e0c03893",
   "metadata": {},
   "outputs": [
    {
     "data": {
      "image/png": "[encoded data removed]",
      "text/plain": [
       "<Figure size 700x300 with 1 Axes>"
      ]
     },
     "metadata": {},
     "output_type": "display_data"
    }
   ],
   "source": [
    "# 훈련 및 테스트, 임의의 데이터를 산점도로 시각화\n",
    "import matplotlib.pyplot as plt\n",
    "plt.figure(figsize=(7,3))\n",
    "\n",
    "# 첫번째열은 길이 두번째열은 무게\n",
    "plt.scatter(train_input[: , 0],train_input[:,1], color='red', label = 'train')\n",
    "#plt.scatter(test_input[: , 0],test_input[:, 1], color='blue', label = 'test')\n",
    "plt.scatter(25,150, color='green', label = 'sample')\n",
    "plt.legend()\n",
    "plt.show()"
   ]
  },
  {
   "cell_type": "code",
   "execution_count": 33,
   "id": "3ba5eb37",
   "metadata": {},
   "outputs": [
    {
     "data": {
      "text/html": [
       "<style>#sk-container-id-1 {color: black;background-color: white;}#sk-container-id-1 pre{padding: 0;}#sk-container-id-1 div.sk-toggleable {background-color: white;}#sk-container-id-1 label.sk-toggleable__label {cursor: pointer;display: block;width: 100%;margin-bottom: 0;padding: 0.3em;box-sizing: border-box;text-align: center;}#sk-container-id-1 label.sk-toggleable__label-arrow:before {content: \"▸\";float: left;margin-right: 0.25em;color: #696969;}#sk-container-id-1 label.sk-toggleable__label-arrow:hover:before {color: black;}#sk-container-id-1 div.sk-estimator:hover label.sk-toggleable__label-arrow:before {color: black;}#sk-container-id-1 div.sk-toggleable__content {max-height: 0;max-width: 0;overflow: hidden;text-align: left;background-color: #f0f8ff;}#sk-container-id-1 div.sk-toggleable__content pre {margin: 0.2em;color: black;border-radius: 0.25em;background-color: #f0f8ff;}#sk-container-id-1 input.sk-toggleable__control:checked~div.sk-toggleable__content {max-height: 200px;max-width: 100%;overflow: auto;}#sk-container-id-1 input.sk-toggleable__control:checked~label.sk-toggleable__label-arrow:before {content: \"▾\";}#sk-container-id-1 div.sk-estimator input.sk-toggleable__control:checked~label.sk-toggleable__label {background-color: #d4ebff;}#sk-container-id-1 div.sk-label input.sk-toggleable__control:checked~label.sk-toggleable__label {background-color: #d4ebff;}#sk-container-id-1 input.sk-hidden--visually {border: 0;clip: rect(1px 1px 1px 1px);clip: rect(1px, 1px, 1px, 1px);height: 1px;margin: -1px;overflow: hidden;padding: 0;position: absolute;width: 1px;}#sk-container-id-1 div.sk-estimator {font-family: monospace;background-color: #f0f8ff;border: 1px dotted black;border-radius: 0.25em;box-sizing: border-box;margin-bottom: 0.5em;}#sk-container-id-1 div.sk-estimator:hover {background-color: #d4ebff;}#sk-container-id-1 div.sk-parallel-item::after {content: \"\";width: 100%;border-bottom: 1px solid gray;flex-grow: 1;}#sk-container-id-1 div.sk-label:hover label.sk-toggleable__label {background-color: #d4ebff;}#sk-container-id-1 div.sk-serial::before {content: \"\";position: absolute;border-left: 1px solid gray;box-sizing: border-box;top: 0;bottom: 0;left: 50%;z-index: 0;}#sk-container-id-1 div.sk-serial {display: flex;flex-direction: column;align-items: center;background-color: white;padding-right: 0.2em;padding-left: 0.2em;position: relative;}#sk-container-id-1 div.sk-item {position: relative;z-index: 1;}#sk-container-id-1 div.sk-parallel {display: flex;align-items: stretch;justify-content: center;background-color: white;position: relative;}#sk-container-id-1 div.sk-item::before, #sk-container-id-1 div.sk-parallel-item::before {content: \"\";position: absolute;border-left: 1px solid gray;box-sizing: border-box;top: 0;bottom: 0;left: 50%;z-index: -1;}#sk-container-id-1 div.sk-parallel-item {display: flex;flex-direction: column;z-index: 1;position: relative;background-color: white;}#sk-container-id-1 div.sk-parallel-item:first-child::after {align-self: flex-end;width: 50%;}#sk-container-id-1 div.sk-parallel-item:last-child::after {align-self: flex-start;width: 50%;}#sk-container-id-1 div.sk-parallel-item:only-child::after {width: 0;}#sk-container-id-1 div.sk-dashed-wrapped {border: 1px dashed gray;margin: 0 0.4em 0.5em 0.4em;box-sizing: border-box;padding-bottom: 0.4em;background-color: white;}#sk-container-id-1 div.sk-label label {font-family: monospace;font-weight: bold;display: inline-block;line-height: 1.2em;}#sk-container-id-1 div.sk-label-container {text-align: center;}#sk-container-id-1 div.sk-container {/* jupyter's `normalize.less` sets `[hidden] { display: none; }` but bootstrap.min.css set `[hidden] { display: none !important; }` so we also need the `!important` here to be able to override the default hidden behavior on the sphinx rendered scikit-learn.org. See: https://github.com/scikit-learn/scikit-learn/issues/21755 */display: inline-block !important;position: relative;}#sk-container-id-1 div.sk-text-repr-fallback {display: none;}</style><div id=\"sk-container-id-1\" class=\"sk-top-container\"><div class=\"sk-text-repr-fallback\"><pre>KNeighborsClassifier()</pre><b>In a Jupyter environment, please rerun this cell to show the HTML representation or trust the notebook. <br />On GitHub, the HTML representation is unable to render, please try loading this page with nbviewer.org.</b></div><div class=\"sk-container\" hidden><div class=\"sk-item\"><div class=\"sk-estimator sk-toggleable\"><input class=\"sk-toggleable__control sk-hidden--visually\" id=\"sk-estimator-id-1\" type=\"checkbox\" checked><label for=\"sk-estimator-id-1\" class=\"sk-toggleable__label sk-toggleable__label-arrow\">KNeighborsClassifier</label><div class=\"sk-toggleable__content\"><pre>KNeighborsClassifier()</pre></div></div></div></div></div>"
      ],
      "text/plain": [
       "KNeighborsClassifier()"
      ]
     },
     "execution_count": 33,
     "metadata": {},
     "output_type": "execute_result"
    }
   ],
   "source": [
    "# 훈련시키기(훈련데이터 사용), 이웃갯수는 기본값 5\n",
    "from sklearn.neighbors import KNeighborsClassifier as KNN\n",
    "knn3 = KNN()\n",
    "knn3.fit(train_input, train_target)"
   ]
  },
  {
   "cell_type": "code",
   "execution_count": 34,
   "id": "4deb8860",
   "metadata": {},
   "outputs": [
    {
     "data": {
      "text/plain": [
       "1.0"
      ]
     },
     "execution_count": 34,
     "metadata": {},
     "output_type": "execute_result"
    }
   ],
   "source": [
    "# 정확도 확인하기(테스트데이터 사용)\n",
    "knn3.score(test_input, test_target)"
   ]
  },
  {
   "cell_type": "code",
   "execution_count": 35,
   "id": "b70c97d9",
   "metadata": {},
   "outputs": [
    {
     "data": {
      "text/plain": [
       "array([0.])"
      ]
     },
     "execution_count": 35,
     "metadata": {},
     "output_type": "execute_result"
    }
   ],
   "source": [
    "# 예측하기(임의 데이터)\n",
    "knn3.predict([[25,150]])\n",
    "\n",
    "# 해석 : 0은 빙어를 의미함"
   ]
  },
  {
   "cell_type": "markdown",
   "id": "ec8224dc",
   "metadata": {},
   "source": [
    "### 사용된 이웃 확인"
   ]
  },
  {
   "cell_type": "code",
   "execution_count": 43,
   "id": "b04c3dde",
   "metadata": {},
   "outputs": [],
   "source": [
    "# knn3.kneighbors([[25,150]])의 반환값 = dist :이웃까지의 거리값, idx : 실제 독립변수의 인덱스 값 \n",
    "dist, idx = knn3.kneighbors([[25,150]])"
   ]
  },
  {
   "cell_type": "code",
   "execution_count": 44,
   "id": "8bfbe36c",
   "metadata": {},
   "outputs": [
    {
     "data": {
      "image/png": "[encoded data removed]",
      "text/plain": [
       "<Figure size 700x300 with 1 Axes>"
      ]
     },
     "metadata": {},
     "output_type": "display_data"
    }
   ],
   "source": [
    "# 훈련 및 테스트, 임의의 데이터를 산점도로 시각화\n",
    "import matplotlib.pyplot as plt\n",
    "plt.figure(figsize=(7,3))\n",
    "\n",
    "# 첫번째열은 길이 두번째열은 무게\n",
    "plt.scatter(train_input[: , 0],train_input[:,1], color='red', label = 'train')\n",
    "#plt.scatter(test_input[: , 0],test_input[:, 1], color='blue', label = 'test')\n",
    "plt.scatter(25,150, color='green', label = 'sample')\n",
    "\n",
    "# 이웃의 특성 확인하기\n",
    "plt.scatter(train_input[idx,0], train_input[idx,1], color='blue', label = 'neb', marker='D')\n",
    "\n",
    "plt.legend()\n",
    "plt.show()"
   ]
  },
  {
   "cell_type": "code",
   "execution_count": 45,
   "id": "274386a0",
   "metadata": {},
   "outputs": [
    {
     "data": {
      "text/plain": [
       "array([[1., 0., 0., 0., 0.]])"
      ]
     },
     "execution_count": 45,
     "metadata": {},
     "output_type": "execute_result"
    }
   ],
   "source": [
    "# 인덱스로 실제 종속변수 데이터 확인하기\n",
    "train_target[idx]"
   ]
  },
  {
   "cell_type": "markdown",
   "id": "c18ef7ab",
   "metadata": {},
   "source": [
    "### 왜 빙어로 분류됐을까\n",
    "#### x축과 y축 단위가 커서 발생한 현상으로 단위를 동일하게 한 후 확인"
   ]
  },
  {
   "cell_type": "code",
   "execution_count": 47,
   "id": "7b91f764",
   "metadata": {},
   "outputs": [
    {
     "data": {
      "image/png": "[encoded data removed]",
      "text/plain": [
       "<Figure size 700x300 with 1 Axes>"
      ]
     },
     "metadata": {},
     "output_type": "display_data"
    }
   ],
   "source": [
    "# 훈련 및 테스트, 임의의 데이터를 산점도로 시각화\n",
    "import matplotlib.pyplot as plt\n",
    "plt.figure(figsize=(7,3))\n",
    "\n",
    "# x축의 단위를 y축 단위로 변환해서 산점도그리기\n",
    "plt.xlim(0,1000)\n",
    "\n",
    "plt.scatter(train_input[: , 0],train_input[:,1], color='red', label = 'train')\n",
    "#plt.scatter(test_input[: , 0],test_input[:, 1], color='blue', label = 'test')\n",
    "plt.scatter(25,150, color='green', label = 'sample')\n",
    "\n",
    "# 이웃의 특성 확인하기\n",
    "plt.scatter(train_input[idx,0], train_input[idx,1], color='blue', label = 'neb', marker='D')\n",
    "\n",
    "plt.legend()\n",
    "plt.show()"
   ]
  },
  {
   "cell_type": "markdown",
   "id": "3412230c",
   "metadata": {},
   "source": [
    "### 데이터 스케일링 : 정규화(표준화)라고 칭함\n",
    "#### 정규화 : 표준점수(standard score)를 사용\n",
    "#### 표준점수 : 각 데이터가 원점(0)에서 몇 표준편차만큼 떨어져 있는지를 나타냄\n",
    "#### 표준점수 = (각 데이터 - 데이터셋 전체평균) / 데이터셋 전체 표준편차\n",
    "#### 편균 및 표준편차는 numpy함수 사용"
   ]
  },
  {
   "cell_type": "code",
   "execution_count": 48,
   "id": "9ac615a4",
   "metadata": {},
   "outputs": [
    {
     "data": {
      "text/plain": [
       "array([ 27.29722222, 454.09722222])"
      ]
     },
     "execution_count": 48,
     "metadata": {},
     "output_type": "execute_result"
    }
   ],
   "source": [
    "# 길이와 무게의 각각 평균 구하기\n",
    "mean = np.mean(train_input, axis = 0)\n",
    "mean"
   ]
  },
  {
   "cell_type": "code",
   "execution_count": 49,
   "id": "0ca9178a",
   "metadata": {},
   "outputs": [
    {
     "data": {
      "text/plain": [
       "array([  9.98244253, 323.29893931])"
      ]
     },
     "execution_count": 49,
     "metadata": {},
     "output_type": "execute_result"
    }
   ],
   "source": [
    "# 길이와 무게의 각각 표준편차 구하기\n",
    "std = np.std(train_input, axis=0)\n",
    "std"
   ]
  },
  {
   "cell_type": "code",
   "execution_count": 53,
   "id": "996c8b90",
   "metadata": {},
   "outputs": [
    {
     "data": {
      "text/plain": [
       "array([[ 0.24070039,  0.14198246],\n",
       "       [-1.51237757, -1.36683783],\n",
       "       [ 0.5712808 ,  0.76060496],\n",
       "       [-1.60253587, -1.37766373],\n",
       "       [ 1.22242404,  1.45655528],\n",
       "       [ 0.17057727, -0.07453542],\n",
       "       [ 0.87180845,  0.80390854],\n",
       "       [ 0.87180845,  1.22457184],\n",
       "       [ 0.37092904,  0.06465464],\n",
       "       [ 0.77163257,  0.82246721],\n",
       "       [ 0.97198434,  1.68853872],\n",
       "       [-1.61255346, -1.3742613 ],\n",
       "       [ 0.72154463,  0.51315596],\n",
       "       [-1.53241275, -1.3742613 ],\n",
       "       [ 0.17057727, -0.28177396],\n",
       "       [ 0.5712808 ,  0.76060496],\n",
       "       [ 0.34087627,  0.14198246],\n",
       "       [ 1.12224816,  1.54934866],\n",
       "       [ 0.62136874,  0.60594934],\n",
       "       [-1.30200822, -1.34363949],\n",
       "       [ 0.42101698,  0.14198246],\n",
       "       [-0.19005591, -0.65604058],\n",
       "       [-1.75279969, -1.38384995],\n",
       "       [ 0.47110492,  0.45129371],\n",
       "       [-1.68267658, -1.38137546],\n",
       "       [ 0.62136874,  0.48222484],\n",
       "       [-1.67265899, -1.38292202],\n",
       "       [ 0.77163257,  0.76060496],\n",
       "       [ 0.47110492,  0.45129371],\n",
       "       [ 0.77163257,  0.83793278],\n",
       "       [-1.43223687, -1.36683783],\n",
       "       [ 0.27075315, -0.01267317],\n",
       "       [ 0.47110492, -0.35291555],\n",
       "       [-1.2318851 , -1.34302087],\n",
       "       [ 0.27075315, -0.19825992],\n",
       "       [ 1.37268787,  1.61121091]])"
      ]
     },
     "execution_count": 53,
     "metadata": {},
     "output_type": "execute_result"
    }
   ],
   "source": [
    "# 표준점수 계산하기\n",
    "train_scaled = (train_input - mean) / std\n",
    "train_scaled"
   ]
  },
  {
   "cell_type": "code",
   "execution_count": 57,
   "id": "5eb83cb9",
   "metadata": {},
   "outputs": [],
   "source": [
    "# 임의의 데이터 표준화\n",
    "new = ([25,150]-mean)/std"
   ]
  },
  {
   "cell_type": "code",
   "execution_count": 58,
   "id": "f927ebf0",
   "metadata": {},
   "outputs": [
    {
     "data": {
      "image/png": "[encoded data removed]",
      "text/plain": [
       "<Figure size 700x300 with 1 Axes>"
      ]
     },
     "metadata": {},
     "output_type": "display_data"
    }
   ],
   "source": [
    "# 정규화, 임의의 데이터를 산점도로 시각화\n",
    "import matplotlib.pyplot as plt\n",
    "plt.figure(figsize=(7,3))\n",
    "\n",
    "# x축의 단위를 y축 단위로 변환해서 산점도그리기\n",
    "plt.scatter(train_scaled[: , 0],train_scaled[:,1], color='red', label = 'train')\n",
    "\n",
    "#임의의 데이터 표준ㅇ화\n",
    "plt.scatter(new[0],new[1], color='green', label = 'sample')\n",
    "\n",
    "plt.legend()\n",
    "plt.show()"
   ]
  },
  {
   "cell_type": "code",
   "execution_count": null,
   "id": "ece7e2af",
   "metadata": {},
   "outputs": [],
   "source": [
    "# 훈련하기\n",
    "# 정확도확인 "
   ]
  },
  {
   "cell_type": "code",
   "execution_count": null,
   "id": "6362e825",
   "metadata": {},
   "outputs": [],
   "source": [
    "from sklearn.neighbors import KNeighborsClassifier as KNN\n",
    "knn4 = KNN()\n",
    "knn4.fit(train_scaled, train_target)"
   ]
  },
  {
   "cell_type": "code",
   "execution_count": null,
   "id": "e08c645a",
   "metadata": {},
   "outputs": [],
   "source": []
  }
 ],
 "metadata": {
  "kernelspec": {
   "display_name": "sj_prj",
   "language": "python",
   "name": "sj_prj"
  },
  "language_info": {
   "codemirror_mode": {
    "name": "ipython",
    "version": 3
   },
   "file_extension": ".py",
   "mimetype": "text/x-python",
   "name": "python",
   "nbconvert_exporter": "python",
   "pygments_lexer": "ipython3",
   "version": "3.9.16"
  }
 },
 "nbformat": 4,
 "nbformat_minor": 5
}
