{
 "cells": [
  {
   "attachments": {
    "image.png": {
     "image/png": "[encoded data removed]"
    }
   },
   "cell_type": "markdown",
   "id": "d509202d",
   "metadata": {},
   "source": [
    "### 점진적인 학습\n",
    "#### [ 점진적 학습 ]\n",
    "#### -훈련에 필요한 데이터가 한번에 다 수집된 경우가 아니라 시간차를 두고 수집이 되는 경우에는 어떻게 훈련을 시킬지를 해결함\n",
    "#### - 데이터가 수집될 때마다 학습을 이어나가는 훈련방식을 의미함\n",
    "#### - 점진적 학습의 대표적인 알뢰즘으로 \" 확률적 경사하강법\"이 주로 사용됨\n",
    "---\n",
    "#### [ 확률적 경사하강법 - SGD: Stochastic Gradient Descent ]\n",
    "#### - 경사 : 기울기를 의미함\n",
    "#### - 하강법 : 내려가는 방법\n",
    "#### - 경사하강법 : 원하는 지점(결과값)에 도달하기 위해 가장 가파른 경사를 따라 내려가는 방법을 찾는 것\n",
    "#### - 확률적 : 무작위 또는 랜덤하게의 기적적 표현으로 확률적이라고 칭함\n",
    "#### - 확률적 경사하강법 : 훈련데이터의 전체 특성들중에서 하나씩 랜덤하게 선택하여 가장 가파른 길을 찾아내는 방법\n",
    "![image.png](attachment:image.png)\n",
    "--- \n",
    "#### [ 내부적으로 처리되는 확률적 경사하강법 순서]\n",
    "#### 1) 훈련데이터(독립변수)에서랜덤하게 하나의 특성을 선택하게 됨\n",
    "#### 2)선택한 특성을 이용해서 경사를 조금씩 내려감\n",
    "#### 3)내려갈수 있을때까지 내려감(하강)\n",
    "#### 4) 훈련세트에서 다른 특성을 랜덤하게 또 다시 선택해서 1~3번을 반복"
   ]
  },
  {
   "cell_type": "markdown",
   "id": "5e9c4f18",
   "metadata": {},
   "source": [
    "## 데이터 준비"
   ]
  },
  {
   "cell_type": "code",
   "execution_count": 1,
   "id": "40f47315",
   "metadata": {},
   "outputs": [],
   "source": [
    "import pandas as pd\n",
    "import numpy as np"
   ]
  },
  {
   "cell_type": "code",
   "execution_count": 2,
   "id": "174119bd",
   "metadata": {},
   "outputs": [
    {
     "data": {
      "text/html": [
       "<div>\n",
       "<style scoped>\n",
       "    .dataframe tbody tr th:only-of-type {\n",
       "        vertical-align: middle;\n",
       "    }\n",
       "\n",
       "    .dataframe tbody tr th {\n",
       "        vertical-align: top;\n",
       "    }\n",
       "\n",
       "    .dataframe thead th {\n",
       "        text-align: right;\n",
       "    }\n",
       "</style>\n",
       "<table border=\"1\" class=\"dataframe\">\n",
       "  <thead>\n",
       "    <tr style=\"text-align: right;\">\n",
       "      <th></th>\n",
       "      <th>Species</th>\n",
       "      <th>Weight</th>\n",
       "      <th>Length</th>\n",
       "      <th>Diagonal</th>\n",
       "      <th>Height</th>\n",
       "      <th>Width</th>\n",
       "    </tr>\n",
       "  </thead>\n",
       "  <tbody>\n",
       "    <tr>\n",
       "      <th>0</th>\n",
       "      <td>Bream</td>\n",
       "      <td>242.0</td>\n",
       "      <td>25.4</td>\n",
       "      <td>30.0</td>\n",
       "      <td>11.5200</td>\n",
       "      <td>4.0200</td>\n",
       "    </tr>\n",
       "    <tr>\n",
       "      <th>1</th>\n",
       "      <td>Bream</td>\n",
       "      <td>290.0</td>\n",
       "      <td>26.3</td>\n",
       "      <td>31.2</td>\n",
       "      <td>12.4800</td>\n",
       "      <td>4.3056</td>\n",
       "    </tr>\n",
       "    <tr>\n",
       "      <th>2</th>\n",
       "      <td>Bream</td>\n",
       "      <td>340.0</td>\n",
       "      <td>26.5</td>\n",
       "      <td>31.1</td>\n",
       "      <td>12.3778</td>\n",
       "      <td>4.6961</td>\n",
       "    </tr>\n",
       "  </tbody>\n",
       "</table>\n",
       "</div>"
      ],
      "text/plain": [
       "  Species  Weight  Length  Diagonal   Height   Width\n",
       "0   Bream   242.0    25.4      30.0  11.5200  4.0200\n",
       "1   Bream   290.0    26.3      31.2  12.4800  4.3056\n",
       "2   Bream   340.0    26.5      31.1  12.3778  4.6961"
      ]
     },
     "execution_count": 2,
     "metadata": {},
     "output_type": "execute_result"
    }
   ],
   "source": [
    "fish = pd.read_csv('./data/07_fish.csv')\n",
    "fish.head(3)"
   ]
  },
  {
   "cell_type": "code",
   "execution_count": 5,
   "id": "ebebd489",
   "metadata": {},
   "outputs": [],
   "source": [
    "fish_input = fish.drop(columns='Species')\n",
    "fish_target = fish['Species']\n"
   ]
  },
  {
   "cell_type": "code",
   "execution_count": 6,
   "id": "22eb0d44",
   "metadata": {},
   "outputs": [
    {
     "data": {
      "text/plain": [
       "((159, 5), (159,))"
      ]
     },
     "execution_count": 6,
     "metadata": {},
     "output_type": "execute_result"
    }
   ],
   "source": [
    "fish_input.shape, fish_target.shape"
   ]
  },
  {
   "cell_type": "code",
   "execution_count": 7,
   "id": "41bff28d",
   "metadata": {},
   "outputs": [],
   "source": [
    "from sklearn.model_selection import train_test_split"
   ]
  },
  {
   "cell_type": "code",
   "execution_count": 9,
   "id": "67d8889f",
   "metadata": {},
   "outputs": [
    {
     "data": {
      "text/plain": [
       "((119, 5), (40, 5), (119,), (40,))"
      ]
     },
     "execution_count": 9,
     "metadata": {},
     "output_type": "execute_result"
    }
   ],
   "source": [
    "train_x, test_x, train_y, test_y = train_test_split(fish_input, fish_target, test_size=0.25, random_state=42)\n",
    "train_x.shape, test_x.shape, train_y.shape, test_y.shape"
   ]
  },
  {
   "cell_type": "code",
   "execution_count": 47,
   "id": "4a6e8f1f",
   "metadata": {},
   "outputs": [],
   "source": [
    "from sklearn.preprocessing import StandardScaler as sc"
   ]
  },
  {
   "cell_type": "code",
   "execution_count": 11,
   "id": "f053e0e9",
   "metadata": {},
   "outputs": [
    {
     "data": {
      "text/plain": [
       "((119, 5), (40, 5))"
      ]
     },
     "execution_count": 11,
     "metadata": {},
     "output_type": "execute_result"
    }
   ],
   "source": [
    "std = sc()\n",
    "std.fit(train_x)\n",
    "train_scaled = std.transform(train_x)\n",
    "test_scaled = std.transform(test_x)\n",
    "train_scaled.shape, test_scaled.shape"
   ]
  },
  {
   "cell_type": "markdown",
   "id": "ac27e62b",
   "metadata": {},
   "source": [
    "## 훈련하기"
   ]
  },
  {
   "cell_type": "code",
   "execution_count": 14,
   "id": "f9985590",
   "metadata": {},
   "outputs": [],
   "source": [
    "from sklearn.linear_model import SGDClassifier"
   ]
  },
  {
   "cell_type": "markdown",
   "id": "dd1547e5",
   "metadata": {},
   "source": [
    "### SGDClassifier 알고리즘\n",
    "#### random_state : 특성을 랜덤하게 경사하강을 하기 위함\n",
    "#### max_iter : 훈련 반복횟수(epoch라고도 함)로 클수록 학습시간이 오래 걸림\n",
    "#### - 훈련 반복 횟수가 부족한 경우에도 지정된 반복횟수만큼만 학습함\n",
    "#### - 가장 적합한 반복횟수를 찾는 작업도 필요(하이퍼파라미터 튜닝)\n",
    "---\n",
    "#### loss : 손실함수 (log - 로지스틱 손실함수인 sigmoid가 사용됨)\n",
    "#### - 조금씩 내려오면서 손실이 작은 쪽을 찾아서 내려오기 위한 방법\n",
    "#### - 사람은 손실이 작은 값들을 알수 없음\n",
    "#### - 학습모델이 가지고 있는 손실계산식을 통해 결정되기에 사람은 관여 안 함\n",
    "#### - 훈련모델이 분류결과에 만족한다면 훈련을 종료시킴\n",
    "#### - 사람은 분류성격에 맞게 사용할 손실함수를 지정하면 됨"
   ]
  },
  {
   "cell_type": "code",
   "execution_count": 13,
   "id": "d7ac3f4f",
   "metadata": {},
   "outputs": [
    {
     "data": {
      "text/html": [
       "<style>#sk-container-id-1 {color: black;background-color: white;}#sk-container-id-1 pre{padding: 0;}#sk-container-id-1 div.sk-toggleable {background-color: white;}#sk-container-id-1 label.sk-toggleable__label {cursor: pointer;display: block;width: 100%;margin-bottom: 0;padding: 0.3em;box-sizing: border-box;text-align: center;}#sk-container-id-1 label.sk-toggleable__label-arrow:before {content: \"▸\";float: left;margin-right: 0.25em;color: #696969;}#sk-container-id-1 label.sk-toggleable__label-arrow:hover:before {color: black;}#sk-container-id-1 div.sk-estimator:hover label.sk-toggleable__label-arrow:before {color: black;}#sk-container-id-1 div.sk-toggleable__content {max-height: 0;max-width: 0;overflow: hidden;text-align: left;background-color: #f0f8ff;}#sk-container-id-1 div.sk-toggleable__content pre {margin: 0.2em;color: black;border-radius: 0.25em;background-color: #f0f8ff;}#sk-container-id-1 input.sk-toggleable__control:checked~div.sk-toggleable__content {max-height: 200px;max-width: 100%;overflow: auto;}#sk-container-id-1 input.sk-toggleable__control:checked~label.sk-toggleable__label-arrow:before {content: \"▾\";}#sk-container-id-1 div.sk-estimator input.sk-toggleable__control:checked~label.sk-toggleable__label {background-color: #d4ebff;}#sk-container-id-1 div.sk-label input.sk-toggleable__control:checked~label.sk-toggleable__label {background-color: #d4ebff;}#sk-container-id-1 input.sk-hidden--visually {border: 0;clip: rect(1px 1px 1px 1px);clip: rect(1px, 1px, 1px, 1px);height: 1px;margin: -1px;overflow: hidden;padding: 0;position: absolute;width: 1px;}#sk-container-id-1 div.sk-estimator {font-family: monospace;background-color: #f0f8ff;border: 1px dotted black;border-radius: 0.25em;box-sizing: border-box;margin-bottom: 0.5em;}#sk-container-id-1 div.sk-estimator:hover {background-color: #d4ebff;}#sk-container-id-1 div.sk-parallel-item::after {content: \"\";width: 100%;border-bottom: 1px solid gray;flex-grow: 1;}#sk-container-id-1 div.sk-label:hover label.sk-toggleable__label {background-color: #d4ebff;}#sk-container-id-1 div.sk-serial::before {content: \"\";position: absolute;border-left: 1px solid gray;box-sizing: border-box;top: 0;bottom: 0;left: 50%;z-index: 0;}#sk-container-id-1 div.sk-serial {display: flex;flex-direction: column;align-items: center;background-color: white;padding-right: 0.2em;padding-left: 0.2em;position: relative;}#sk-container-id-1 div.sk-item {position: relative;z-index: 1;}#sk-container-id-1 div.sk-parallel {display: flex;align-items: stretch;justify-content: center;background-color: white;position: relative;}#sk-container-id-1 div.sk-item::before, #sk-container-id-1 div.sk-parallel-item::before {content: \"\";position: absolute;border-left: 1px solid gray;box-sizing: border-box;top: 0;bottom: 0;left: 50%;z-index: -1;}#sk-container-id-1 div.sk-parallel-item {display: flex;flex-direction: column;z-index: 1;position: relative;background-color: white;}#sk-container-id-1 div.sk-parallel-item:first-child::after {align-self: flex-end;width: 50%;}#sk-container-id-1 div.sk-parallel-item:last-child::after {align-self: flex-start;width: 50%;}#sk-container-id-1 div.sk-parallel-item:only-child::after {width: 0;}#sk-container-id-1 div.sk-dashed-wrapped {border: 1px dashed gray;margin: 0 0.4em 0.5em 0.4em;box-sizing: border-box;padding-bottom: 0.4em;background-color: white;}#sk-container-id-1 div.sk-label label {font-family: monospace;font-weight: bold;display: inline-block;line-height: 1.2em;}#sk-container-id-1 div.sk-label-container {text-align: center;}#sk-container-id-1 div.sk-container {/* jupyter's `normalize.less` sets `[hidden] { display: none; }` but bootstrap.min.css set `[hidden] { display: none !important; }` so we also need the `!important` here to be able to override the default hidden behavior on the sphinx rendered scikit-learn.org. See: https://github.com/scikit-learn/scikit-learn/issues/21755 */display: inline-block !important;position: relative;}#sk-container-id-1 div.sk-text-repr-fallback {display: none;}</style><div id=\"sk-container-id-1\" class=\"sk-top-container\"><div class=\"sk-text-repr-fallback\"><pre>SGDClassifier(loss=&#x27;log&#x27;, max_iter=10, random_state=42)</pre><b>In a Jupyter environment, please rerun this cell to show the HTML representation or trust the notebook. <br />On GitHub, the HTML representation is unable to render, please try loading this page with nbviewer.org.</b></div><div class=\"sk-container\" hidden><div class=\"sk-item\"><div class=\"sk-estimator sk-toggleable\"><input class=\"sk-toggleable__control sk-hidden--visually\" id=\"sk-estimator-id-1\" type=\"checkbox\" checked><label for=\"sk-estimator-id-1\" class=\"sk-toggleable__label sk-toggleable__label-arrow\">SGDClassifier</label><div class=\"sk-toggleable__content\"><pre>SGDClassifier(loss=&#x27;log&#x27;, max_iter=10, random_state=42)</pre></div></div></div></div></div>"
      ],
      "text/plain": [
       "SGDClassifier(loss='log', max_iter=10, random_state=42)"
      ]
     },
     "execution_count": 13,
     "metadata": {},
     "output_type": "execute_result"
    }
   ],
   "source": [
    "sc = SGDClassifier(loss='log',max_iter=10,random_state=42)\n",
    "sc"
   ]
  },
  {
   "cell_type": "code",
   "execution_count": 15,
   "id": "2995ea25",
   "metadata": {},
   "outputs": [
    {
     "name": "stderr",
     "output_type": "stream",
     "text": [
      "C:\\anaconda3\\envs\\sj_prj\\lib\\site-packages\\sklearn\\linear_model\\_stochastic_gradient.py:163: FutureWarning: The loss 'log' was deprecated in v1.1 and will be removed in version 1.3. Use `loss='log_loss'` which is equivalent.\n",
      "  warnings.warn(\n",
      "C:\\anaconda3\\envs\\sj_prj\\lib\\site-packages\\sklearn\\linear_model\\_stochastic_gradient.py:702: ConvergenceWarning: Maximum number of iteration reached before convergence. Consider increasing max_iter to improve the fit.\n",
      "  warnings.warn(\n"
     ]
    },
    {
     "data": {
      "text/html": [
       "<style>#sk-container-id-2 {color: black;background-color: white;}#sk-container-id-2 pre{padding: 0;}#sk-container-id-2 div.sk-toggleable {background-color: white;}#sk-container-id-2 label.sk-toggleable__label {cursor: pointer;display: block;width: 100%;margin-bottom: 0;padding: 0.3em;box-sizing: border-box;text-align: center;}#sk-container-id-2 label.sk-toggleable__label-arrow:before {content: \"▸\";float: left;margin-right: 0.25em;color: #696969;}#sk-container-id-2 label.sk-toggleable__label-arrow:hover:before {color: black;}#sk-container-id-2 div.sk-estimator:hover label.sk-toggleable__label-arrow:before {color: black;}#sk-container-id-2 div.sk-toggleable__content {max-height: 0;max-width: 0;overflow: hidden;text-align: left;background-color: #f0f8ff;}#sk-container-id-2 div.sk-toggleable__content pre {margin: 0.2em;color: black;border-radius: 0.25em;background-color: #f0f8ff;}#sk-container-id-2 input.sk-toggleable__control:checked~div.sk-toggleable__content {max-height: 200px;max-width: 100%;overflow: auto;}#sk-container-id-2 input.sk-toggleable__control:checked~label.sk-toggleable__label-arrow:before {content: \"▾\";}#sk-container-id-2 div.sk-estimator input.sk-toggleable__control:checked~label.sk-toggleable__label {background-color: #d4ebff;}#sk-container-id-2 div.sk-label input.sk-toggleable__control:checked~label.sk-toggleable__label {background-color: #d4ebff;}#sk-container-id-2 input.sk-hidden--visually {border: 0;clip: rect(1px 1px 1px 1px);clip: rect(1px, 1px, 1px, 1px);height: 1px;margin: -1px;overflow: hidden;padding: 0;position: absolute;width: 1px;}#sk-container-id-2 div.sk-estimator {font-family: monospace;background-color: #f0f8ff;border: 1px dotted black;border-radius: 0.25em;box-sizing: border-box;margin-bottom: 0.5em;}#sk-container-id-2 div.sk-estimator:hover {background-color: #d4ebff;}#sk-container-id-2 div.sk-parallel-item::after {content: \"\";width: 100%;border-bottom: 1px solid gray;flex-grow: 1;}#sk-container-id-2 div.sk-label:hover label.sk-toggleable__label {background-color: #d4ebff;}#sk-container-id-2 div.sk-serial::before {content: \"\";position: absolute;border-left: 1px solid gray;box-sizing: border-box;top: 0;bottom: 0;left: 50%;z-index: 0;}#sk-container-id-2 div.sk-serial {display: flex;flex-direction: column;align-items: center;background-color: white;padding-right: 0.2em;padding-left: 0.2em;position: relative;}#sk-container-id-2 div.sk-item {position: relative;z-index: 1;}#sk-container-id-2 div.sk-parallel {display: flex;align-items: stretch;justify-content: center;background-color: white;position: relative;}#sk-container-id-2 div.sk-item::before, #sk-container-id-2 div.sk-parallel-item::before {content: \"\";position: absolute;border-left: 1px solid gray;box-sizing: border-box;top: 0;bottom: 0;left: 50%;z-index: -1;}#sk-container-id-2 div.sk-parallel-item {display: flex;flex-direction: column;z-index: 1;position: relative;background-color: white;}#sk-container-id-2 div.sk-parallel-item:first-child::after {align-self: flex-end;width: 50%;}#sk-container-id-2 div.sk-parallel-item:last-child::after {align-self: flex-start;width: 50%;}#sk-container-id-2 div.sk-parallel-item:only-child::after {width: 0;}#sk-container-id-2 div.sk-dashed-wrapped {border: 1px dashed gray;margin: 0 0.4em 0.5em 0.4em;box-sizing: border-box;padding-bottom: 0.4em;background-color: white;}#sk-container-id-2 div.sk-label label {font-family: monospace;font-weight: bold;display: inline-block;line-height: 1.2em;}#sk-container-id-2 div.sk-label-container {text-align: center;}#sk-container-id-2 div.sk-container {/* jupyter's `normalize.less` sets `[hidden] { display: none; }` but bootstrap.min.css set `[hidden] { display: none !important; }` so we also need the `!important` here to be able to override the default hidden behavior on the sphinx rendered scikit-learn.org. See: https://github.com/scikit-learn/scikit-learn/issues/21755 */display: inline-block !important;position: relative;}#sk-container-id-2 div.sk-text-repr-fallback {display: none;}</style><div id=\"sk-container-id-2\" class=\"sk-top-container\"><div class=\"sk-text-repr-fallback\"><pre>SGDClassifier(loss=&#x27;log&#x27;, max_iter=10, random_state=42)</pre><b>In a Jupyter environment, please rerun this cell to show the HTML representation or trust the notebook. <br />On GitHub, the HTML representation is unable to render, please try loading this page with nbviewer.org.</b></div><div class=\"sk-container\" hidden><div class=\"sk-item\"><div class=\"sk-estimator sk-toggleable\"><input class=\"sk-toggleable__control sk-hidden--visually\" id=\"sk-estimator-id-2\" type=\"checkbox\" checked><label for=\"sk-estimator-id-2\" class=\"sk-toggleable__label sk-toggleable__label-arrow\">SGDClassifier</label><div class=\"sk-toggleable__content\"><pre>SGDClassifier(loss=&#x27;log&#x27;, max_iter=10, random_state=42)</pre></div></div></div></div></div>"
      ],
      "text/plain": [
       "SGDClassifier(loss='log', max_iter=10, random_state=42)"
      ]
     },
     "execution_count": 15,
     "metadata": {},
     "output_type": "execute_result"
    }
   ],
   "source": [
    "sc.fit(train_scaled, train_y)"
   ]
  },
  {
   "cell_type": "code",
   "execution_count": 18,
   "id": "fdfadc91",
   "metadata": {},
   "outputs": [
    {
     "name": "stdout",
     "output_type": "stream",
     "text": [
      "훈련평가 : 0.773\n",
      "테스트평가 : 0.775\n",
      "[해석] 전체적으로 학습성능이 낮고 과소적합이 보임\n"
     ]
    }
   ],
   "source": [
    "print('훈련평가 :', np.round(sc.score(train_scaled, train_y),decimals=3))\n",
    "print('테스트평가 :', np.round(sc.score(test_scaled, test_y),decimals=3))\n",
    "print('[해석] 전체적으로 학습성능이 낮고 과소적합이 보임')"
   ]
  },
  {
   "cell_type": "markdown",
   "id": "769c5eb4",
   "metadata": {},
   "source": [
    "### 이어서 학습시키기 - 다시 학습데이터를 넣어서 재학습(10번)\n",
    "#### sc.partial_fit(train_scaled, train_y)"
   ]
  },
  {
   "cell_type": "code",
   "execution_count": 20,
   "id": "7d3d6486",
   "metadata": {},
   "outputs": [
    {
     "name": "stdout",
     "output_type": "stream",
     "text": [
      "훈련평가 : 0.748\n",
      "테스트평가 : 0.775\n",
      "[해석] 이전 학습보다 학습성능이 높아졌으나 과소적합이 보임\n"
     ]
    }
   ],
   "source": [
    "sc.partial_fit(train_scaled, train_y)\n",
    "print('훈련평가 :', np.round(sc.score(train_scaled, train_y),decimals=3))\n",
    "print('테스트평가 :', np.round(sc.score(test_scaled, test_y),decimals=3))\n",
    "print('[해석] 이전 학습보다 학습성능이 높아졌으나 과소적합이 보임')"
   ]
  },
  {
   "cell_type": "markdown",
   "id": "6701c1c0",
   "metadata": {},
   "source": [
    "### 하이퍼파라미터 튜닝하여 가장 좋은 성능을 찾기 - 반복횟수(에포크)\n",
    "### <span style = 'color:red'>반복하면서 학습하는 경우는 partial_fit으로 실행해야 함</span>"
   ]
  },
  {
   "cell_type": "code",
   "execution_count": 24,
   "id": "9693ba40",
   "metadata": {},
   "outputs": [],
   "source": [
    "# 반복적으로 학습한 성능값 저장\n",
    "train_score = []\n",
    "test_score = []\n",
    "sc = SGDClassifier(loss='log',random_state=42)"
   ]
  },
  {
   "cell_type": "code",
   "execution_count": 22,
   "id": "030ea9ec",
   "metadata": {},
   "outputs": [
    {
     "data": {
      "text/plain": [
       "array(['Bream', 'Parkki', 'Perch', 'Pike', 'Roach', 'Smelt', 'Whitefish'],\n",
       "      dtype=object)"
      ]
     },
     "execution_count": 22,
     "metadata": {},
     "output_type": "execute_result"
    }
   ],
   "source": [
    "classes = np.unique(train_y)\n",
    "classes"
   ]
  },
  {
   "cell_type": "code",
   "execution_count": 27,
   "id": "958dabe2",
   "metadata": {},
   "outputs": [],
   "source": [
    "# 반복 학습하고 학습률 저장\n",
    "# classes : 훈련에 사용할 범주(종속변수)\n",
    "# - 향후 현업에서 종속변수의 값을 수정해서 넣어서 훈련해도 됨\n",
    "for idx in range(0,300,1):\n",
    "    sc.partial_fit(train_scaled, train_y, classes=classes)\n",
    "    train_score.append(sc.score(train_scaled, train_y))\n",
    "    test_score.append(sc.score(test_scaled, test_y))"
   ]
  },
  {
   "cell_type": "code",
   "execution_count": 29,
   "id": "7aa97f8e",
   "metadata": {},
   "outputs": [
    {
     "data": {
      "text/plain": [
       "(600, 600)"
      ]
     },
     "execution_count": 29,
     "metadata": {},
     "output_type": "execute_result"
    }
   ],
   "source": [
    "len(train_score),len(test_score)"
   ]
  },
  {
   "cell_type": "code",
   "execution_count": 32,
   "id": "5baaedb6",
   "metadata": {},
   "outputs": [
    {
     "data": {
      "text/plain": [
       "[0.6218487394957983,\n",
       " 0.6386554621848739,\n",
       " 0.7310924369747899,\n",
       " 0.7226890756302521,\n",
       " 0.7310924369747899,\n",
       " 0.7647058823529411,\n",
       " 0.7310924369747899,\n",
       " 0.8151260504201681,\n",
       " 0.7478991596638656,\n",
       " 0.8319327731092437,\n",
       " 0.8151260504201681,\n",
       " 0.8571428571428571,\n",
       " 0.8571428571428571,\n",
       " 0.8403361344537815,\n",
       " 0.865546218487395,\n",
       " 0.865546218487395,\n",
       " 0.8571428571428571,\n",
       " 0.865546218487395,\n",
       " 0.8823529411764706,\n",
       " 0.865546218487395,\n",
       " 0.8823529411764706,\n",
       " 0.865546218487395,\n",
       " 0.8823529411764706,\n",
       " 0.8739495798319328,\n",
       " 0.8823529411764706,\n",
       " 0.8823529411764706,\n",
       " 0.8823529411764706,\n",
       " 0.8907563025210085,\n",
       " 0.8907563025210085,\n",
       " 0.8907563025210085,\n",
       " 0.8907563025210085,\n",
       " 0.8823529411764706,\n",
       " 0.8823529411764706,\n",
       " 0.8907563025210085,\n",
       " 0.907563025210084,\n",
       " 0.8991596638655462,\n",
       " 0.8991596638655462,\n",
       " 0.8991596638655462,\n",
       " 0.8991596638655462,\n",
       " 0.8991596638655462,\n",
       " 0.907563025210084,\n",
       " 0.907563025210084,\n",
       " 0.907563025210084,\n",
       " 0.907563025210084,\n",
       " 0.9159663865546218,\n",
       " 0.9159663865546218,\n",
       " 0.9159663865546218,\n",
       " 0.9159663865546218,\n",
       " 0.9243697478991597,\n",
       " 0.9243697478991597,\n",
       " 0.9243697478991597,\n",
       " 0.9243697478991597,\n",
       " 0.9327731092436975,\n",
       " 0.9327731092436975,\n",
       " 0.9327731092436975,\n",
       " 0.9327731092436975,\n",
       " 0.9327731092436975,\n",
       " 0.9411764705882353,\n",
       " 0.9411764705882353,\n",
       " 0.9411764705882353,\n",
       " 0.9411764705882353,\n",
       " 0.9411764705882353,\n",
       " 0.9495798319327731,\n",
       " 0.9495798319327731,\n",
       " 0.9495798319327731,\n",
       " 0.9495798319327731,\n",
       " 0.9495798319327731,\n",
       " 0.9495798319327731,\n",
       " 0.9495798319327731,\n",
       " 0.9411764705882353,\n",
       " 0.9411764705882353,\n",
       " 0.9411764705882353,\n",
       " 0.9411764705882353,\n",
       " 0.9411764705882353,\n",
       " 0.9411764705882353,\n",
       " 0.9411764705882353,\n",
       " 0.9411764705882353,\n",
       " 0.9411764705882353,\n",
       " 0.9411764705882353,\n",
       " 0.9411764705882353,\n",
       " 0.9411764705882353,\n",
       " 0.9411764705882353,\n",
       " 0.9411764705882353,\n",
       " 0.9411764705882353,\n",
       " 0.9411764705882353,\n",
       " 0.9411764705882353,\n",
       " 0.9411764705882353,\n",
       " 0.9411764705882353,\n",
       " 0.9411764705882353,\n",
       " 0.9411764705882353,\n",
       " 0.9411764705882353,\n",
       " 0.9411764705882353,\n",
       " 0.9411764705882353,\n",
       " 0.9411764705882353,\n",
       " 0.9411764705882353,\n",
       " 0.9411764705882353,\n",
       " 0.9411764705882353,\n",
       " 0.9411764705882353,\n",
       " 0.9411764705882353,\n",
       " 0.9411764705882353,\n",
       " 0.9411764705882353,\n",
       " 0.9411764705882353,\n",
       " 0.9411764705882353,\n",
       " 0.9411764705882353,\n",
       " 0.9411764705882353,\n",
       " 0.9411764705882353,\n",
       " 0.9495798319327731,\n",
       " 0.9495798319327731,\n",
       " 0.9495798319327731,\n",
       " 0.9495798319327731,\n",
       " 0.9495798319327731,\n",
       " 0.9495798319327731,\n",
       " 0.9495798319327731,\n",
       " 0.9495798319327731,\n",
       " 0.9495798319327731,\n",
       " 0.957983193277311,\n",
       " 0.957983193277311,\n",
       " 0.957983193277311,\n",
       " 0.957983193277311,\n",
       " 0.957983193277311,\n",
       " 0.957983193277311,\n",
       " 0.957983193277311,\n",
       " 0.957983193277311,\n",
       " 0.957983193277311,\n",
       " 0.957983193277311,\n",
       " 0.957983193277311,\n",
       " 0.957983193277311,\n",
       " 0.957983193277311,\n",
       " 0.957983193277311,\n",
       " 0.957983193277311,\n",
       " 0.957983193277311,\n",
       " 0.957983193277311,\n",
       " 0.957983193277311,\n",
       " 0.957983193277311,\n",
       " 0.957983193277311,\n",
       " 0.957983193277311,\n",
       " 0.957983193277311,\n",
       " 0.957983193277311,\n",
       " 0.957983193277311,\n",
       " 0.957983193277311,\n",
       " 0.957983193277311,\n",
       " 0.957983193277311,\n",
       " 0.957983193277311,\n",
       " 0.957983193277311,\n",
       " 0.957983193277311,\n",
       " 0.957983193277311,\n",
       " 0.957983193277311,\n",
       " 0.957983193277311,\n",
       " 0.957983193277311,\n",
       " 0.957983193277311,\n",
       " 0.957983193277311,\n",
       " 0.957983193277311,\n",
       " 0.957983193277311,\n",
       " 0.957983193277311,\n",
       " 0.957983193277311,\n",
       " 0.957983193277311,\n",
       " 0.957983193277311,\n",
       " 0.957983193277311,\n",
       " 0.957983193277311,\n",
       " 0.957983193277311,\n",
       " 0.957983193277311,\n",
       " 0.957983193277311,\n",
       " 0.957983193277311,\n",
       " 0.957983193277311,\n",
       " 0.957983193277311,\n",
       " 0.957983193277311,\n",
       " 0.957983193277311,\n",
       " 0.957983193277311,\n",
       " 0.957983193277311,\n",
       " 0.957983193277311,\n",
       " 0.957983193277311,\n",
       " 0.957983193277311,\n",
       " 0.957983193277311,\n",
       " 0.957983193277311,\n",
       " 0.957983193277311,\n",
       " 0.957983193277311,\n",
       " 0.957983193277311,\n",
       " 0.957983193277311,\n",
       " 0.957983193277311,\n",
       " 0.957983193277311,\n",
       " 0.957983193277311,\n",
       " 0.957983193277311,\n",
       " 0.957983193277311,\n",
       " 0.957983193277311,\n",
       " 0.957983193277311,\n",
       " 0.957983193277311,\n",
       " 0.957983193277311,\n",
       " 0.957983193277311,\n",
       " 0.957983193277311,\n",
       " 0.957983193277311,\n",
       " 0.957983193277311,\n",
       " 0.957983193277311,\n",
       " 0.957983193277311,\n",
       " 0.957983193277311,\n",
       " 0.957983193277311,\n",
       " 0.957983193277311,\n",
       " 0.957983193277311,\n",
       " 0.957983193277311,\n",
       " 0.957983193277311,\n",
       " 0.957983193277311,\n",
       " 0.957983193277311,\n",
       " 0.957983193277311,\n",
       " 0.957983193277311,\n",
       " 0.957983193277311,\n",
       " 0.957983193277311,\n",
       " 0.957983193277311,\n",
       " 0.957983193277311,\n",
       " 0.957983193277311,\n",
       " 0.957983193277311,\n",
       " 0.957983193277311,\n",
       " 0.957983193277311,\n",
       " 0.957983193277311,\n",
       " 0.957983193277311,\n",
       " 0.957983193277311,\n",
       " 0.957983193277311,\n",
       " 0.957983193277311,\n",
       " 0.957983193277311,\n",
       " 0.957983193277311,\n",
       " 0.957983193277311,\n",
       " 0.957983193277311,\n",
       " 0.957983193277311,\n",
       " 0.957983193277311,\n",
       " 0.957983193277311,\n",
       " 0.957983193277311,\n",
       " 0.957983193277311,\n",
       " 0.957983193277311,\n",
       " 0.957983193277311,\n",
       " 0.957983193277311,\n",
       " 0.957983193277311,\n",
       " 0.957983193277311,\n",
       " 0.957983193277311,\n",
       " 0.957983193277311,\n",
       " 0.957983193277311,\n",
       " 0.957983193277311,\n",
       " 0.957983193277311,\n",
       " 0.957983193277311,\n",
       " 0.957983193277311,\n",
       " 0.957983193277311,\n",
       " 0.957983193277311,\n",
       " 0.957983193277311,\n",
       " 0.957983193277311,\n",
       " 0.957983193277311,\n",
       " 0.957983193277311,\n",
       " 0.957983193277311,\n",
       " 0.957983193277311,\n",
       " 0.957983193277311,\n",
       " 0.957983193277311,\n",
       " 0.957983193277311,\n",
       " 0.957983193277311,\n",
       " 0.957983193277311,\n",
       " 0.957983193277311,\n",
       " 0.957983193277311,\n",
       " 0.957983193277311,\n",
       " 0.957983193277311,\n",
       " 0.957983193277311,\n",
       " 0.957983193277311,\n",
       " 0.957983193277311,\n",
       " 0.957983193277311,\n",
       " 0.957983193277311,\n",
       " 0.957983193277311,\n",
       " 0.957983193277311,\n",
       " 0.957983193277311,\n",
       " 0.957983193277311,\n",
       " 0.957983193277311,\n",
       " 0.957983193277311,\n",
       " 0.957983193277311,\n",
       " 0.957983193277311,\n",
       " 0.957983193277311,\n",
       " 0.957983193277311,\n",
       " 0.9663865546218487,\n",
       " 0.9663865546218487,\n",
       " 0.9663865546218487,\n",
       " 0.9663865546218487,\n",
       " 0.9663865546218487,\n",
       " 0.9663865546218487,\n",
       " 0.9663865546218487,\n",
       " 0.9663865546218487,\n",
       " 0.9663865546218487,\n",
       " 0.9663865546218487,\n",
       " 0.9663865546218487,\n",
       " 0.9663865546218487,\n",
       " 0.9663865546218487,\n",
       " 0.9663865546218487,\n",
       " 0.9663865546218487,\n",
       " 0.9663865546218487,\n",
       " 0.9663865546218487,\n",
       " 0.9663865546218487,\n",
       " 0.9663865546218487,\n",
       " 0.9663865546218487,\n",
       " 0.9663865546218487,\n",
       " 0.9663865546218487,\n",
       " 0.9663865546218487,\n",
       " 0.9663865546218487,\n",
       " 0.9663865546218487,\n",
       " 0.9663865546218487,\n",
       " 0.9663865546218487,\n",
       " 0.9663865546218487,\n",
       " 0.9663865546218487,\n",
       " 0.9663865546218487,\n",
       " 0.9663865546218487,\n",
       " 0.9663865546218487,\n",
       " 0.9663865546218487,\n",
       " 0.9663865546218487,\n",
       " 0.9663865546218487,\n",
       " 0.9663865546218487,\n",
       " 0.9663865546218487,\n",
       " 0.9663865546218487,\n",
       " 0.9663865546218487,\n",
       " 0.9663865546218487,\n",
       " 0.9663865546218487,\n",
       " 0.9663865546218487,\n",
       " 0.9663865546218487,\n",
       " 0.9663865546218487,\n",
       " 0.9663865546218487,\n",
       " 0.9663865546218487,\n",
       " 0.9663865546218487,\n",
       " 0.9663865546218487,\n",
       " 0.9663865546218487,\n",
       " 0.9663865546218487,\n",
       " 0.9663865546218487,\n",
       " 0.9663865546218487,\n",
       " 0.9663865546218487,\n",
       " 0.9663865546218487,\n",
       " 0.9663865546218487,\n",
       " 0.9663865546218487,\n",
       " 0.9663865546218487,\n",
       " 0.9663865546218487,\n",
       " 0.9663865546218487,\n",
       " 0.9663865546218487,\n",
       " 0.9663865546218487,\n",
       " 0.9663865546218487,\n",
       " 0.9663865546218487,\n",
       " 0.9663865546218487,\n",
       " 0.9663865546218487,\n",
       " 0.9663865546218487,\n",
       " 0.9663865546218487,\n",
       " 0.9663865546218487,\n",
       " 0.9663865546218487,\n",
       " 0.9663865546218487,\n",
       " 0.9663865546218487,\n",
       " 0.9663865546218487,\n",
       " 0.9663865546218487,\n",
       " 0.9663865546218487,\n",
       " 0.9663865546218487,\n",
       " 0.9663865546218487,\n",
       " 0.9663865546218487,\n",
       " 0.9663865546218487,\n",
       " 0.9663865546218487,\n",
       " 0.9663865546218487,\n",
       " 0.9663865546218487,\n",
       " 0.9663865546218487,\n",
       " 0.9663865546218487,\n",
       " 0.9663865546218487,\n",
       " 0.9663865546218487,\n",
       " 0.9663865546218487,\n",
       " 0.9663865546218487,\n",
       " 0.9663865546218487,\n",
       " 0.9663865546218487,\n",
       " 0.9663865546218487,\n",
       " 0.9663865546218487,\n",
       " 0.9663865546218487,\n",
       " 0.9663865546218487,\n",
       " 0.9663865546218487,\n",
       " 0.9663865546218487,\n",
       " 0.9663865546218487,\n",
       " 0.9663865546218487,\n",
       " 0.9663865546218487,\n",
       " 0.9663865546218487,\n",
       " 0.9663865546218487,\n",
       " 0.9663865546218487,\n",
       " 0.9663865546218487,\n",
       " 0.9663865546218487,\n",
       " 0.9663865546218487,\n",
       " 0.9663865546218487,\n",
       " 0.9663865546218487,\n",
       " 0.9663865546218487,\n",
       " 0.9663865546218487,\n",
       " 0.9663865546218487,\n",
       " 0.9663865546218487,\n",
       " 0.9663865546218487,\n",
       " 0.9663865546218487,\n",
       " 0.9663865546218487,\n",
       " 0.9663865546218487,\n",
       " 0.9663865546218487,\n",
       " 0.9663865546218487,\n",
       " 0.9663865546218487,\n",
       " 0.9663865546218487,\n",
       " 0.9663865546218487,\n",
       " 0.9663865546218487,\n",
       " 0.9663865546218487,\n",
       " 0.9663865546218487,\n",
       " 0.9663865546218487,\n",
       " 0.9663865546218487,\n",
       " 0.9663865546218487,\n",
       " 0.9663865546218487,\n",
       " 0.9663865546218487,\n",
       " 0.9663865546218487,\n",
       " 0.9663865546218487,\n",
       " 0.9663865546218487,\n",
       " 0.9663865546218487,\n",
       " 0.9663865546218487,\n",
       " 0.9663865546218487,\n",
       " 0.9663865546218487,\n",
       " 0.9663865546218487,\n",
       " 0.9663865546218487,\n",
       " 0.9663865546218487,\n",
       " 0.9663865546218487,\n",
       " 0.9663865546218487,\n",
       " 0.9663865546218487,\n",
       " 0.9663865546218487,\n",
       " 0.9663865546218487,\n",
       " 0.9663865546218487,\n",
       " 0.9663865546218487,\n",
       " 0.9663865546218487,\n",
       " 0.9663865546218487,\n",
       " 0.9663865546218487,\n",
       " 0.9663865546218487,\n",
       " 0.9663865546218487,\n",
       " 0.9663865546218487,\n",
       " 0.9663865546218487,\n",
       " 0.9663865546218487,\n",
       " 0.9663865546218487,\n",
       " 0.9663865546218487,\n",
       " 0.9663865546218487,\n",
       " 0.9663865546218487,\n",
       " 0.9663865546218487,\n",
       " 0.9663865546218487,\n",
       " 0.9663865546218487,\n",
       " 0.9663865546218487,\n",
       " 0.9663865546218487,\n",
       " 0.9663865546218487,\n",
       " 0.9663865546218487,\n",
       " 0.9663865546218487,\n",
       " 0.9663865546218487,\n",
       " 0.9663865546218487,\n",
       " 0.9663865546218487,\n",
       " 0.9663865546218487,\n",
       " 0.9663865546218487,\n",
       " 0.9663865546218487,\n",
       " 0.9663865546218487,\n",
       " 0.9663865546218487,\n",
       " 0.9663865546218487,\n",
       " 0.9663865546218487,\n",
       " 0.9663865546218487,\n",
       " 0.9663865546218487,\n",
       " 0.9663865546218487,\n",
       " 0.9663865546218487,\n",
       " 0.9663865546218487,\n",
       " 0.9663865546218487,\n",
       " 0.9663865546218487,\n",
       " 0.9663865546218487,\n",
       " 0.9663865546218487,\n",
       " 0.9663865546218487,\n",
       " 0.9663865546218487,\n",
       " 0.9663865546218487,\n",
       " 0.9663865546218487,\n",
       " 0.9663865546218487,\n",
       " 0.9663865546218487,\n",
       " 0.9663865546218487,\n",
       " 0.9663865546218487,\n",
       " 0.9663865546218487,\n",
       " 0.9663865546218487,\n",
       " 0.9663865546218487,\n",
       " 0.9663865546218487,\n",
       " 0.9663865546218487,\n",
       " 0.9663865546218487,\n",
       " 0.9663865546218487,\n",
       " 0.9663865546218487,\n",
       " 0.9663865546218487,\n",
       " 0.9663865546218487,\n",
       " 0.9663865546218487,\n",
       " 0.9663865546218487,\n",
       " 0.9663865546218487,\n",
       " 0.9663865546218487,\n",
       " 0.9663865546218487,\n",
       " 0.9663865546218487,\n",
       " 0.9663865546218487,\n",
       " 0.9663865546218487,\n",
       " 0.9663865546218487,\n",
       " 0.9663865546218487,\n",
       " 0.9663865546218487,\n",
       " 0.9663865546218487,\n",
       " 0.9663865546218487,\n",
       " 0.9663865546218487,\n",
       " 0.9663865546218487,\n",
       " 0.9663865546218487,\n",
       " 0.9663865546218487,\n",
       " 0.9663865546218487,\n",
       " 0.9663865546218487,\n",
       " 0.9663865546218487,\n",
       " 0.9663865546218487,\n",
       " 0.9663865546218487,\n",
       " 0.9663865546218487,\n",
       " 0.9663865546218487,\n",
       " 0.9663865546218487,\n",
       " 0.9663865546218487,\n",
       " 0.9663865546218487,\n",
       " 0.9663865546218487,\n",
       " 0.9663865546218487,\n",
       " 0.9663865546218487,\n",
       " 0.9663865546218487,\n",
       " 0.9663865546218487,\n",
       " 0.9663865546218487,\n",
       " 0.9663865546218487,\n",
       " 0.9663865546218487,\n",
       " 0.9663865546218487,\n",
       " 0.9663865546218487,\n",
       " 0.9663865546218487,\n",
       " 0.9663865546218487,\n",
       " 0.9663865546218487,\n",
       " 0.9663865546218487,\n",
       " 0.9663865546218487,\n",
       " 0.9663865546218487,\n",
       " 0.9663865546218487,\n",
       " 0.9663865546218487,\n",
       " 0.9663865546218487,\n",
       " 0.9663865546218487,\n",
       " 0.9663865546218487,\n",
       " 0.9663865546218487,\n",
       " 0.9663865546218487,\n",
       " 0.9663865546218487,\n",
       " 0.9663865546218487,\n",
       " 0.9663865546218487,\n",
       " 0.9663865546218487,\n",
       " 0.9663865546218487,\n",
       " 0.9663865546218487,\n",
       " 0.9663865546218487,\n",
       " 0.9663865546218487,\n",
       " 0.9663865546218487,\n",
       " 0.9663865546218487,\n",
       " 0.9663865546218487,\n",
       " 0.9663865546218487,\n",
       " 0.9663865546218487,\n",
       " 0.9663865546218487,\n",
       " 0.9663865546218487,\n",
       " 0.9663865546218487,\n",
       " 0.9663865546218487,\n",
       " 0.9663865546218487,\n",
       " 0.9663865546218487,\n",
       " 0.9663865546218487,\n",
       " 0.9663865546218487,\n",
       " 0.9663865546218487,\n",
       " 0.9663865546218487,\n",
       " 0.9663865546218487,\n",
       " 0.9663865546218487,\n",
       " 0.9663865546218487,\n",
       " 0.9663865546218487,\n",
       " 0.9663865546218487,\n",
       " 0.9663865546218487,\n",
       " 0.9663865546218487,\n",
       " 0.9663865546218487,\n",
       " 0.9663865546218487,\n",
       " 0.9663865546218487,\n",
       " 0.9663865546218487,\n",
       " 0.9663865546218487,\n",
       " 0.9663865546218487,\n",
       " 0.9663865546218487,\n",
       " 0.9663865546218487,\n",
       " 0.9663865546218487,\n",
       " 0.9663865546218487,\n",
       " 0.9663865546218487,\n",
       " 0.9663865546218487,\n",
       " 0.9663865546218487,\n",
       " 0.9663865546218487,\n",
       " 0.9663865546218487,\n",
       " 0.9663865546218487,\n",
       " 0.9663865546218487,\n",
       " 0.9663865546218487,\n",
       " 0.9663865546218487,\n",
       " 0.9663865546218487,\n",
       " 0.9663865546218487,\n",
       " 0.9663865546218487,\n",
       " 0.9663865546218487,\n",
       " 0.9663865546218487,\n",
       " 0.9663865546218487,\n",
       " 0.9663865546218487,\n",
       " 0.9663865546218487,\n",
       " 0.9663865546218487,\n",
       " 0.9663865546218487,\n",
       " 0.9663865546218487,\n",
       " 0.9663865546218487,\n",
       " 0.9663865546218487,\n",
       " 0.9663865546218487,\n",
       " 0.9663865546218487,\n",
       " 0.9663865546218487,\n",
       " 0.9663865546218487,\n",
       " 0.9663865546218487,\n",
       " 0.9663865546218487,\n",
       " 0.9663865546218487,\n",
       " 0.9663865546218487,\n",
       " 0.9663865546218487,\n",
       " 0.9663865546218487,\n",
       " 0.9663865546218487,\n",
       " 0.9663865546218487,\n",
       " 0.9663865546218487,\n",
       " 0.9663865546218487,\n",
       " 0.9663865546218487,\n",
       " 0.9663865546218487,\n",
       " 0.9663865546218487,\n",
       " 0.9663865546218487]"
      ]
     },
     "execution_count": 32,
     "metadata": {},
     "output_type": "execute_result"
    }
   ],
   "source": [
    "# 횟수가 올라갈수록 정확도가 올라감\n",
    "train_score"
   ]
  },
  {
   "cell_type": "markdown",
   "id": "67823a90",
   "metadata": {},
   "source": [
    "### 반복학습에 따른 훈련정확도 비교"
   ]
  },
  {
   "cell_type": "code",
   "execution_count": 31,
   "id": "2e1fb6aa",
   "metadata": {},
   "outputs": [],
   "source": [
    "import matplotlib.pyplot as plt"
   ]
  },
  {
   "cell_type": "code",
   "execution_count": 33,
   "id": "cec38f8f",
   "metadata": {},
   "outputs": [
    {
     "data": {
      "image/png": "[encoded data removed]",
      "text/plain": [
       "<Figure size 640x480 with 1 Axes>"
      ]
     },
     "metadata": {},
     "output_type": "display_data"
    }
   ],
   "source": [
    "plt.plot(train_score, label = 'train_score')\n",
    "plt.plot(test_score, label = 'test_score')\n",
    "plt.legend()\n",
    "plt.show()"
   ]
  },
  {
   "cell_type": "markdown",
   "id": "cf80bc4b",
   "metadata": {},
   "source": [
    "### [ 그래프 해석 ]\n",
    "#### - 훈련 및 테스트 두 선분이 가장 가까운 지점중에\n",
    "#### - 과대 또는 과소가 일어나는 지점이 바로 전부분을 확인(단, 가장 가까운...)\n",
    "#### -적합한 지점을 사람이 선택\n",
    "#### -max_iter값에 선택값을 넣어서 다시 학습"
   ]
  },
  {
   "cell_type": "markdown",
   "id": "b75ec1d0",
   "metadata": {},
   "source": [
    "### 100 반복횟수로 재 학습"
   ]
  },
  {
   "cell_type": "code",
   "execution_count": 37,
   "id": "c7db541f",
   "metadata": {},
   "outputs": [
    {
     "data": {
      "text/html": [
       "<style>#sk-container-id-4 {color: black;background-color: white;}#sk-container-id-4 pre{padding: 0;}#sk-container-id-4 div.sk-toggleable {background-color: white;}#sk-container-id-4 label.sk-toggleable__label {cursor: pointer;display: block;width: 100%;margin-bottom: 0;padding: 0.3em;box-sizing: border-box;text-align: center;}#sk-container-id-4 label.sk-toggleable__label-arrow:before {content: \"▸\";float: left;margin-right: 0.25em;color: #696969;}#sk-container-id-4 label.sk-toggleable__label-arrow:hover:before {color: black;}#sk-container-id-4 div.sk-estimator:hover label.sk-toggleable__label-arrow:before {color: black;}#sk-container-id-4 div.sk-toggleable__content {max-height: 0;max-width: 0;overflow: hidden;text-align: left;background-color: #f0f8ff;}#sk-container-id-4 div.sk-toggleable__content pre {margin: 0.2em;color: black;border-radius: 0.25em;background-color: #f0f8ff;}#sk-container-id-4 input.sk-toggleable__control:checked~div.sk-toggleable__content {max-height: 200px;max-width: 100%;overflow: auto;}#sk-container-id-4 input.sk-toggleable__control:checked~label.sk-toggleable__label-arrow:before {content: \"▾\";}#sk-container-id-4 div.sk-estimator input.sk-toggleable__control:checked~label.sk-toggleable__label {background-color: #d4ebff;}#sk-container-id-4 div.sk-label input.sk-toggleable__control:checked~label.sk-toggleable__label {background-color: #d4ebff;}#sk-container-id-4 input.sk-hidden--visually {border: 0;clip: rect(1px 1px 1px 1px);clip: rect(1px, 1px, 1px, 1px);height: 1px;margin: -1px;overflow: hidden;padding: 0;position: absolute;width: 1px;}#sk-container-id-4 div.sk-estimator {font-family: monospace;background-color: #f0f8ff;border: 1px dotted black;border-radius: 0.25em;box-sizing: border-box;margin-bottom: 0.5em;}#sk-container-id-4 div.sk-estimator:hover {background-color: #d4ebff;}#sk-container-id-4 div.sk-parallel-item::after {content: \"\";width: 100%;border-bottom: 1px solid gray;flex-grow: 1;}#sk-container-id-4 div.sk-label:hover label.sk-toggleable__label {background-color: #d4ebff;}#sk-container-id-4 div.sk-serial::before {content: \"\";position: absolute;border-left: 1px solid gray;box-sizing: border-box;top: 0;bottom: 0;left: 50%;z-index: 0;}#sk-container-id-4 div.sk-serial {display: flex;flex-direction: column;align-items: center;background-color: white;padding-right: 0.2em;padding-left: 0.2em;position: relative;}#sk-container-id-4 div.sk-item {position: relative;z-index: 1;}#sk-container-id-4 div.sk-parallel {display: flex;align-items: stretch;justify-content: center;background-color: white;position: relative;}#sk-container-id-4 div.sk-item::before, #sk-container-id-4 div.sk-parallel-item::before {content: \"\";position: absolute;border-left: 1px solid gray;box-sizing: border-box;top: 0;bottom: 0;left: 50%;z-index: -1;}#sk-container-id-4 div.sk-parallel-item {display: flex;flex-direction: column;z-index: 1;position: relative;background-color: white;}#sk-container-id-4 div.sk-parallel-item:first-child::after {align-self: flex-end;width: 50%;}#sk-container-id-4 div.sk-parallel-item:last-child::after {align-self: flex-start;width: 50%;}#sk-container-id-4 div.sk-parallel-item:only-child::after {width: 0;}#sk-container-id-4 div.sk-dashed-wrapped {border: 1px dashed gray;margin: 0 0.4em 0.5em 0.4em;box-sizing: border-box;padding-bottom: 0.4em;background-color: white;}#sk-container-id-4 div.sk-label label {font-family: monospace;font-weight: bold;display: inline-block;line-height: 1.2em;}#sk-container-id-4 div.sk-label-container {text-align: center;}#sk-container-id-4 div.sk-container {/* jupyter's `normalize.less` sets `[hidden] { display: none; }` but bootstrap.min.css set `[hidden] { display: none !important; }` so we also need the `!important` here to be able to override the default hidden behavior on the sphinx rendered scikit-learn.org. See: https://github.com/scikit-learn/scikit-learn/issues/21755 */display: inline-block !important;position: relative;}#sk-container-id-4 div.sk-text-repr-fallback {display: none;}</style><div id=\"sk-container-id-4\" class=\"sk-top-container\"><div class=\"sk-text-repr-fallback\"><pre>SGDClassifier(loss=&#x27;log&#x27;, max_iter=100, random_state=42, tol=None)</pre><b>In a Jupyter environment, please rerun this cell to show the HTML representation or trust the notebook. <br />On GitHub, the HTML representation is unable to render, please try loading this page with nbviewer.org.</b></div><div class=\"sk-container\" hidden><div class=\"sk-item\"><div class=\"sk-estimator sk-toggleable\"><input class=\"sk-toggleable__control sk-hidden--visually\" id=\"sk-estimator-id-4\" type=\"checkbox\" checked><label for=\"sk-estimator-id-4\" class=\"sk-toggleable__label sk-toggleable__label-arrow\">SGDClassifier</label><div class=\"sk-toggleable__content\"><pre>SGDClassifier(loss=&#x27;log&#x27;, max_iter=100, random_state=42, tol=None)</pre></div></div></div></div></div>"
      ],
      "text/plain": [
       "SGDClassifier(loss='log', max_iter=100, random_state=42, tol=None)"
      ]
     },
     "execution_count": 37,
     "metadata": {},
     "output_type": "execute_result"
    }
   ],
   "source": [
    "# tol = None : 훈련이 끝나더라도 종료하지 말고 max_iter횟수만큼 무조건 진행\n",
    "sc = SGDClassifier(loss='log',random_state=42, max_iter=100, tol=None)\n",
    "sc\n",
    "# sc.partial_fit(train_scaled, train_y, classes=classes)"
   ]
  },
  {
   "cell_type": "code",
   "execution_count": 38,
   "id": "fd383caa",
   "metadata": {},
   "outputs": [
    {
     "name": "stderr",
     "output_type": "stream",
     "text": [
      "C:\\anaconda3\\envs\\sj_prj\\lib\\site-packages\\sklearn\\linear_model\\_stochastic_gradient.py:163: FutureWarning: The loss 'log' was deprecated in v1.1 and will be removed in version 1.3. Use `loss='log_loss'` which is equivalent.\n",
      "  warnings.warn(\n"
     ]
    },
    {
     "data": {
      "text/html": [
       "<style>#sk-container-id-5 {color: black;background-color: white;}#sk-container-id-5 pre{padding: 0;}#sk-container-id-5 div.sk-toggleable {background-color: white;}#sk-container-id-5 label.sk-toggleable__label {cursor: pointer;display: block;width: 100%;margin-bottom: 0;padding: 0.3em;box-sizing: border-box;text-align: center;}#sk-container-id-5 label.sk-toggleable__label-arrow:before {content: \"▸\";float: left;margin-right: 0.25em;color: #696969;}#sk-container-id-5 label.sk-toggleable__label-arrow:hover:before {color: black;}#sk-container-id-5 div.sk-estimator:hover label.sk-toggleable__label-arrow:before {color: black;}#sk-container-id-5 div.sk-toggleable__content {max-height: 0;max-width: 0;overflow: hidden;text-align: left;background-color: #f0f8ff;}#sk-container-id-5 div.sk-toggleable__content pre {margin: 0.2em;color: black;border-radius: 0.25em;background-color: #f0f8ff;}#sk-container-id-5 input.sk-toggleable__control:checked~div.sk-toggleable__content {max-height: 200px;max-width: 100%;overflow: auto;}#sk-container-id-5 input.sk-toggleable__control:checked~label.sk-toggleable__label-arrow:before {content: \"▾\";}#sk-container-id-5 div.sk-estimator input.sk-toggleable__control:checked~label.sk-toggleable__label {background-color: #d4ebff;}#sk-container-id-5 div.sk-label input.sk-toggleable__control:checked~label.sk-toggleable__label {background-color: #d4ebff;}#sk-container-id-5 input.sk-hidden--visually {border: 0;clip: rect(1px 1px 1px 1px);clip: rect(1px, 1px, 1px, 1px);height: 1px;margin: -1px;overflow: hidden;padding: 0;position: absolute;width: 1px;}#sk-container-id-5 div.sk-estimator {font-family: monospace;background-color: #f0f8ff;border: 1px dotted black;border-radius: 0.25em;box-sizing: border-box;margin-bottom: 0.5em;}#sk-container-id-5 div.sk-estimator:hover {background-color: #d4ebff;}#sk-container-id-5 div.sk-parallel-item::after {content: \"\";width: 100%;border-bottom: 1px solid gray;flex-grow: 1;}#sk-container-id-5 div.sk-label:hover label.sk-toggleable__label {background-color: #d4ebff;}#sk-container-id-5 div.sk-serial::before {content: \"\";position: absolute;border-left: 1px solid gray;box-sizing: border-box;top: 0;bottom: 0;left: 50%;z-index: 0;}#sk-container-id-5 div.sk-serial {display: flex;flex-direction: column;align-items: center;background-color: white;padding-right: 0.2em;padding-left: 0.2em;position: relative;}#sk-container-id-5 div.sk-item {position: relative;z-index: 1;}#sk-container-id-5 div.sk-parallel {display: flex;align-items: stretch;justify-content: center;background-color: white;position: relative;}#sk-container-id-5 div.sk-item::before, #sk-container-id-5 div.sk-parallel-item::before {content: \"\";position: absolute;border-left: 1px solid gray;box-sizing: border-box;top: 0;bottom: 0;left: 50%;z-index: -1;}#sk-container-id-5 div.sk-parallel-item {display: flex;flex-direction: column;z-index: 1;position: relative;background-color: white;}#sk-container-id-5 div.sk-parallel-item:first-child::after {align-self: flex-end;width: 50%;}#sk-container-id-5 div.sk-parallel-item:last-child::after {align-self: flex-start;width: 50%;}#sk-container-id-5 div.sk-parallel-item:only-child::after {width: 0;}#sk-container-id-5 div.sk-dashed-wrapped {border: 1px dashed gray;margin: 0 0.4em 0.5em 0.4em;box-sizing: border-box;padding-bottom: 0.4em;background-color: white;}#sk-container-id-5 div.sk-label label {font-family: monospace;font-weight: bold;display: inline-block;line-height: 1.2em;}#sk-container-id-5 div.sk-label-container {text-align: center;}#sk-container-id-5 div.sk-container {/* jupyter's `normalize.less` sets `[hidden] { display: none; }` but bootstrap.min.css set `[hidden] { display: none !important; }` so we also need the `!important` here to be able to override the default hidden behavior on the sphinx rendered scikit-learn.org. See: https://github.com/scikit-learn/scikit-learn/issues/21755 */display: inline-block !important;position: relative;}#sk-container-id-5 div.sk-text-repr-fallback {display: none;}</style><div id=\"sk-container-id-5\" class=\"sk-top-container\"><div class=\"sk-text-repr-fallback\"><pre>SGDClassifier(loss=&#x27;log&#x27;, max_iter=100, random_state=42, tol=None)</pre><b>In a Jupyter environment, please rerun this cell to show the HTML representation or trust the notebook. <br />On GitHub, the HTML representation is unable to render, please try loading this page with nbviewer.org.</b></div><div class=\"sk-container\" hidden><div class=\"sk-item\"><div class=\"sk-estimator sk-toggleable\"><input class=\"sk-toggleable__control sk-hidden--visually\" id=\"sk-estimator-id-5\" type=\"checkbox\" checked><label for=\"sk-estimator-id-5\" class=\"sk-toggleable__label sk-toggleable__label-arrow\">SGDClassifier</label><div class=\"sk-toggleable__content\"><pre>SGDClassifier(loss=&#x27;log&#x27;, max_iter=100, random_state=42, tol=None)</pre></div></div></div></div></div>"
      ],
      "text/plain": [
       "SGDClassifier(loss='log', max_iter=100, random_state=42, tol=None)"
      ]
     },
     "execution_count": 38,
     "metadata": {},
     "output_type": "execute_result"
    }
   ],
   "source": [
    "sc.fit(train_scaled, train_y)"
   ]
  },
  {
   "cell_type": "code",
   "execution_count": 40,
   "id": "07847146",
   "metadata": {},
   "outputs": [
    {
     "name": "stdout",
     "output_type": "stream",
     "text": [
      "훈련평가 : 0.958\n",
      "테스트평가 : 0.925\n",
      "[해석] 훈련정확도가 우수하고 과적합더 거의 보이지 않음\n"
     ]
    }
   ],
   "source": [
    "print('훈련평가 :', np.round(sc.score(train_scaled, train_y),decimals=3))\n",
    "print('테스트평가 :', np.round(sc.score(test_scaled, test_y),decimals=3))\n",
    "print('[해석] 훈련정확도가 우수하고 과적합더 거의 보이지 않음')"
   ]
  },
  {
   "cell_type": "markdown",
   "id": "2919db85",
   "metadata": {},
   "source": [
    "### 전체 데이터 예측"
   ]
  },
  {
   "cell_type": "code",
   "execution_count": 55,
   "id": "36c09d4d",
   "metadata": {},
   "outputs": [
    {
     "data": {
      "text/plain": [
       "((159, 5), (159,))"
      ]
     },
     "execution_count": 55,
     "metadata": {},
     "output_type": "execute_result"
    }
   ],
   "source": [
    "fish_input.shape, fish_target.shape"
   ]
  },
  {
   "cell_type": "code",
   "execution_count": 61,
   "id": "136ff4d6",
   "metadata": {},
   "outputs": [
    {
     "data": {
      "text/plain": [
       "(159, 5)"
      ]
     },
     "execution_count": 61,
     "metadata": {},
     "output_type": "execute_result"
    }
   ],
   "source": [
    "from sklearn.preprocessing import StandardScaler\n",
    "std = StandardScaler()\n",
    "std.fit(fish_input)\n",
    "scaled_fish = std.transform(fish_input)\n",
    "scaled_fish.shape"
   ]
  },
  {
   "cell_type": "code",
   "execution_count": 63,
   "id": "ca0bf2b6",
   "metadata": {},
   "outputs": [
    {
     "data": {
      "text/html": [
       "<style>#sk-container-id-13 {color: black;background-color: white;}#sk-container-id-13 pre{padding: 0;}#sk-container-id-13 div.sk-toggleable {background-color: white;}#sk-container-id-13 label.sk-toggleable__label {cursor: pointer;display: block;width: 100%;margin-bottom: 0;padding: 0.3em;box-sizing: border-box;text-align: center;}#sk-container-id-13 label.sk-toggleable__label-arrow:before {content: \"▸\";float: left;margin-right: 0.25em;color: #696969;}#sk-container-id-13 label.sk-toggleable__label-arrow:hover:before {color: black;}#sk-container-id-13 div.sk-estimator:hover label.sk-toggleable__label-arrow:before {color: black;}#sk-container-id-13 div.sk-toggleable__content {max-height: 0;max-width: 0;overflow: hidden;text-align: left;background-color: #f0f8ff;}#sk-container-id-13 div.sk-toggleable__content pre {margin: 0.2em;color: black;border-radius: 0.25em;background-color: #f0f8ff;}#sk-container-id-13 input.sk-toggleable__control:checked~div.sk-toggleable__content {max-height: 200px;max-width: 100%;overflow: auto;}#sk-container-id-13 input.sk-toggleable__control:checked~label.sk-toggleable__label-arrow:before {content: \"▾\";}#sk-container-id-13 div.sk-estimator input.sk-toggleable__control:checked~label.sk-toggleable__label {background-color: #d4ebff;}#sk-container-id-13 div.sk-label input.sk-toggleable__control:checked~label.sk-toggleable__label {background-color: #d4ebff;}#sk-container-id-13 input.sk-hidden--visually {border: 0;clip: rect(1px 1px 1px 1px);clip: rect(1px, 1px, 1px, 1px);height: 1px;margin: -1px;overflow: hidden;padding: 0;position: absolute;width: 1px;}#sk-container-id-13 div.sk-estimator {font-family: monospace;background-color: #f0f8ff;border: 1px dotted black;border-radius: 0.25em;box-sizing: border-box;margin-bottom: 0.5em;}#sk-container-id-13 div.sk-estimator:hover {background-color: #d4ebff;}#sk-container-id-13 div.sk-parallel-item::after {content: \"\";width: 100%;border-bottom: 1px solid gray;flex-grow: 1;}#sk-container-id-13 div.sk-label:hover label.sk-toggleable__label {background-color: #d4ebff;}#sk-container-id-13 div.sk-serial::before {content: \"\";position: absolute;border-left: 1px solid gray;box-sizing: border-box;top: 0;bottom: 0;left: 50%;z-index: 0;}#sk-container-id-13 div.sk-serial {display: flex;flex-direction: column;align-items: center;background-color: white;padding-right: 0.2em;padding-left: 0.2em;position: relative;}#sk-container-id-13 div.sk-item {position: relative;z-index: 1;}#sk-container-id-13 div.sk-parallel {display: flex;align-items: stretch;justify-content: center;background-color: white;position: relative;}#sk-container-id-13 div.sk-item::before, #sk-container-id-13 div.sk-parallel-item::before {content: \"\";position: absolute;border-left: 1px solid gray;box-sizing: border-box;top: 0;bottom: 0;left: 50%;z-index: -1;}#sk-container-id-13 div.sk-parallel-item {display: flex;flex-direction: column;z-index: 1;position: relative;background-color: white;}#sk-container-id-13 div.sk-parallel-item:first-child::after {align-self: flex-end;width: 50%;}#sk-container-id-13 div.sk-parallel-item:last-child::after {align-self: flex-start;width: 50%;}#sk-container-id-13 div.sk-parallel-item:only-child::after {width: 0;}#sk-container-id-13 div.sk-dashed-wrapped {border: 1px dashed gray;margin: 0 0.4em 0.5em 0.4em;box-sizing: border-box;padding-bottom: 0.4em;background-color: white;}#sk-container-id-13 div.sk-label label {font-family: monospace;font-weight: bold;display: inline-block;line-height: 1.2em;}#sk-container-id-13 div.sk-label-container {text-align: center;}#sk-container-id-13 div.sk-container {/* jupyter's `normalize.less` sets `[hidden] { display: none; }` but bootstrap.min.css set `[hidden] { display: none !important; }` so we also need the `!important` here to be able to override the default hidden behavior on the sphinx rendered scikit-learn.org. See: https://github.com/scikit-learn/scikit-learn/issues/21755 */display: inline-block !important;position: relative;}#sk-container-id-13 div.sk-text-repr-fallback {display: none;}</style><div id=\"sk-container-id-13\" class=\"sk-top-container\"><div class=\"sk-text-repr-fallback\"><pre>SGDClassifier(loss=&#x27;log&#x27;, max_iter=100, random_state=42, tol=None)</pre><b>In a Jupyter environment, please rerun this cell to show the HTML representation or trust the notebook. <br />On GitHub, the HTML representation is unable to render, please try loading this page with nbviewer.org.</b></div><div class=\"sk-container\" hidden><div class=\"sk-item\"><div class=\"sk-estimator sk-toggleable\"><input class=\"sk-toggleable__control sk-hidden--visually\" id=\"sk-estimator-id-13\" type=\"checkbox\" checked><label for=\"sk-estimator-id-13\" class=\"sk-toggleable__label sk-toggleable__label-arrow\">SGDClassifier</label><div class=\"sk-toggleable__content\"><pre>SGDClassifier(loss=&#x27;log&#x27;, max_iter=100, random_state=42, tol=None)</pre></div></div></div></div></div>"
      ],
      "text/plain": [
       "SGDClassifier(loss='log', max_iter=100, random_state=42, tol=None)"
      ]
     },
     "execution_count": 63,
     "metadata": {},
     "output_type": "execute_result"
    }
   ],
   "source": [
    "sc = SGDClassifier(loss='log',random_state=42, max_iter=100, tol=None)\n",
    "sc"
   ]
  },
  {
   "cell_type": "code",
   "execution_count": 64,
   "id": "56e5a4e1",
   "metadata": {},
   "outputs": [
    {
     "name": "stderr",
     "output_type": "stream",
     "text": [
      "C:\\anaconda3\\envs\\sj_prj\\lib\\site-packages\\sklearn\\linear_model\\_stochastic_gradient.py:163: FutureWarning: The loss 'log' was deprecated in v1.1 and will be removed in version 1.3. Use `loss='log_loss'` which is equivalent.\n",
      "  warnings.warn(\n"
     ]
    },
    {
     "data": {
      "text/html": [
       "<style>#sk-container-id-14 {color: black;background-color: white;}#sk-container-id-14 pre{padding: 0;}#sk-container-id-14 div.sk-toggleable {background-color: white;}#sk-container-id-14 label.sk-toggleable__label {cursor: pointer;display: block;width: 100%;margin-bottom: 0;padding: 0.3em;box-sizing: border-box;text-align: center;}#sk-container-id-14 label.sk-toggleable__label-arrow:before {content: \"▸\";float: left;margin-right: 0.25em;color: #696969;}#sk-container-id-14 label.sk-toggleable__label-arrow:hover:before {color: black;}#sk-container-id-14 div.sk-estimator:hover label.sk-toggleable__label-arrow:before {color: black;}#sk-container-id-14 div.sk-toggleable__content {max-height: 0;max-width: 0;overflow: hidden;text-align: left;background-color: #f0f8ff;}#sk-container-id-14 div.sk-toggleable__content pre {margin: 0.2em;color: black;border-radius: 0.25em;background-color: #f0f8ff;}#sk-container-id-14 input.sk-toggleable__control:checked~div.sk-toggleable__content {max-height: 200px;max-width: 100%;overflow: auto;}#sk-container-id-14 input.sk-toggleable__control:checked~label.sk-toggleable__label-arrow:before {content: \"▾\";}#sk-container-id-14 div.sk-estimator input.sk-toggleable__control:checked~label.sk-toggleable__label {background-color: #d4ebff;}#sk-container-id-14 div.sk-label input.sk-toggleable__control:checked~label.sk-toggleable__label {background-color: #d4ebff;}#sk-container-id-14 input.sk-hidden--visually {border: 0;clip: rect(1px 1px 1px 1px);clip: rect(1px, 1px, 1px, 1px);height: 1px;margin: -1px;overflow: hidden;padding: 0;position: absolute;width: 1px;}#sk-container-id-14 div.sk-estimator {font-family: monospace;background-color: #f0f8ff;border: 1px dotted black;border-radius: 0.25em;box-sizing: border-box;margin-bottom: 0.5em;}#sk-container-id-14 div.sk-estimator:hover {background-color: #d4ebff;}#sk-container-id-14 div.sk-parallel-item::after {content: \"\";width: 100%;border-bottom: 1px solid gray;flex-grow: 1;}#sk-container-id-14 div.sk-label:hover label.sk-toggleable__label {background-color: #d4ebff;}#sk-container-id-14 div.sk-serial::before {content: \"\";position: absolute;border-left: 1px solid gray;box-sizing: border-box;top: 0;bottom: 0;left: 50%;z-index: 0;}#sk-container-id-14 div.sk-serial {display: flex;flex-direction: column;align-items: center;background-color: white;padding-right: 0.2em;padding-left: 0.2em;position: relative;}#sk-container-id-14 div.sk-item {position: relative;z-index: 1;}#sk-container-id-14 div.sk-parallel {display: flex;align-items: stretch;justify-content: center;background-color: white;position: relative;}#sk-container-id-14 div.sk-item::before, #sk-container-id-14 div.sk-parallel-item::before {content: \"\";position: absolute;border-left: 1px solid gray;box-sizing: border-box;top: 0;bottom: 0;left: 50%;z-index: -1;}#sk-container-id-14 div.sk-parallel-item {display: flex;flex-direction: column;z-index: 1;position: relative;background-color: white;}#sk-container-id-14 div.sk-parallel-item:first-child::after {align-self: flex-end;width: 50%;}#sk-container-id-14 div.sk-parallel-item:last-child::after {align-self: flex-start;width: 50%;}#sk-container-id-14 div.sk-parallel-item:only-child::after {width: 0;}#sk-container-id-14 div.sk-dashed-wrapped {border: 1px dashed gray;margin: 0 0.4em 0.5em 0.4em;box-sizing: border-box;padding-bottom: 0.4em;background-color: white;}#sk-container-id-14 div.sk-label label {font-family: monospace;font-weight: bold;display: inline-block;line-height: 1.2em;}#sk-container-id-14 div.sk-label-container {text-align: center;}#sk-container-id-14 div.sk-container {/* jupyter's `normalize.less` sets `[hidden] { display: none; }` but bootstrap.min.css set `[hidden] { display: none !important; }` so we also need the `!important` here to be able to override the default hidden behavior on the sphinx rendered scikit-learn.org. See: https://github.com/scikit-learn/scikit-learn/issues/21755 */display: inline-block !important;position: relative;}#sk-container-id-14 div.sk-text-repr-fallback {display: none;}</style><div id=\"sk-container-id-14\" class=\"sk-top-container\"><div class=\"sk-text-repr-fallback\"><pre>SGDClassifier(loss=&#x27;log&#x27;, max_iter=100, random_state=42, tol=None)</pre><b>In a Jupyter environment, please rerun this cell to show the HTML representation or trust the notebook. <br />On GitHub, the HTML representation is unable to render, please try loading this page with nbviewer.org.</b></div><div class=\"sk-container\" hidden><div class=\"sk-item\"><div class=\"sk-estimator sk-toggleable\"><input class=\"sk-toggleable__control sk-hidden--visually\" id=\"sk-estimator-id-14\" type=\"checkbox\" checked><label for=\"sk-estimator-id-14\" class=\"sk-toggleable__label sk-toggleable__label-arrow\">SGDClassifier</label><div class=\"sk-toggleable__content\"><pre>SGDClassifier(loss=&#x27;log&#x27;, max_iter=100, random_state=42, tol=None)</pre></div></div></div></div></div>"
      ],
      "text/plain": [
       "SGDClassifier(loss='log', max_iter=100, random_state=42, tol=None)"
      ]
     },
     "execution_count": 64,
     "metadata": {},
     "output_type": "execute_result"
    }
   ],
   "source": [
    "sc.fit(scaled_fish,fish_target)"
   ]
  },
  {
   "cell_type": "code",
   "execution_count": 98,
   "id": "70d3ac08",
   "metadata": {},
   "outputs": [
    {
     "data": {
      "text/plain": [
       "0.9119496855345912"
      ]
     },
     "execution_count": 98,
     "metadata": {},
     "output_type": "execute_result"
    }
   ],
   "source": [
    "sc.score(scaled_fish,fish_target)"
   ]
  },
  {
   "cell_type": "code",
   "execution_count": 67,
   "id": "6539ec8c",
   "metadata": {},
   "outputs": [],
   "source": [
    "total_pred = sc.predict(scaled_fish)"
   ]
  },
  {
   "cell_type": "code",
   "execution_count": 68,
   "id": "f894ff5d",
   "metadata": {},
   "outputs": [
    {
     "data": {
      "text/plain": [
       "159"
      ]
     },
     "execution_count": 68,
     "metadata": {},
     "output_type": "execute_result"
    }
   ],
   "source": [
    "len(total_pred)"
   ]
  },
  {
   "cell_type": "markdown",
   "id": "45c30d59",
   "metadata": {},
   "source": [
    "### 정답확인"
   ]
  },
  {
   "cell_type": "code",
   "execution_count": 86,
   "id": "14f2462a",
   "metadata": {},
   "outputs": [],
   "source": [
    "df = pd.concat([fish_input,fish_target], axis=1)"
   ]
  },
  {
   "cell_type": "code",
   "execution_count": 87,
   "id": "08066910",
   "metadata": {},
   "outputs": [],
   "source": [
    "df['predict'] = pd.DataFrame(total_pred)"
   ]
  },
  {
   "cell_type": "code",
   "execution_count": 88,
   "id": "793ca7dc",
   "metadata": {},
   "outputs": [
    {
     "data": {
      "text/html": [
       "<div>\n",
       "<style scoped>\n",
       "    .dataframe tbody tr th:only-of-type {\n",
       "        vertical-align: middle;\n",
       "    }\n",
       "\n",
       "    .dataframe tbody tr th {\n",
       "        vertical-align: top;\n",
       "    }\n",
       "\n",
       "    .dataframe thead th {\n",
       "        text-align: right;\n",
       "    }\n",
       "</style>\n",
       "<table border=\"1\" class=\"dataframe\">\n",
       "  <thead>\n",
       "    <tr style=\"text-align: right;\">\n",
       "      <th></th>\n",
       "      <th>Weight</th>\n",
       "      <th>Length</th>\n",
       "      <th>Diagonal</th>\n",
       "      <th>Height</th>\n",
       "      <th>Width</th>\n",
       "      <th>Species</th>\n",
       "      <th>predict</th>\n",
       "    </tr>\n",
       "  </thead>\n",
       "  <tbody>\n",
       "    <tr>\n",
       "      <th>0</th>\n",
       "      <td>242.0</td>\n",
       "      <td>25.4</td>\n",
       "      <td>30.0</td>\n",
       "      <td>11.5200</td>\n",
       "      <td>4.0200</td>\n",
       "      <td>Bream</td>\n",
       "      <td>Bream</td>\n",
       "    </tr>\n",
       "    <tr>\n",
       "      <th>1</th>\n",
       "      <td>290.0</td>\n",
       "      <td>26.3</td>\n",
       "      <td>31.2</td>\n",
       "      <td>12.4800</td>\n",
       "      <td>4.3056</td>\n",
       "      <td>Bream</td>\n",
       "      <td>Bream</td>\n",
       "    </tr>\n",
       "    <tr>\n",
       "      <th>2</th>\n",
       "      <td>340.0</td>\n",
       "      <td>26.5</td>\n",
       "      <td>31.1</td>\n",
       "      <td>12.3778</td>\n",
       "      <td>4.6961</td>\n",
       "      <td>Bream</td>\n",
       "      <td>Bream</td>\n",
       "    </tr>\n",
       "    <tr>\n",
       "      <th>3</th>\n",
       "      <td>363.0</td>\n",
       "      <td>29.0</td>\n",
       "      <td>33.5</td>\n",
       "      <td>12.7300</td>\n",
       "      <td>4.4555</td>\n",
       "      <td>Bream</td>\n",
       "      <td>Bream</td>\n",
       "    </tr>\n",
       "    <tr>\n",
       "      <th>4</th>\n",
       "      <td>430.0</td>\n",
       "      <td>29.0</td>\n",
       "      <td>34.0</td>\n",
       "      <td>12.4440</td>\n",
       "      <td>5.1340</td>\n",
       "      <td>Bream</td>\n",
       "      <td>Bream</td>\n",
       "    </tr>\n",
       "    <tr>\n",
       "      <th>...</th>\n",
       "      <td>...</td>\n",
       "      <td>...</td>\n",
       "      <td>...</td>\n",
       "      <td>...</td>\n",
       "      <td>...</td>\n",
       "      <td>...</td>\n",
       "      <td>...</td>\n",
       "    </tr>\n",
       "    <tr>\n",
       "      <th>154</th>\n",
       "      <td>12.2</td>\n",
       "      <td>12.2</td>\n",
       "      <td>13.4</td>\n",
       "      <td>2.0904</td>\n",
       "      <td>1.3936</td>\n",
       "      <td>Smelt</td>\n",
       "      <td>Smelt</td>\n",
       "    </tr>\n",
       "    <tr>\n",
       "      <th>155</th>\n",
       "      <td>13.4</td>\n",
       "      <td>12.4</td>\n",
       "      <td>13.5</td>\n",
       "      <td>2.4300</td>\n",
       "      <td>1.2690</td>\n",
       "      <td>Smelt</td>\n",
       "      <td>Smelt</td>\n",
       "    </tr>\n",
       "    <tr>\n",
       "      <th>156</th>\n",
       "      <td>12.2</td>\n",
       "      <td>13.0</td>\n",
       "      <td>13.8</td>\n",
       "      <td>2.2770</td>\n",
       "      <td>1.2558</td>\n",
       "      <td>Smelt</td>\n",
       "      <td>Smelt</td>\n",
       "    </tr>\n",
       "    <tr>\n",
       "      <th>157</th>\n",
       "      <td>19.7</td>\n",
       "      <td>14.3</td>\n",
       "      <td>15.2</td>\n",
       "      <td>2.8728</td>\n",
       "      <td>2.0672</td>\n",
       "      <td>Smelt</td>\n",
       "      <td>Perch</td>\n",
       "    </tr>\n",
       "    <tr>\n",
       "      <th>158</th>\n",
       "      <td>19.9</td>\n",
       "      <td>15.0</td>\n",
       "      <td>16.2</td>\n",
       "      <td>2.9322</td>\n",
       "      <td>1.8792</td>\n",
       "      <td>Smelt</td>\n",
       "      <td>Smelt</td>\n",
       "    </tr>\n",
       "  </tbody>\n",
       "</table>\n",
       "<p>159 rows × 7 columns</p>\n",
       "</div>"
      ],
      "text/plain": [
       "     Weight  Length  Diagonal   Height   Width Species predict\n",
       "0     242.0    25.4      30.0  11.5200  4.0200   Bream   Bream\n",
       "1     290.0    26.3      31.2  12.4800  4.3056   Bream   Bream\n",
       "2     340.0    26.5      31.1  12.3778  4.6961   Bream   Bream\n",
       "3     363.0    29.0      33.5  12.7300  4.4555   Bream   Bream\n",
       "4     430.0    29.0      34.0  12.4440  5.1340   Bream   Bream\n",
       "..      ...     ...       ...      ...     ...     ...     ...\n",
       "154    12.2    12.2      13.4   2.0904  1.3936   Smelt   Smelt\n",
       "155    13.4    12.4      13.5   2.4300  1.2690   Smelt   Smelt\n",
       "156    12.2    13.0      13.8   2.2770  1.2558   Smelt   Smelt\n",
       "157    19.7    14.3      15.2   2.8728  2.0672   Smelt   Perch\n",
       "158    19.9    15.0      16.2   2.9322  1.8792   Smelt   Smelt\n",
       "\n",
       "[159 rows x 7 columns]"
      ]
     },
     "execution_count": 88,
     "metadata": {},
     "output_type": "execute_result"
    }
   ],
   "source": [
    "df"
   ]
  },
  {
   "cell_type": "code",
   "execution_count": 95,
   "id": "2a50c404",
   "metadata": {},
   "outputs": [],
   "source": [
    "# 정답확인\n",
    "o_cnt = len(df[df['Species'] == df['predict']])"
   ]
  },
  {
   "cell_type": "code",
   "execution_count": 94,
   "id": "8801a3ba",
   "metadata": {},
   "outputs": [],
   "source": [
    "# 오답확인\n",
    "x_cnt = len(df[df['Species'] != df['predict']])"
   ]
  },
  {
   "cell_type": "code",
   "execution_count": 96,
   "id": "e9d3d74e",
   "metadata": {},
   "outputs": [
    {
     "name": "stdout",
     "output_type": "stream",
     "text": [
      "총 100%중 정답률91.19%, 오답률8.81%\n"
     ]
    }
   ],
   "source": [
    "all_cnt = len(df)\n",
    "o_p = np.round(o_cnt / all_cnt * 100,2)\n",
    "x_p = np.round(x_cnt / all_cnt * 100,2)\n",
    "\n",
    "print('총 100%중 정답률{0}%, 오답률{1}%'.format(o_p,x_p))"
   ]
  },
  {
   "cell_type": "code",
   "execution_count": null,
   "id": "0d52f7b2",
   "metadata": {},
   "outputs": [],
   "source": []
  },
  {
   "cell_type": "code",
   "execution_count": null,
   "id": "28927af1",
   "metadata": {},
   "outputs": [],
   "source": []
  },
  {
   "cell_type": "code",
   "execution_count": null,
   "id": "0716ac5e",
   "metadata": {},
   "outputs": [],
   "source": []
  }
 ],
 "metadata": {
  "kernelspec": {
   "display_name": "sj_prj",
   "language": "python",
   "name": "sj_prj"
  },
  "language_info": {
   "codemirror_mode": {
    "name": "ipython",
    "version": 3
   },
   "file_extension": ".py",
   "mimetype": "text/x-python",
   "name": "python",
   "nbconvert_exporter": "python",
   "pygments_lexer": "ipython3",
   "version": "3.9.16"
  }
 },
 "nbformat": 4,
 "nbformat_minor": 5
}
